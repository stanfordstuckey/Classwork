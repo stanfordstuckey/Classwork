{
  "nbformat": 4,
  "nbformat_minor": 0,
  "metadata": {
    "kernelspec": {
      "display_name": "R",
      "language": "R",
      "name": "ir"
    },
    "language_info": {
      "codemirror_mode": "r",
      "file_extension": ".r",
      "mimetype": "text/x-r-source",
      "name": "R",
      "pygments_lexer": "r",
      "version": "4.0.2"
    },
    "colab": {
      "name": "inference.ipynb",
      "provenance": [],
      "collapsed_sections": [],
      "include_colab_link": true
    }
  },
  "cells": [
    {
      "cell_type": "markdown",
      "metadata": {
        "id": "view-in-github",
        "colab_type": "text"
      },
      "source": [
        "<a href=\"https://colab.research.google.com/github/stanfordstuckey/Classwork/blob/main/inference.ipynb\" target=\"_parent\"><img src=\"https://colab.research.google.com/assets/colab-badge.svg\" alt=\"Open In Colab\"/></a>"
      ]
    },
    {
      "cell_type": "markdown",
      "metadata": {
        "id": "BNZCzjHXzuUx"
      },
      "source": [
        "# Homework 5: Statistical Analyses of Clinical Datasets\n",
        "\n",
        "In this assignment you will gain experience analyzing preprocessed clinical datasets. You will practice using common time-saving tools in the `R` programming language that are ideally suited to these tasks. \n",
        "\n",
        "You will work with a dataset that we have prepared for you using a process similar to what you did in HW 3-4. The dataset describes patients from the [MIMIC III database](https://mimic.physionet.org/mimictables/patients/) who were put on mechanical ventilation and were stable for 12 hours. Some of these patients then experienced a sudden and sustained drop in oxygenation, while others did not. \n",
        "\n",
        "We have recorded a variety of features about each patient before the 12-hour mark (the index time), including counts of all prior diagnoses (aggregated with IC), all respiratory-related concepts in their notes, and indicators of events recorded in the patient charts. Indicator features are the number of times each event was recorded in the patient record, regardless of what the measured value was. For those chart events which have numeric values associated wtih them (e.g. lab tests) we found those in which a value was recorded for over 85% of the cohort and included the latest recorded value of those features. In addition, we have included demographic features (age and sex). For the small number of patients who did not have one or more of those features recorded, we used column-mean imputation to impute them. We also recorded whether or not each patient went on to experience a sudden and sustained drop in their oxygenation (the exposure). Finally, we recorded whether or not each patient eventually died during their hospitalization (the outcome). All of that data is contained in `patient_feature_matrix.csv`. Its companion file `feature_descriptions.csv` has descriptions of each of the features and their provenance. The final dataset you have access to is called `cohort.csv`, which contains the index time, exposure time (if any), in-hospital time of death (if any), and the time of censoring (when the patient was released from the hospital).\n",
        "\n",
        "Please edit this document directly using either Jupyter Notebook or R markdown in R Studio and answer each of the questions below in-line. Jupyter and R markdown are useful tools for reproducible research that you will use over and over again in your later work. They are worth taking the short amount of time necessary to learn them. Turn in a single `.pdf` document showing all of your code and output for the entire assignment, with each question clearly demarcated. Submit your completed assignment through Canvas.\n",
        "\n",
        "**Grading**: All answers will be graded on the correctness and quality of your code and analyses. Partial credit will be given based on a demonstration of conceptual understanding and how close you can come to solving the problem. At various points we will ask you to produce particular values: the correctness of these numbers will not be used for your grade - they are tools for us to get an idea about what your code is doing.\n",
        "\n",
        "-----"
      ]
    },
    {
      "cell_type": "markdown",
      "metadata": {
        "id": "xaXTUMSazuU3"
      },
      "source": [
        "## 0. Getting Ready"
      ]
    },
    {
      "cell_type": "markdown",
      "metadata": {
        "id": "5OQWmiFZzuU3"
      },
      "source": [
        "The first thing we need to do is load all of the important packages we will use for this assignment. Please load the packages  `caret`,  `ggplot2`, and `dplyr`. There are several other packages you will need or may want to use during the course of the assignment but if you need a package other than one of these three for a particular problem it will be noted in the problem statement.\n",
        "\n",
        "-----"
      ]
    },
    {
      "cell_type": "markdown",
      "metadata": {
        "id": "ynwJMVgvzuU4"
      },
      "source": [
        "Next, load the CSV files `patient_feature_matrix.csv`, `cohort.csv` and `feature_descriptions.csv` as data frames.\n",
        "\n",
        "-----"
      ]
    },
    {
      "cell_type": "code",
      "metadata": {
        "colab": {
          "base_uri": "https://localhost:8080/"
        },
        "id": "X-KpVSS9LS6V",
        "outputId": "806dd050-bd20-44de-ce3a-180cbd9a0c28"
      },
      "source": [
        "install.packages(\"caret\")\n",
        "library(caret)\n",
        "library(ggplot2)\n",
        "library(dplyr)"
      ],
      "execution_count": null,
      "outputs": [
        {
          "output_type": "stream",
          "name": "stderr",
          "text": [
            "Installing package into ‘/usr/local/lib/R/site-library’\n",
            "(as ‘lib’ is unspecified)\n",
            "\n",
            "also installing the dependencies ‘listenv’, ‘parallelly’, ‘future’, ‘globals’, ‘future.apply’, ‘progressr’, ‘numDeriv’, ‘SQUAREM’, ‘lava’, ‘prodlim’, ‘proxy’, ‘iterators’, ‘gower’, ‘ipred’, ‘timeDate’, ‘e1071’, ‘foreach’, ‘ModelMetrics’, ‘plyr’, ‘pROC’, ‘recipes’, ‘reshape2’\n",
            "\n",
            "\n",
            "Loading required package: ggplot2\n",
            "\n",
            "Loading required package: lattice\n",
            "\n",
            "Warning message in system(\"timedatectl\", intern = TRUE):\n",
            "“running command 'timedatectl' had status 1”\n",
            "\n",
            "Attaching package: ‘dplyr’\n",
            "\n",
            "\n",
            "The following objects are masked from ‘package:stats’:\n",
            "\n",
            "    filter, lag\n",
            "\n",
            "\n",
            "The following objects are masked from ‘package:base’:\n",
            "\n",
            "    intersect, setdiff, setequal, union\n",
            "\n",
            "\n"
          ]
        }
      ]
    },
    {
      "cell_type": "code",
      "metadata": {
        "colab": {
          "base_uri": "https://localhost:8080/"
        },
        "id": "9pS6jHShhS60",
        "outputId": "98cf9466-dc5c-4632-91a3-f21b872232f6"
      },
      "source": [
        "library(readr)\n",
        "cohort <- read_csv(\"/content/cohort.csv\")"
      ],
      "execution_count": 1,
      "outputs": [
        {
          "output_type": "stream",
          "name": "stderr",
          "text": [
            "\u001b[1m\u001b[1mRows: \u001b[1m\u001b[22m\u001b[34m\u001b[34m3455\u001b[34m\u001b[39m \u001b[1m\u001b[1mColumns: \u001b[1m\u001b[22m\u001b[34m\u001b[34m8\u001b[34m\u001b[39m\n",
            "\n",
            "\u001b[36m──\u001b[39m \u001b[1m\u001b[1mColumn specification\u001b[1m\u001b[22m \u001b[36m────────────────────────────────────────────────────────\u001b[39m\n",
            "\u001b[1mDelimiter:\u001b[22m \",\"\n",
            "\u001b[31mchr\u001b[39m  (2): death_in_stay, oxy_drop\n",
            "\u001b[32mdbl\u001b[39m  (2): subject_id, icustay_id\n",
            "\u001b[34mdttm\u001b[39m (4): deathtime, censor_time, index_time, exposure_time\n",
            "\n",
            "\n",
            "\u001b[36mℹ\u001b[39m Use \u001b[30m\u001b[47m\u001b[30m\u001b[47m`spec()`\u001b[47m\u001b[30m\u001b[49m\u001b[39m to retrieve the full column specification for this data.\n",
            "\u001b[36mℹ\u001b[39m Specify the column types or set \u001b[30m\u001b[47m\u001b[30m\u001b[47m`show_col_types = FALSE`\u001b[47m\u001b[30m\u001b[49m\u001b[39m to quiet this message.\n",
            "\n"
          ]
        }
      ]
    },
    {
      "cell_type": "code",
      "metadata": {
        "colab": {
          "base_uri": "https://localhost:8080/"
        },
        "id": "NiIYoakZhZLJ",
        "outputId": "0d8648de-48c7-4282-f896-3fff8a84b3f5"
      },
      "source": [
        "library(readr)\n",
        "feature_descriptions <- read_csv(\"/content/feature_descriptions.csv\")"
      ],
      "execution_count": 3,
      "outputs": [
        {
          "output_type": "stream",
          "name": "stderr",
          "text": [
            "\u001b[1m\u001b[1mRows: \u001b[1m\u001b[22m\u001b[34m\u001b[34m2438\u001b[34m\u001b[39m \u001b[1m\u001b[1mColumns: \u001b[1m\u001b[22m\u001b[34m\u001b[34m4\u001b[34m\u001b[39m\n",
            "\n",
            "\u001b[36m──\u001b[39m \u001b[1m\u001b[1mColumn specification\u001b[1m\u001b[22m \u001b[36m────────────────────────────────────────────────────────\u001b[39m\n",
            "\u001b[1mDelimiter:\u001b[22m \",\"\n",
            "\u001b[31mchr\u001b[39m (4): feature, feature_type, code, description\n",
            "\n",
            "\n",
            "\u001b[36mℹ\u001b[39m Use \u001b[30m\u001b[47m\u001b[30m\u001b[47m`spec()`\u001b[47m\u001b[30m\u001b[49m\u001b[39m to retrieve the full column specification for this data.\n",
            "\u001b[36mℹ\u001b[39m Specify the column types or set \u001b[30m\u001b[47m\u001b[30m\u001b[47m`show_col_types = FALSE`\u001b[47m\u001b[30m\u001b[49m\u001b[39m to quiet this message.\n",
            "\n"
          ]
        }
      ]
    },
    {
      "cell_type": "code",
      "metadata": {
        "colab": {
          "base_uri": "https://localhost:8080/"
        },
        "id": "aSeeNzsBhmDw",
        "outputId": "92e71b09-e327-4868-c287-7eb3f31fb641"
      },
      "source": [
        "library(readr)\n",
        "patient_feature_matrix <- read_csv(\"/content/patient_feature_matrix.csv\")"
      ],
      "execution_count": 4,
      "outputs": [
        {
          "output_type": "stream",
          "name": "stderr",
          "text": [
            "\u001b[1m\u001b[1mRows: \u001b[1m\u001b[22m\u001b[34m\u001b[34m3455\u001b[34m\u001b[39m \u001b[1m\u001b[1mColumns: \u001b[1m\u001b[22m\u001b[34m\u001b[34m2440\u001b[34m\u001b[39m\n",
            "\n",
            "\u001b[36m──\u001b[39m \u001b[1m\u001b[1mColumn specification\u001b[1m\u001b[22m \u001b[36m────────────────────────────────────────────────────────\u001b[39m\n",
            "\u001b[1mDelimiter:\u001b[22m \",\"\n",
            "\u001b[31mchr\u001b[39m    (3): death_in_stay, oxy_drop, gender\n",
            "\u001b[32mdbl\u001b[39m (2437): subject_id, age_in_days, icd9_ ADENOID CYSTIC CARCINOMA/SDA, icd...\n",
            "\n",
            "\n",
            "\u001b[36mℹ\u001b[39m Use \u001b[30m\u001b[47m\u001b[30m\u001b[47m`spec()`\u001b[47m\u001b[30m\u001b[49m\u001b[39m to retrieve the full column specification for this data.\n",
            "\u001b[36mℹ\u001b[39m Specify the column types or set \u001b[30m\u001b[47m\u001b[30m\u001b[47m`show_col_types = FALSE`\u001b[47m\u001b[30m\u001b[49m\u001b[39m to quiet this message.\n",
            "\n"
          ]
        }
      ]
    },
    {
      "cell_type": "markdown",
      "metadata": {
        "id": "euVvkCJdzuU4"
      },
      "source": [
        "## 1. (5 pts) Preprocessing"
      ]
    },
    {
      "cell_type": "markdown",
      "metadata": {
        "id": "qumvi09VzuU5"
      },
      "source": [
        "### 1.1 (1 pts) Creating Feature Matrix and Outcome Vector\n",
        "\n",
        "Split the patient matrix up into a numerical matrix of features and a character vector of the outcome (died or survived). For the feature matrix, exclude the subject ID and the outcome variable and use `data.matrix()`. \n",
        "\n",
        "----"
      ]
    },
    {
      "cell_type": "code",
      "metadata": {
        "colab": {
          "base_uri": "https://localhost:8080/",
          "height": 1000
        },
        "id": "uIGq-lmQhzAO",
        "outputId": "8fb7fde7-d8ec-4775-add9-266fb1985cd4"
      },
      "source": [
        "View(patient_feature_matrix)"
      ],
      "execution_count": 5,
      "outputs": [
        {
          "output_type": "display_data",
          "data": {
            "text/markdown": "\nA spec_tbl_df: 3455 × 2440\n\n| subject_id &lt;dbl&gt; | death_in_stay &lt;chr&gt; | oxy_drop &lt;chr&gt; | gender &lt;chr&gt; | age_in_days &lt;dbl&gt; | icd9_ ADENOID CYSTIC CARCINOMA/SDA &lt;dbl&gt; | icd9_ INTRACTABLE EPILEPSY/SDA &lt;dbl&gt; | icd9_?AORTIC DISSECTION &lt;dbl&gt; | icd9_?TIA;IV HEPARIN &lt;dbl&gt; | icd9_+ETT\\CATH &lt;dbl&gt; | ⋯ ⋯ | chartvalue_815 &lt;dbl&gt; | chartvalue_821 &lt;dbl&gt; | chartvalue_824 &lt;dbl&gt; | chartvalue_825 &lt;dbl&gt; | chartvalue_828 &lt;dbl&gt; | chartvalue_829 &lt;dbl&gt; | chartvalue_833 &lt;dbl&gt; | chartvalue_837 &lt;dbl&gt; | chartvalue_861 &lt;dbl&gt; | chartvalue_87 &lt;dbl&gt; |\n|---|---|---|---|---|---|---|---|---|---|---|---|---|---|---|---|---|---|---|---|---|\n|  91 | died     | stable   | F |  29809.000 | 0 | 0 | 0 | 0 | 0 | ⋯ | 1.50000 | 1.700000 | 14.80000 | 42.40000 |  77.0000 | 3.900000 | 3.040000 | 144.0000 |  6.50000 | 15.00000 |\n| 106 | died     | oxy_drop | M |  10358.333 | 0 | 0 | 0 | 0 | 0 | ⋯ | 1.40027 | 2.600000 | 14.75597 | 35.50777 | 226.0000 | 3.700000 | 5.600000 | 136.0000 | 26.00000 | 11.00000 |\n| 111 | survived | oxy_drop | F |  24388.979 | 0 | 0 | 0 | 0 | 0 | ⋯ | 1.40027 | 2.012763 | 12.20000 | 53.50000 | 208.4931 | 4.101856 | 3.535677 | 139.2208 | 12.65352 | 13.00000 |\n| 117 | died     | oxy_drop | F |  18224.075 | 0 | 0 | 0 | 0 | 0 | ⋯ | 1.90000 | 2.300000 | 17.20000 | 40.10000 |  42.0000 | 5.000000 | 2.310000 | 136.0000 |  7.00000 | 11.00000 |\n|   3 | survived | oxy_drop | M |  27951.375 | 0 | 0 | 0 | 0 | 0 | ⋯ | 1.50000 | 2.300000 | 14.40000 | 36.20000 | 359.0000 | 4.400000 | 3.300000 | 138.0000 | 24.40000 | 11.00000 |\n|  31 | died     | oxy_drop | M |  26396.000 | 0 | 0 | 0 | 0 | 0 | ⋯ | 1.10000 | 1.700000 | 13.00000 | 28.50000 | 184.0000 | 3.700000 | 2.940000 | 133.0000 |  6.90000 | 11.00000 |\n|  36 | survived | oxy_drop | M |  25474.542 | 0 | 0 | 0 | 0 | 0 | ⋯ | 1.50000 | 2.000000 | 16.00000 | 33.10000 | 270.0000 | 3.900000 | 3.810000 | 129.0000 | 21.90000 | 11.00000 |\n|  38 | survived | oxy_drop | M |  27738.986 | 0 | 0 | 0 | 0 | 0 | ⋯ | 1.50000 | 2.000000 | 14.80000 | 32.00000 |  99.0000 | 3.800000 | 3.200000 | 138.0000 | 13.90000 | 10.00000 |\n| 357 | survived | oxy_drop | M |  22905.917 | 0 | 0 | 0 | 0 | 0 | ⋯ | 1.10000 | 2.300000 | 13.20000 | 28.10000 | 111.0000 | 4.200000 | 3.910000 | 140.0000 | 10.50000 | 11.00000 |\n| 360 | survived | stable   | F |  27900.292 | 0 | 0 | 0 | 0 | 0 | ⋯ | 1.10000 | 2.700000 | 12.90000 | 24.70000 | 203.0000 | 4.100000 | 3.160000 | 142.0000 | 12.10000 | 11.00000 |\n| 137 | survived | oxy_drop | M |  27291.125 | 0 | 0 | 0 | 0 | 0 | ⋯ | 1.20000 | 2.012763 | 13.20000 | 33.70000 | 176.0000 | 4.300000 | 3.290000 | 133.0000 | 10.40000 | 12.83128 |\n| 138 | survived | stable   | M |  18336.042 | 0 | 0 | 0 | 0 | 0 | ⋯ | 2.70000 | 2.600000 | 20.70000 | 37.00000 | 222.0000 | 4.600000 | 3.660000 | 135.0000 | 14.70000 | 12.00000 |\n| 141 | died     | oxy_drop | M |  29407.500 | 0 | 0 | 0 | 0 | 0 | ⋯ | 1.30000 | 2.500000 | 14.10000 | 27.10000 |  46.0000 | 4.200000 | 3.020000 | 139.0000 |  1.80000 | 11.00000 |\n| 143 | survived | oxy_drop | M |  18652.375 | 0 | 0 | 0 | 0 | 0 | ⋯ | 1.40000 | 1.600000 | 15.70000 | 30.20000 | 112.0000 | 3.400000 | 3.570000 | 142.0000 |  4.00000 | 17.00000 |\n| 144 | survived | stable   | M |  19820.417 | 0 | 0 | 0 | 0 | 0 | ⋯ | 1.00000 | 1.700000 | 12.20000 | 23.10000 | 264.0000 | 4.200000 | 4.330000 | 139.0000 | 10.90000 | 14.00000 |\n| 146 | survived | stable   | M |  31253.438 | 0 | 0 | 0 | 0 | 0 | ⋯ | 1.20000 | 2.000000 | 13.00000 | 30.30000 | 290.0000 | 5.900000 | 2.960000 | 127.0000 | 24.10000 | 14.00000 |\n| 147 | survived | stable   | M |   9002.333 | 0 | 0 | 0 | 0 | 0 | ⋯ | 1.00000 | 2.100000 | 12.50000 | 23.90000 | 148.0000 | 4.000000 | 4.090000 | 139.0000 | 13.40000 | 12.83128 |\n|  43 | survived | stable   | M |  11971.375 | 0 | 0 | 0 | 0 | 0 | ⋯ | 1.00000 | 1.700000 | 12.20000 | 25.70000 | 209.0000 | 4.800000 | 3.980000 | 134.0000 | 11.40000 | 14.00000 |\n|  45 | survived | stable   | M |  15488.542 | 0 | 0 | 0 | 0 | 0 | ⋯ | 1.20000 | 1.300000 | 13.10000 | 28.40000 | 247.0000 | 4.300000 | 3.600000 | 140.0000 | 19.00000 | 12.83128 |\n|  71 | survived | stable   | F |  13334.500 | 0 | 0 | 0 | 0 | 0 | ⋯ | 1.10000 | 4.200000 | 13.10000 | 26.10000 | 215.0000 | 3.200000 | 3.600000 | 143.0000 | 15.00000 | 13.00000 |\n| 328 | survived | oxy_drop | M |  24075.125 | 0 | 0 | 0 | 0 | 0 | ⋯ | 1.10000 | 2.000000 | 12.60000 | 31.80000 | 169.0000 | 3.700000 | 5.380000 | 141.0000 | 10.40000 | 12.83128 |\n| 340 | survived | stable   | F |  22108.542 | 0 | 0 | 0 | 0 | 0 | ⋯ | 1.20000 | 1.500000 | 13.80000 | 25.20000 | 384.0000 | 4.900000 | 3.310000 | 143.0000 | 14.60000 | 18.00000 |\n| 342 | survived | stable   | F |  26680.181 | 0 | 0 | 0 | 0 | 0 | ⋯ | 1.40027 | 3.300000 | 14.75597 | 35.50777 | 230.0000 | 4.100000 | 3.520000 | 137.0000 |  9.00000 | 12.00000 |\n| 345 | survived | stable   | F | 109574.500 | 0 | 0 | 0 | 0 | 0 | ⋯ | 1.10000 | 1.300000 | 13.30000 | 30.60000 | 253.0000 | 3.400000 | 4.140000 | 139.0000 |  9.80000 | 12.00000 |\n| 346 | survived | stable   | F |  30927.431 | 0 | 0 | 0 | 0 | 0 | ⋯ | 1.70000 | 1.800000 | 15.70000 | 29.10000 | 102.0000 | 3.200000 | 3.220000 | 141.0000 |  5.80000 | 14.00000 |\n| 354 | survived | oxy_drop | M |  21717.083 | 0 | 0 | 0 | 0 | 0 | ⋯ | 1.40000 | 2.100000 | 14.40000 | 28.40000 | 312.0000 | 4.500000 | 4.340000 | 137.0000 | 10.30000 | 13.00000 |\n| 480 | survived | stable   | M |  17887.583 | 0 | 0 | 0 | 0 | 0 | ⋯ | 1.50000 | 2.200000 | 15.10000 | 28.40000 | 208.4931 | 4.200000 | 3.080000 | 135.0000 |  9.40000 | 15.00000 |\n| 371 | survived | stable   | M |  12110.531 | 0 | 0 | 0 | 0 | 0 | ⋯ | 1.10000 | 1.800000 | 12.80000 | 23.70000 | 214.0000 | 3.600000 | 3.960000 | 140.0000 |  8.00000 | 13.00000 |\n| 394 | survived | stable   | F |  28368.042 | 0 | 0 | 0 | 0 | 0 | ⋯ | 2.30000 | 2.400000 | 19.00000 | 58.30000 | 106.0000 | 4.100000 | 3.110000 | 136.0000 |  8.80000 | 14.00000 |\n| 397 | survived | stable   | M |   7289.375 | 0 | 0 | 0 | 0 | 0 | ⋯ | 1.40027 | 2.000000 | 14.75597 | 35.50777 | 281.0000 | 3.900000 | 4.590000 | 141.0000 | 15.10000 | 13.00000 |\n| ⋮ | ⋮ | ⋮ | ⋮ | ⋮ | ⋮ | ⋮ | ⋮ | ⋮ | ⋮ | ⋱ | ⋮ | ⋮ | ⋮ | ⋮ | ⋮ | ⋮ | ⋮ | ⋮ | ⋮ | ⋮ |\n| 32625 | died     | stable   | F |  18320.21 | 0 | 0 | 0 | 0 | 0 | ⋯ | 1.10000 | 2.200000 | 12.30000 | 22.80000 | 137.0000 | 3.600000 | 3.240000 | 143.0000 | 15.30000 | 12.00000 |\n| 32637 | died     | stable   | F |  12263.24 | 0 | 0 | 0 | 0 | 0 | ⋯ | 1.30000 | 2.300000 | 14.70000 | 26.70000 | 299.0000 | 4.300000 | 4.280000 | 151.0000 | 17.80000 | 11.00000 |\n| 32639 | survived | stable   | F |  31540.06 | 0 | 0 | 0 | 0 | 0 | ⋯ | 1.40027 | 2.012763 | 14.75597 | 35.50777 | 208.4931 | 4.101856 | 3.535677 | 139.2208 | 12.65352 | 13.00000 |\n| 29721 | survived | oxy_drop | M |  24119.88 | 0 | 0 | 0 | 0 | 0 | ⋯ | 1.10000 | 2.300000 | 12.60000 | 28.40000 | 389.0000 | 4.800000 | 3.080000 | 140.0000 | 11.50000 | 12.00000 |\n| 29730 | survived | oxy_drop | F |  29292.02 | 0 | 0 | 0 | 0 | 0 | ⋯ | 1.20000 | 2.200000 | 13.50000 | 29.70000 | 622.0000 | 3.900000 | 3.270000 | 138.0000 | 19.10000 | 15.00000 |\n| 29732 | died     | oxy_drop | F |  27408.46 | 0 | 0 | 0 | 0 | 0 | ⋯ | 1.50000 | 3.200000 | 16.20000 | 38.30000 | 224.0000 | 5.100000 | 3.060000 | 127.0000 | 26.30000 | 15.00000 |\n| 32465 | survived | stable   | F |  24532.07 | 0 | 0 | 0 | 0 | 0 | ⋯ | 1.20000 | 2.012763 | 13.60000 | 50.50000 |  80.0000 | 4.300000 | 3.310000 | 139.0000 |  6.70000 | 13.00000 |\n| 32467 | survived | oxy_drop | M |  19410.61 | 0 | 0 | 0 | 0 | 0 | ⋯ | 1.10000 | 2.100000 | 12.70000 | 29.70000 | 167.0000 | 3.900000 | 3.730000 | 136.0000 |  9.10000 | 13.00000 |\n| 32476 | died     | oxy_drop | M |  20870.42 | 0 | 0 | 0 | 0 | 0 | ⋯ | 1.60000 | 1.700000 | 17.90000 | 50.70000 | 165.0000 | 4.500000 | 3.490000 | 144.0000 |  9.80000 | 13.00000 |\n| 32381 | survived | oxy_drop | M | 109574.12 | 0 | 0 | 0 | 0 | 0 | ⋯ | 1.40027 | 2.012763 | 14.75597 | 35.50777 | 178.0000 | 3.800000 | 4.010000 | 144.0000 |  6.70000 | 14.00000 |\n| 32495 | survived | oxy_drop | F |  24256.03 | 0 | 0 | 0 | 0 | 0 | ⋯ | 1.50000 | 2.012763 | 16.60000 | 55.60000 | 103.0000 | 3.900000 | 3.030000 | 135.0000 | 24.00000 | 12.83128 |\n| 32496 | survived | oxy_drop | M |  17371.46 | 0 | 0 | 0 | 0 | 0 | ⋯ | 1.50000 | 2.300000 | 16.70000 | 44.80000 | 143.0000 | 3.900000 | 3.040000 | 143.0000 | 10.60000 | 12.00000 |\n| 32500 | survived | oxy_drop | F |  23057.12 | 0 | 0 | 0 | 0 | 0 | ⋯ | 1.10000 | 2.000000 | 13.20000 | 34.50000 |  56.0000 | 4.400000 | 2.970000 | 139.0000 |  3.70000 | 13.00000 |\n| 32104 | survived | stable   | M |  23561.19 | 0 | 0 | 0 | 0 | 0 | ⋯ | 1.30000 | 1.700000 | 14.20000 | 27.40000 | 162.0000 | 7.000000 | 3.530000 | 142.0000 |  9.70000 | 13.00000 |\n| 32128 | survived | stable   | F |  27711.44 | 0 | 0 | 0 | 0 | 0 | ⋯ | 1.10000 | 2.400000 | 13.20000 | 31.60000 | 246.0000 | 4.500000 | 2.890000 | 138.0000 | 14.70000 | 12.00000 |\n| 31971 | survived | stable   | F |  31767.10 | 0 | 0 | 0 | 0 | 0 | ⋯ | 1.40000 | 2.012763 | 16.00000 | 53.60000 | 183.0000 | 4.000000 | 4.040000 | 133.0000 |  9.60000 | 15.00000 |\n| 31973 | survived | stable   | F | 109575.02 | 0 | 0 | 0 | 0 | 0 | ⋯ | 1.40027 | 2.000000 | 14.75597 | 35.50777 | 208.4931 | 4.500000 | 3.535677 | 133.0000 | 12.65352 | 14.00000 |\n| 31974 | survived | stable   | M |  23550.38 | 0 | 0 | 0 | 0 | 0 | ⋯ | 1.30000 | 2.300000 | 15.20000 | 28.00000 | 143.0000 | 4.200000 | 3.960000 | 136.0000 | 11.80000 | 13.00000 |\n| 31981 | survived | stable   | F |  21046.09 | 0 | 0 | 0 | 0 | 0 | ⋯ | 1.30000 | 2.000000 | 14.60000 | 29.10000 | 256.0000 | 4.200000 | 3.240000 | 137.0000 |  9.50000 | 13.00000 |\n| 32661 | survived | oxy_drop | F |  26640.02 | 0 | 0 | 0 | 0 | 0 | ⋯ | 1.10000 | 2.100000 | 13.40000 | 24.70000 |  49.0000 | 4.200000 | 3.460000 | 136.0000 | 12.90000 |  9.00000 |\n| 32672 | survived | stable   | F | 109573.98 | 0 | 0 | 0 | 0 | 0 | ⋯ | 1.20000 | 2.100000 | 13.50000 | 42.70000 | 210.0000 | 4.300000 | 3.570000 | 138.0000 |  4.20000 | 13.00000 |\n| 32394 | survived | stable   | M |  29932.25 | 0 | 0 | 0 | 0 | 0 | ⋯ | 1.40027 | 2.400000 | 14.75597 | 35.50777 | 250.0000 | 3.900000 | 4.090000 | 142.0000 | 18.70000 | 14.00000 |\n| 32395 | survived | stable   | F |  31344.50 | 0 | 0 | 0 | 0 | 0 | ⋯ | 1.10000 | 2.100000 | 12.70000 | 25.60000 | 210.0000 | 4.500000 | 3.870000 | 139.0000 | 10.30000 | 12.00000 |\n| 32396 | survived | oxy_drop | M |  29261.54 | 0 | 0 | 0 | 0 | 0 | ⋯ | 1.20000 | 2.500000 | 14.00000 | 25.30000 | 143.0000 | 4.200000 | 3.460000 | 136.0000 |  4.50000 | 15.00000 |\n| 32399 | survived | oxy_drop | M |  17680.46 | 0 | 0 | 0 | 0 | 0 | ⋯ | 1.20000 | 2.800000 | 14.20000 | 26.80000 | 319.0000 | 3.800000 | 3.510000 | 148.0000 | 11.30000 | 16.00000 |\n| 31983 | survived | oxy_drop | M |  30843.50 | 0 | 0 | 0 | 0 | 0 | ⋯ | 1.20000 | 1.900000 | 13.60000 | 84.70000 | 184.0000 | 4.000000 | 3.540000 | 149.0000 |  6.00000 | 16.00000 |\n| 32506 | survived | stable   | F |  23776.62 | 0 | 0 | 0 | 0 | 0 | ⋯ | 1.00000 | 2.500000 | 12.30000 | 22.30000 | 190.0000 | 3.700000 | 3.530000 | 139.0000 | 14.80000 | 12.00000 |\n| 32513 | survived | stable   | F |  28793.46 | 0 | 0 | 0 | 0 | 0 | ⋯ | 1.40027 | 1.800000 | 14.75597 | 35.50777 | 214.0000 | 4.800000 | 3.870000 | 142.0000 | 13.20000 | 16.00000 |\n| 32408 | survived | stable   | M |  19813.38 | 0 | 0 | 0 | 0 | 0 | ⋯ | 1.40027 | 2.700000 | 14.75597 | 35.50777 | 163.0000 | 3.600000 | 4.090000 | 138.0000 |  6.30000 | 12.00000 |\n| 32417 | survived | stable   | M |  20063.10 | 0 | 0 | 0 | 0 | 0 | ⋯ | 1.30000 | 2.000000 | 14.50000 | 43.10000 | 202.0000 | 4.600000 | 3.290000 | 138.0000 | 10.60000 | 13.00000 |\n\n",
            "text/latex": "A spec\\_tbl\\_df: 3455 × 2440\n\\begin{tabular}{lllllllllllllllllllll}\n subject\\_id & death\\_in\\_stay & oxy\\_drop & gender & age\\_in\\_days & icd9\\_ ADENOID CYSTIC CARCINOMA/SDA & icd9\\_ INTRACTABLE EPILEPSY/SDA & icd9\\_?AORTIC DISSECTION & icd9\\_?TIA;IV HEPARIN & icd9\\_+ETT\\textbackslash{}CATH & ⋯ & chartvalue\\_815 & chartvalue\\_821 & chartvalue\\_824 & chartvalue\\_825 & chartvalue\\_828 & chartvalue\\_829 & chartvalue\\_833 & chartvalue\\_837 & chartvalue\\_861 & chartvalue\\_87\\\\\n <dbl> & <chr> & <chr> & <chr> & <dbl> & <dbl> & <dbl> & <dbl> & <dbl> & <dbl> & ⋯ & <dbl> & <dbl> & <dbl> & <dbl> & <dbl> & <dbl> & <dbl> & <dbl> & <dbl> & <dbl>\\\\\n\\hline\n\t  91 & died     & stable   & F &  29809.000 & 0 & 0 & 0 & 0 & 0 & ⋯ & 1.50000 & 1.700000 & 14.80000 & 42.40000 &  77.0000 & 3.900000 & 3.040000 & 144.0000 &  6.50000 & 15.00000\\\\\n\t 106 & died     & oxy\\_drop & M &  10358.333 & 0 & 0 & 0 & 0 & 0 & ⋯ & 1.40027 & 2.600000 & 14.75597 & 35.50777 & 226.0000 & 3.700000 & 5.600000 & 136.0000 & 26.00000 & 11.00000\\\\\n\t 111 & survived & oxy\\_drop & F &  24388.979 & 0 & 0 & 0 & 0 & 0 & ⋯ & 1.40027 & 2.012763 & 12.20000 & 53.50000 & 208.4931 & 4.101856 & 3.535677 & 139.2208 & 12.65352 & 13.00000\\\\\n\t 117 & died     & oxy\\_drop & F &  18224.075 & 0 & 0 & 0 & 0 & 0 & ⋯ & 1.90000 & 2.300000 & 17.20000 & 40.10000 &  42.0000 & 5.000000 & 2.310000 & 136.0000 &  7.00000 & 11.00000\\\\\n\t   3 & survived & oxy\\_drop & M &  27951.375 & 0 & 0 & 0 & 0 & 0 & ⋯ & 1.50000 & 2.300000 & 14.40000 & 36.20000 & 359.0000 & 4.400000 & 3.300000 & 138.0000 & 24.40000 & 11.00000\\\\\n\t  31 & died     & oxy\\_drop & M &  26396.000 & 0 & 0 & 0 & 0 & 0 & ⋯ & 1.10000 & 1.700000 & 13.00000 & 28.50000 & 184.0000 & 3.700000 & 2.940000 & 133.0000 &  6.90000 & 11.00000\\\\\n\t  36 & survived & oxy\\_drop & M &  25474.542 & 0 & 0 & 0 & 0 & 0 & ⋯ & 1.50000 & 2.000000 & 16.00000 & 33.10000 & 270.0000 & 3.900000 & 3.810000 & 129.0000 & 21.90000 & 11.00000\\\\\n\t  38 & survived & oxy\\_drop & M &  27738.986 & 0 & 0 & 0 & 0 & 0 & ⋯ & 1.50000 & 2.000000 & 14.80000 & 32.00000 &  99.0000 & 3.800000 & 3.200000 & 138.0000 & 13.90000 & 10.00000\\\\\n\t 357 & survived & oxy\\_drop & M &  22905.917 & 0 & 0 & 0 & 0 & 0 & ⋯ & 1.10000 & 2.300000 & 13.20000 & 28.10000 & 111.0000 & 4.200000 & 3.910000 & 140.0000 & 10.50000 & 11.00000\\\\\n\t 360 & survived & stable   & F &  27900.292 & 0 & 0 & 0 & 0 & 0 & ⋯ & 1.10000 & 2.700000 & 12.90000 & 24.70000 & 203.0000 & 4.100000 & 3.160000 & 142.0000 & 12.10000 & 11.00000\\\\\n\t 137 & survived & oxy\\_drop & M &  27291.125 & 0 & 0 & 0 & 0 & 0 & ⋯ & 1.20000 & 2.012763 & 13.20000 & 33.70000 & 176.0000 & 4.300000 & 3.290000 & 133.0000 & 10.40000 & 12.83128\\\\\n\t 138 & survived & stable   & M &  18336.042 & 0 & 0 & 0 & 0 & 0 & ⋯ & 2.70000 & 2.600000 & 20.70000 & 37.00000 & 222.0000 & 4.600000 & 3.660000 & 135.0000 & 14.70000 & 12.00000\\\\\n\t 141 & died     & oxy\\_drop & M &  29407.500 & 0 & 0 & 0 & 0 & 0 & ⋯ & 1.30000 & 2.500000 & 14.10000 & 27.10000 &  46.0000 & 4.200000 & 3.020000 & 139.0000 &  1.80000 & 11.00000\\\\\n\t 143 & survived & oxy\\_drop & M &  18652.375 & 0 & 0 & 0 & 0 & 0 & ⋯ & 1.40000 & 1.600000 & 15.70000 & 30.20000 & 112.0000 & 3.400000 & 3.570000 & 142.0000 &  4.00000 & 17.00000\\\\\n\t 144 & survived & stable   & M &  19820.417 & 0 & 0 & 0 & 0 & 0 & ⋯ & 1.00000 & 1.700000 & 12.20000 & 23.10000 & 264.0000 & 4.200000 & 4.330000 & 139.0000 & 10.90000 & 14.00000\\\\\n\t 146 & survived & stable   & M &  31253.438 & 0 & 0 & 0 & 0 & 0 & ⋯ & 1.20000 & 2.000000 & 13.00000 & 30.30000 & 290.0000 & 5.900000 & 2.960000 & 127.0000 & 24.10000 & 14.00000\\\\\n\t 147 & survived & stable   & M &   9002.333 & 0 & 0 & 0 & 0 & 0 & ⋯ & 1.00000 & 2.100000 & 12.50000 & 23.90000 & 148.0000 & 4.000000 & 4.090000 & 139.0000 & 13.40000 & 12.83128\\\\\n\t  43 & survived & stable   & M &  11971.375 & 0 & 0 & 0 & 0 & 0 & ⋯ & 1.00000 & 1.700000 & 12.20000 & 25.70000 & 209.0000 & 4.800000 & 3.980000 & 134.0000 & 11.40000 & 14.00000\\\\\n\t  45 & survived & stable   & M &  15488.542 & 0 & 0 & 0 & 0 & 0 & ⋯ & 1.20000 & 1.300000 & 13.10000 & 28.40000 & 247.0000 & 4.300000 & 3.600000 & 140.0000 & 19.00000 & 12.83128\\\\\n\t  71 & survived & stable   & F &  13334.500 & 0 & 0 & 0 & 0 & 0 & ⋯ & 1.10000 & 4.200000 & 13.10000 & 26.10000 & 215.0000 & 3.200000 & 3.600000 & 143.0000 & 15.00000 & 13.00000\\\\\n\t 328 & survived & oxy\\_drop & M &  24075.125 & 0 & 0 & 0 & 0 & 0 & ⋯ & 1.10000 & 2.000000 & 12.60000 & 31.80000 & 169.0000 & 3.700000 & 5.380000 & 141.0000 & 10.40000 & 12.83128\\\\\n\t 340 & survived & stable   & F &  22108.542 & 0 & 0 & 0 & 0 & 0 & ⋯ & 1.20000 & 1.500000 & 13.80000 & 25.20000 & 384.0000 & 4.900000 & 3.310000 & 143.0000 & 14.60000 & 18.00000\\\\\n\t 342 & survived & stable   & F &  26680.181 & 0 & 0 & 0 & 0 & 0 & ⋯ & 1.40027 & 3.300000 & 14.75597 & 35.50777 & 230.0000 & 4.100000 & 3.520000 & 137.0000 &  9.00000 & 12.00000\\\\\n\t 345 & survived & stable   & F & 109574.500 & 0 & 0 & 0 & 0 & 0 & ⋯ & 1.10000 & 1.300000 & 13.30000 & 30.60000 & 253.0000 & 3.400000 & 4.140000 & 139.0000 &  9.80000 & 12.00000\\\\\n\t 346 & survived & stable   & F &  30927.431 & 0 & 0 & 0 & 0 & 0 & ⋯ & 1.70000 & 1.800000 & 15.70000 & 29.10000 & 102.0000 & 3.200000 & 3.220000 & 141.0000 &  5.80000 & 14.00000\\\\\n\t 354 & survived & oxy\\_drop & M &  21717.083 & 0 & 0 & 0 & 0 & 0 & ⋯ & 1.40000 & 2.100000 & 14.40000 & 28.40000 & 312.0000 & 4.500000 & 4.340000 & 137.0000 & 10.30000 & 13.00000\\\\\n\t 480 & survived & stable   & M &  17887.583 & 0 & 0 & 0 & 0 & 0 & ⋯ & 1.50000 & 2.200000 & 15.10000 & 28.40000 & 208.4931 & 4.200000 & 3.080000 & 135.0000 &  9.40000 & 15.00000\\\\\n\t 371 & survived & stable   & M &  12110.531 & 0 & 0 & 0 & 0 & 0 & ⋯ & 1.10000 & 1.800000 & 12.80000 & 23.70000 & 214.0000 & 3.600000 & 3.960000 & 140.0000 &  8.00000 & 13.00000\\\\\n\t 394 & survived & stable   & F &  28368.042 & 0 & 0 & 0 & 0 & 0 & ⋯ & 2.30000 & 2.400000 & 19.00000 & 58.30000 & 106.0000 & 4.100000 & 3.110000 & 136.0000 &  8.80000 & 14.00000\\\\\n\t 397 & survived & stable   & M &   7289.375 & 0 & 0 & 0 & 0 & 0 & ⋯ & 1.40027 & 2.000000 & 14.75597 & 35.50777 & 281.0000 & 3.900000 & 4.590000 & 141.0000 & 15.10000 & 13.00000\\\\\n\t ⋮ & ⋮ & ⋮ & ⋮ & ⋮ & ⋮ & ⋮ & ⋮ & ⋮ & ⋮ & ⋱ & ⋮ & ⋮ & ⋮ & ⋮ & ⋮ & ⋮ & ⋮ & ⋮ & ⋮ & ⋮\\\\\n\t 32625 & died     & stable   & F &  18320.21 & 0 & 0 & 0 & 0 & 0 & ⋯ & 1.10000 & 2.200000 & 12.30000 & 22.80000 & 137.0000 & 3.600000 & 3.240000 & 143.0000 & 15.30000 & 12.00000\\\\\n\t 32637 & died     & stable   & F &  12263.24 & 0 & 0 & 0 & 0 & 0 & ⋯ & 1.30000 & 2.300000 & 14.70000 & 26.70000 & 299.0000 & 4.300000 & 4.280000 & 151.0000 & 17.80000 & 11.00000\\\\\n\t 32639 & survived & stable   & F &  31540.06 & 0 & 0 & 0 & 0 & 0 & ⋯ & 1.40027 & 2.012763 & 14.75597 & 35.50777 & 208.4931 & 4.101856 & 3.535677 & 139.2208 & 12.65352 & 13.00000\\\\\n\t 29721 & survived & oxy\\_drop & M &  24119.88 & 0 & 0 & 0 & 0 & 0 & ⋯ & 1.10000 & 2.300000 & 12.60000 & 28.40000 & 389.0000 & 4.800000 & 3.080000 & 140.0000 & 11.50000 & 12.00000\\\\\n\t 29730 & survived & oxy\\_drop & F &  29292.02 & 0 & 0 & 0 & 0 & 0 & ⋯ & 1.20000 & 2.200000 & 13.50000 & 29.70000 & 622.0000 & 3.900000 & 3.270000 & 138.0000 & 19.10000 & 15.00000\\\\\n\t 29732 & died     & oxy\\_drop & F &  27408.46 & 0 & 0 & 0 & 0 & 0 & ⋯ & 1.50000 & 3.200000 & 16.20000 & 38.30000 & 224.0000 & 5.100000 & 3.060000 & 127.0000 & 26.30000 & 15.00000\\\\\n\t 32465 & survived & stable   & F &  24532.07 & 0 & 0 & 0 & 0 & 0 & ⋯ & 1.20000 & 2.012763 & 13.60000 & 50.50000 &  80.0000 & 4.300000 & 3.310000 & 139.0000 &  6.70000 & 13.00000\\\\\n\t 32467 & survived & oxy\\_drop & M &  19410.61 & 0 & 0 & 0 & 0 & 0 & ⋯ & 1.10000 & 2.100000 & 12.70000 & 29.70000 & 167.0000 & 3.900000 & 3.730000 & 136.0000 &  9.10000 & 13.00000\\\\\n\t 32476 & died     & oxy\\_drop & M &  20870.42 & 0 & 0 & 0 & 0 & 0 & ⋯ & 1.60000 & 1.700000 & 17.90000 & 50.70000 & 165.0000 & 4.500000 & 3.490000 & 144.0000 &  9.80000 & 13.00000\\\\\n\t 32381 & survived & oxy\\_drop & M & 109574.12 & 0 & 0 & 0 & 0 & 0 & ⋯ & 1.40027 & 2.012763 & 14.75597 & 35.50777 & 178.0000 & 3.800000 & 4.010000 & 144.0000 &  6.70000 & 14.00000\\\\\n\t 32495 & survived & oxy\\_drop & F &  24256.03 & 0 & 0 & 0 & 0 & 0 & ⋯ & 1.50000 & 2.012763 & 16.60000 & 55.60000 & 103.0000 & 3.900000 & 3.030000 & 135.0000 & 24.00000 & 12.83128\\\\\n\t 32496 & survived & oxy\\_drop & M &  17371.46 & 0 & 0 & 0 & 0 & 0 & ⋯ & 1.50000 & 2.300000 & 16.70000 & 44.80000 & 143.0000 & 3.900000 & 3.040000 & 143.0000 & 10.60000 & 12.00000\\\\\n\t 32500 & survived & oxy\\_drop & F &  23057.12 & 0 & 0 & 0 & 0 & 0 & ⋯ & 1.10000 & 2.000000 & 13.20000 & 34.50000 &  56.0000 & 4.400000 & 2.970000 & 139.0000 &  3.70000 & 13.00000\\\\\n\t 32104 & survived & stable   & M &  23561.19 & 0 & 0 & 0 & 0 & 0 & ⋯ & 1.30000 & 1.700000 & 14.20000 & 27.40000 & 162.0000 & 7.000000 & 3.530000 & 142.0000 &  9.70000 & 13.00000\\\\\n\t 32128 & survived & stable   & F &  27711.44 & 0 & 0 & 0 & 0 & 0 & ⋯ & 1.10000 & 2.400000 & 13.20000 & 31.60000 & 246.0000 & 4.500000 & 2.890000 & 138.0000 & 14.70000 & 12.00000\\\\\n\t 31971 & survived & stable   & F &  31767.10 & 0 & 0 & 0 & 0 & 0 & ⋯ & 1.40000 & 2.012763 & 16.00000 & 53.60000 & 183.0000 & 4.000000 & 4.040000 & 133.0000 &  9.60000 & 15.00000\\\\\n\t 31973 & survived & stable   & F & 109575.02 & 0 & 0 & 0 & 0 & 0 & ⋯ & 1.40027 & 2.000000 & 14.75597 & 35.50777 & 208.4931 & 4.500000 & 3.535677 & 133.0000 & 12.65352 & 14.00000\\\\\n\t 31974 & survived & stable   & M &  23550.38 & 0 & 0 & 0 & 0 & 0 & ⋯ & 1.30000 & 2.300000 & 15.20000 & 28.00000 & 143.0000 & 4.200000 & 3.960000 & 136.0000 & 11.80000 & 13.00000\\\\\n\t 31981 & survived & stable   & F &  21046.09 & 0 & 0 & 0 & 0 & 0 & ⋯ & 1.30000 & 2.000000 & 14.60000 & 29.10000 & 256.0000 & 4.200000 & 3.240000 & 137.0000 &  9.50000 & 13.00000\\\\\n\t 32661 & survived & oxy\\_drop & F &  26640.02 & 0 & 0 & 0 & 0 & 0 & ⋯ & 1.10000 & 2.100000 & 13.40000 & 24.70000 &  49.0000 & 4.200000 & 3.460000 & 136.0000 & 12.90000 &  9.00000\\\\\n\t 32672 & survived & stable   & F & 109573.98 & 0 & 0 & 0 & 0 & 0 & ⋯ & 1.20000 & 2.100000 & 13.50000 & 42.70000 & 210.0000 & 4.300000 & 3.570000 & 138.0000 &  4.20000 & 13.00000\\\\\n\t 32394 & survived & stable   & M &  29932.25 & 0 & 0 & 0 & 0 & 0 & ⋯ & 1.40027 & 2.400000 & 14.75597 & 35.50777 & 250.0000 & 3.900000 & 4.090000 & 142.0000 & 18.70000 & 14.00000\\\\\n\t 32395 & survived & stable   & F &  31344.50 & 0 & 0 & 0 & 0 & 0 & ⋯ & 1.10000 & 2.100000 & 12.70000 & 25.60000 & 210.0000 & 4.500000 & 3.870000 & 139.0000 & 10.30000 & 12.00000\\\\\n\t 32396 & survived & oxy\\_drop & M &  29261.54 & 0 & 0 & 0 & 0 & 0 & ⋯ & 1.20000 & 2.500000 & 14.00000 & 25.30000 & 143.0000 & 4.200000 & 3.460000 & 136.0000 &  4.50000 & 15.00000\\\\\n\t 32399 & survived & oxy\\_drop & M &  17680.46 & 0 & 0 & 0 & 0 & 0 & ⋯ & 1.20000 & 2.800000 & 14.20000 & 26.80000 & 319.0000 & 3.800000 & 3.510000 & 148.0000 & 11.30000 & 16.00000\\\\\n\t 31983 & survived & oxy\\_drop & M &  30843.50 & 0 & 0 & 0 & 0 & 0 & ⋯ & 1.20000 & 1.900000 & 13.60000 & 84.70000 & 184.0000 & 4.000000 & 3.540000 & 149.0000 &  6.00000 & 16.00000\\\\\n\t 32506 & survived & stable   & F &  23776.62 & 0 & 0 & 0 & 0 & 0 & ⋯ & 1.00000 & 2.500000 & 12.30000 & 22.30000 & 190.0000 & 3.700000 & 3.530000 & 139.0000 & 14.80000 & 12.00000\\\\\n\t 32513 & survived & stable   & F &  28793.46 & 0 & 0 & 0 & 0 & 0 & ⋯ & 1.40027 & 1.800000 & 14.75597 & 35.50777 & 214.0000 & 4.800000 & 3.870000 & 142.0000 & 13.20000 & 16.00000\\\\\n\t 32408 & survived & stable   & M &  19813.38 & 0 & 0 & 0 & 0 & 0 & ⋯ & 1.40027 & 2.700000 & 14.75597 & 35.50777 & 163.0000 & 3.600000 & 4.090000 & 138.0000 &  6.30000 & 12.00000\\\\\n\t 32417 & survived & stable   & M &  20063.10 & 0 & 0 & 0 & 0 & 0 & ⋯ & 1.30000 & 2.000000 & 14.50000 & 43.10000 & 202.0000 & 4.600000 & 3.290000 & 138.0000 & 10.60000 & 13.00000\\\\\n\\end{tabular}\n",
            "text/html": [
              "<table class=\"dataframe\">\n",
              "<caption>A spec_tbl_df: 3455 × 2440</caption>\n",
              "<thead>\n",
              "\t<tr><th scope=col>subject_id</th><th scope=col>death_in_stay</th><th scope=col>oxy_drop</th><th scope=col>gender</th><th scope=col>age_in_days</th><th scope=col>icd9_ ADENOID CYSTIC CARCINOMA/SDA</th><th scope=col>icd9_ INTRACTABLE EPILEPSY/SDA</th><th scope=col>icd9_?AORTIC DISSECTION</th><th scope=col>icd9_?TIA;IV HEPARIN</th><th scope=col>icd9_+ETT\\CATH</th><th scope=col>⋯</th><th scope=col>chartvalue_815</th><th scope=col>chartvalue_821</th><th scope=col>chartvalue_824</th><th scope=col>chartvalue_825</th><th scope=col>chartvalue_828</th><th scope=col>chartvalue_829</th><th scope=col>chartvalue_833</th><th scope=col>chartvalue_837</th><th scope=col>chartvalue_861</th><th scope=col>chartvalue_87</th></tr>\n",
              "\t<tr><th scope=col>&lt;dbl&gt;</th><th scope=col>&lt;chr&gt;</th><th scope=col>&lt;chr&gt;</th><th scope=col>&lt;chr&gt;</th><th scope=col>&lt;dbl&gt;</th><th scope=col>&lt;dbl&gt;</th><th scope=col>&lt;dbl&gt;</th><th scope=col>&lt;dbl&gt;</th><th scope=col>&lt;dbl&gt;</th><th scope=col>&lt;dbl&gt;</th><th scope=col>⋯</th><th scope=col>&lt;dbl&gt;</th><th scope=col>&lt;dbl&gt;</th><th scope=col>&lt;dbl&gt;</th><th scope=col>&lt;dbl&gt;</th><th scope=col>&lt;dbl&gt;</th><th scope=col>&lt;dbl&gt;</th><th scope=col>&lt;dbl&gt;</th><th scope=col>&lt;dbl&gt;</th><th scope=col>&lt;dbl&gt;</th><th scope=col>&lt;dbl&gt;</th></tr>\n",
              "</thead>\n",
              "<tbody>\n",
              "\t<tr><td> 91</td><td>died    </td><td>stable  </td><td>F</td><td> 29809.000</td><td>0</td><td>0</td><td>0</td><td>0</td><td>0</td><td>⋯</td><td>1.50000</td><td>1.700000</td><td>14.80000</td><td>42.40000</td><td> 77.0000</td><td>3.900000</td><td>3.040000</td><td>144.0000</td><td> 6.50000</td><td>15.00000</td></tr>\n",
              "\t<tr><td>106</td><td>died    </td><td>oxy_drop</td><td>M</td><td> 10358.333</td><td>0</td><td>0</td><td>0</td><td>0</td><td>0</td><td>⋯</td><td>1.40027</td><td>2.600000</td><td>14.75597</td><td>35.50777</td><td>226.0000</td><td>3.700000</td><td>5.600000</td><td>136.0000</td><td>26.00000</td><td>11.00000</td></tr>\n",
              "\t<tr><td>111</td><td>survived</td><td>oxy_drop</td><td>F</td><td> 24388.979</td><td>0</td><td>0</td><td>0</td><td>0</td><td>0</td><td>⋯</td><td>1.40027</td><td>2.012763</td><td>12.20000</td><td>53.50000</td><td>208.4931</td><td>4.101856</td><td>3.535677</td><td>139.2208</td><td>12.65352</td><td>13.00000</td></tr>\n",
              "\t<tr><td>117</td><td>died    </td><td>oxy_drop</td><td>F</td><td> 18224.075</td><td>0</td><td>0</td><td>0</td><td>0</td><td>0</td><td>⋯</td><td>1.90000</td><td>2.300000</td><td>17.20000</td><td>40.10000</td><td> 42.0000</td><td>5.000000</td><td>2.310000</td><td>136.0000</td><td> 7.00000</td><td>11.00000</td></tr>\n",
              "\t<tr><td>  3</td><td>survived</td><td>oxy_drop</td><td>M</td><td> 27951.375</td><td>0</td><td>0</td><td>0</td><td>0</td><td>0</td><td>⋯</td><td>1.50000</td><td>2.300000</td><td>14.40000</td><td>36.20000</td><td>359.0000</td><td>4.400000</td><td>3.300000</td><td>138.0000</td><td>24.40000</td><td>11.00000</td></tr>\n",
              "\t<tr><td> 31</td><td>died    </td><td>oxy_drop</td><td>M</td><td> 26396.000</td><td>0</td><td>0</td><td>0</td><td>0</td><td>0</td><td>⋯</td><td>1.10000</td><td>1.700000</td><td>13.00000</td><td>28.50000</td><td>184.0000</td><td>3.700000</td><td>2.940000</td><td>133.0000</td><td> 6.90000</td><td>11.00000</td></tr>\n",
              "\t<tr><td> 36</td><td>survived</td><td>oxy_drop</td><td>M</td><td> 25474.542</td><td>0</td><td>0</td><td>0</td><td>0</td><td>0</td><td>⋯</td><td>1.50000</td><td>2.000000</td><td>16.00000</td><td>33.10000</td><td>270.0000</td><td>3.900000</td><td>3.810000</td><td>129.0000</td><td>21.90000</td><td>11.00000</td></tr>\n",
              "\t<tr><td> 38</td><td>survived</td><td>oxy_drop</td><td>M</td><td> 27738.986</td><td>0</td><td>0</td><td>0</td><td>0</td><td>0</td><td>⋯</td><td>1.50000</td><td>2.000000</td><td>14.80000</td><td>32.00000</td><td> 99.0000</td><td>3.800000</td><td>3.200000</td><td>138.0000</td><td>13.90000</td><td>10.00000</td></tr>\n",
              "\t<tr><td>357</td><td>survived</td><td>oxy_drop</td><td>M</td><td> 22905.917</td><td>0</td><td>0</td><td>0</td><td>0</td><td>0</td><td>⋯</td><td>1.10000</td><td>2.300000</td><td>13.20000</td><td>28.10000</td><td>111.0000</td><td>4.200000</td><td>3.910000</td><td>140.0000</td><td>10.50000</td><td>11.00000</td></tr>\n",
              "\t<tr><td>360</td><td>survived</td><td>stable  </td><td>F</td><td> 27900.292</td><td>0</td><td>0</td><td>0</td><td>0</td><td>0</td><td>⋯</td><td>1.10000</td><td>2.700000</td><td>12.90000</td><td>24.70000</td><td>203.0000</td><td>4.100000</td><td>3.160000</td><td>142.0000</td><td>12.10000</td><td>11.00000</td></tr>\n",
              "\t<tr><td>137</td><td>survived</td><td>oxy_drop</td><td>M</td><td> 27291.125</td><td>0</td><td>0</td><td>0</td><td>0</td><td>0</td><td>⋯</td><td>1.20000</td><td>2.012763</td><td>13.20000</td><td>33.70000</td><td>176.0000</td><td>4.300000</td><td>3.290000</td><td>133.0000</td><td>10.40000</td><td>12.83128</td></tr>\n",
              "\t<tr><td>138</td><td>survived</td><td>stable  </td><td>M</td><td> 18336.042</td><td>0</td><td>0</td><td>0</td><td>0</td><td>0</td><td>⋯</td><td>2.70000</td><td>2.600000</td><td>20.70000</td><td>37.00000</td><td>222.0000</td><td>4.600000</td><td>3.660000</td><td>135.0000</td><td>14.70000</td><td>12.00000</td></tr>\n",
              "\t<tr><td>141</td><td>died    </td><td>oxy_drop</td><td>M</td><td> 29407.500</td><td>0</td><td>0</td><td>0</td><td>0</td><td>0</td><td>⋯</td><td>1.30000</td><td>2.500000</td><td>14.10000</td><td>27.10000</td><td> 46.0000</td><td>4.200000</td><td>3.020000</td><td>139.0000</td><td> 1.80000</td><td>11.00000</td></tr>\n",
              "\t<tr><td>143</td><td>survived</td><td>oxy_drop</td><td>M</td><td> 18652.375</td><td>0</td><td>0</td><td>0</td><td>0</td><td>0</td><td>⋯</td><td>1.40000</td><td>1.600000</td><td>15.70000</td><td>30.20000</td><td>112.0000</td><td>3.400000</td><td>3.570000</td><td>142.0000</td><td> 4.00000</td><td>17.00000</td></tr>\n",
              "\t<tr><td>144</td><td>survived</td><td>stable  </td><td>M</td><td> 19820.417</td><td>0</td><td>0</td><td>0</td><td>0</td><td>0</td><td>⋯</td><td>1.00000</td><td>1.700000</td><td>12.20000</td><td>23.10000</td><td>264.0000</td><td>4.200000</td><td>4.330000</td><td>139.0000</td><td>10.90000</td><td>14.00000</td></tr>\n",
              "\t<tr><td>146</td><td>survived</td><td>stable  </td><td>M</td><td> 31253.438</td><td>0</td><td>0</td><td>0</td><td>0</td><td>0</td><td>⋯</td><td>1.20000</td><td>2.000000</td><td>13.00000</td><td>30.30000</td><td>290.0000</td><td>5.900000</td><td>2.960000</td><td>127.0000</td><td>24.10000</td><td>14.00000</td></tr>\n",
              "\t<tr><td>147</td><td>survived</td><td>stable  </td><td>M</td><td>  9002.333</td><td>0</td><td>0</td><td>0</td><td>0</td><td>0</td><td>⋯</td><td>1.00000</td><td>2.100000</td><td>12.50000</td><td>23.90000</td><td>148.0000</td><td>4.000000</td><td>4.090000</td><td>139.0000</td><td>13.40000</td><td>12.83128</td></tr>\n",
              "\t<tr><td> 43</td><td>survived</td><td>stable  </td><td>M</td><td> 11971.375</td><td>0</td><td>0</td><td>0</td><td>0</td><td>0</td><td>⋯</td><td>1.00000</td><td>1.700000</td><td>12.20000</td><td>25.70000</td><td>209.0000</td><td>4.800000</td><td>3.980000</td><td>134.0000</td><td>11.40000</td><td>14.00000</td></tr>\n",
              "\t<tr><td> 45</td><td>survived</td><td>stable  </td><td>M</td><td> 15488.542</td><td>0</td><td>0</td><td>0</td><td>0</td><td>0</td><td>⋯</td><td>1.20000</td><td>1.300000</td><td>13.10000</td><td>28.40000</td><td>247.0000</td><td>4.300000</td><td>3.600000</td><td>140.0000</td><td>19.00000</td><td>12.83128</td></tr>\n",
              "\t<tr><td> 71</td><td>survived</td><td>stable  </td><td>F</td><td> 13334.500</td><td>0</td><td>0</td><td>0</td><td>0</td><td>0</td><td>⋯</td><td>1.10000</td><td>4.200000</td><td>13.10000</td><td>26.10000</td><td>215.0000</td><td>3.200000</td><td>3.600000</td><td>143.0000</td><td>15.00000</td><td>13.00000</td></tr>\n",
              "\t<tr><td>328</td><td>survived</td><td>oxy_drop</td><td>M</td><td> 24075.125</td><td>0</td><td>0</td><td>0</td><td>0</td><td>0</td><td>⋯</td><td>1.10000</td><td>2.000000</td><td>12.60000</td><td>31.80000</td><td>169.0000</td><td>3.700000</td><td>5.380000</td><td>141.0000</td><td>10.40000</td><td>12.83128</td></tr>\n",
              "\t<tr><td>340</td><td>survived</td><td>stable  </td><td>F</td><td> 22108.542</td><td>0</td><td>0</td><td>0</td><td>0</td><td>0</td><td>⋯</td><td>1.20000</td><td>1.500000</td><td>13.80000</td><td>25.20000</td><td>384.0000</td><td>4.900000</td><td>3.310000</td><td>143.0000</td><td>14.60000</td><td>18.00000</td></tr>\n",
              "\t<tr><td>342</td><td>survived</td><td>stable  </td><td>F</td><td> 26680.181</td><td>0</td><td>0</td><td>0</td><td>0</td><td>0</td><td>⋯</td><td>1.40027</td><td>3.300000</td><td>14.75597</td><td>35.50777</td><td>230.0000</td><td>4.100000</td><td>3.520000</td><td>137.0000</td><td> 9.00000</td><td>12.00000</td></tr>\n",
              "\t<tr><td>345</td><td>survived</td><td>stable  </td><td>F</td><td>109574.500</td><td>0</td><td>0</td><td>0</td><td>0</td><td>0</td><td>⋯</td><td>1.10000</td><td>1.300000</td><td>13.30000</td><td>30.60000</td><td>253.0000</td><td>3.400000</td><td>4.140000</td><td>139.0000</td><td> 9.80000</td><td>12.00000</td></tr>\n",
              "\t<tr><td>346</td><td>survived</td><td>stable  </td><td>F</td><td> 30927.431</td><td>0</td><td>0</td><td>0</td><td>0</td><td>0</td><td>⋯</td><td>1.70000</td><td>1.800000</td><td>15.70000</td><td>29.10000</td><td>102.0000</td><td>3.200000</td><td>3.220000</td><td>141.0000</td><td> 5.80000</td><td>14.00000</td></tr>\n",
              "\t<tr><td>354</td><td>survived</td><td>oxy_drop</td><td>M</td><td> 21717.083</td><td>0</td><td>0</td><td>0</td><td>0</td><td>0</td><td>⋯</td><td>1.40000</td><td>2.100000</td><td>14.40000</td><td>28.40000</td><td>312.0000</td><td>4.500000</td><td>4.340000</td><td>137.0000</td><td>10.30000</td><td>13.00000</td></tr>\n",
              "\t<tr><td>480</td><td>survived</td><td>stable  </td><td>M</td><td> 17887.583</td><td>0</td><td>0</td><td>0</td><td>0</td><td>0</td><td>⋯</td><td>1.50000</td><td>2.200000</td><td>15.10000</td><td>28.40000</td><td>208.4931</td><td>4.200000</td><td>3.080000</td><td>135.0000</td><td> 9.40000</td><td>15.00000</td></tr>\n",
              "\t<tr><td>371</td><td>survived</td><td>stable  </td><td>M</td><td> 12110.531</td><td>0</td><td>0</td><td>0</td><td>0</td><td>0</td><td>⋯</td><td>1.10000</td><td>1.800000</td><td>12.80000</td><td>23.70000</td><td>214.0000</td><td>3.600000</td><td>3.960000</td><td>140.0000</td><td> 8.00000</td><td>13.00000</td></tr>\n",
              "\t<tr><td>394</td><td>survived</td><td>stable  </td><td>F</td><td> 28368.042</td><td>0</td><td>0</td><td>0</td><td>0</td><td>0</td><td>⋯</td><td>2.30000</td><td>2.400000</td><td>19.00000</td><td>58.30000</td><td>106.0000</td><td>4.100000</td><td>3.110000</td><td>136.0000</td><td> 8.80000</td><td>14.00000</td></tr>\n",
              "\t<tr><td>397</td><td>survived</td><td>stable  </td><td>M</td><td>  7289.375</td><td>0</td><td>0</td><td>0</td><td>0</td><td>0</td><td>⋯</td><td>1.40027</td><td>2.000000</td><td>14.75597</td><td>35.50777</td><td>281.0000</td><td>3.900000</td><td>4.590000</td><td>141.0000</td><td>15.10000</td><td>13.00000</td></tr>\n",
              "\t<tr><td>⋮</td><td>⋮</td><td>⋮</td><td>⋮</td><td>⋮</td><td>⋮</td><td>⋮</td><td>⋮</td><td>⋮</td><td>⋮</td><td>⋱</td><td>⋮</td><td>⋮</td><td>⋮</td><td>⋮</td><td>⋮</td><td>⋮</td><td>⋮</td><td>⋮</td><td>⋮</td><td>⋮</td></tr>\n",
              "\t<tr><td>32625</td><td>died    </td><td>stable  </td><td>F</td><td> 18320.21</td><td>0</td><td>0</td><td>0</td><td>0</td><td>0</td><td>⋯</td><td>1.10000</td><td>2.200000</td><td>12.30000</td><td>22.80000</td><td>137.0000</td><td>3.600000</td><td>3.240000</td><td>143.0000</td><td>15.30000</td><td>12.00000</td></tr>\n",
              "\t<tr><td>32637</td><td>died    </td><td>stable  </td><td>F</td><td> 12263.24</td><td>0</td><td>0</td><td>0</td><td>0</td><td>0</td><td>⋯</td><td>1.30000</td><td>2.300000</td><td>14.70000</td><td>26.70000</td><td>299.0000</td><td>4.300000</td><td>4.280000</td><td>151.0000</td><td>17.80000</td><td>11.00000</td></tr>\n",
              "\t<tr><td>32639</td><td>survived</td><td>stable  </td><td>F</td><td> 31540.06</td><td>0</td><td>0</td><td>0</td><td>0</td><td>0</td><td>⋯</td><td>1.40027</td><td>2.012763</td><td>14.75597</td><td>35.50777</td><td>208.4931</td><td>4.101856</td><td>3.535677</td><td>139.2208</td><td>12.65352</td><td>13.00000</td></tr>\n",
              "\t<tr><td>29721</td><td>survived</td><td>oxy_drop</td><td>M</td><td> 24119.88</td><td>0</td><td>0</td><td>0</td><td>0</td><td>0</td><td>⋯</td><td>1.10000</td><td>2.300000</td><td>12.60000</td><td>28.40000</td><td>389.0000</td><td>4.800000</td><td>3.080000</td><td>140.0000</td><td>11.50000</td><td>12.00000</td></tr>\n",
              "\t<tr><td>29730</td><td>survived</td><td>oxy_drop</td><td>F</td><td> 29292.02</td><td>0</td><td>0</td><td>0</td><td>0</td><td>0</td><td>⋯</td><td>1.20000</td><td>2.200000</td><td>13.50000</td><td>29.70000</td><td>622.0000</td><td>3.900000</td><td>3.270000</td><td>138.0000</td><td>19.10000</td><td>15.00000</td></tr>\n",
              "\t<tr><td>29732</td><td>died    </td><td>oxy_drop</td><td>F</td><td> 27408.46</td><td>0</td><td>0</td><td>0</td><td>0</td><td>0</td><td>⋯</td><td>1.50000</td><td>3.200000</td><td>16.20000</td><td>38.30000</td><td>224.0000</td><td>5.100000</td><td>3.060000</td><td>127.0000</td><td>26.30000</td><td>15.00000</td></tr>\n",
              "\t<tr><td>32465</td><td>survived</td><td>stable  </td><td>F</td><td> 24532.07</td><td>0</td><td>0</td><td>0</td><td>0</td><td>0</td><td>⋯</td><td>1.20000</td><td>2.012763</td><td>13.60000</td><td>50.50000</td><td> 80.0000</td><td>4.300000</td><td>3.310000</td><td>139.0000</td><td> 6.70000</td><td>13.00000</td></tr>\n",
              "\t<tr><td>32467</td><td>survived</td><td>oxy_drop</td><td>M</td><td> 19410.61</td><td>0</td><td>0</td><td>0</td><td>0</td><td>0</td><td>⋯</td><td>1.10000</td><td>2.100000</td><td>12.70000</td><td>29.70000</td><td>167.0000</td><td>3.900000</td><td>3.730000</td><td>136.0000</td><td> 9.10000</td><td>13.00000</td></tr>\n",
              "\t<tr><td>32476</td><td>died    </td><td>oxy_drop</td><td>M</td><td> 20870.42</td><td>0</td><td>0</td><td>0</td><td>0</td><td>0</td><td>⋯</td><td>1.60000</td><td>1.700000</td><td>17.90000</td><td>50.70000</td><td>165.0000</td><td>4.500000</td><td>3.490000</td><td>144.0000</td><td> 9.80000</td><td>13.00000</td></tr>\n",
              "\t<tr><td>32381</td><td>survived</td><td>oxy_drop</td><td>M</td><td>109574.12</td><td>0</td><td>0</td><td>0</td><td>0</td><td>0</td><td>⋯</td><td>1.40027</td><td>2.012763</td><td>14.75597</td><td>35.50777</td><td>178.0000</td><td>3.800000</td><td>4.010000</td><td>144.0000</td><td> 6.70000</td><td>14.00000</td></tr>\n",
              "\t<tr><td>32495</td><td>survived</td><td>oxy_drop</td><td>F</td><td> 24256.03</td><td>0</td><td>0</td><td>0</td><td>0</td><td>0</td><td>⋯</td><td>1.50000</td><td>2.012763</td><td>16.60000</td><td>55.60000</td><td>103.0000</td><td>3.900000</td><td>3.030000</td><td>135.0000</td><td>24.00000</td><td>12.83128</td></tr>\n",
              "\t<tr><td>32496</td><td>survived</td><td>oxy_drop</td><td>M</td><td> 17371.46</td><td>0</td><td>0</td><td>0</td><td>0</td><td>0</td><td>⋯</td><td>1.50000</td><td>2.300000</td><td>16.70000</td><td>44.80000</td><td>143.0000</td><td>3.900000</td><td>3.040000</td><td>143.0000</td><td>10.60000</td><td>12.00000</td></tr>\n",
              "\t<tr><td>32500</td><td>survived</td><td>oxy_drop</td><td>F</td><td> 23057.12</td><td>0</td><td>0</td><td>0</td><td>0</td><td>0</td><td>⋯</td><td>1.10000</td><td>2.000000</td><td>13.20000</td><td>34.50000</td><td> 56.0000</td><td>4.400000</td><td>2.970000</td><td>139.0000</td><td> 3.70000</td><td>13.00000</td></tr>\n",
              "\t<tr><td>32104</td><td>survived</td><td>stable  </td><td>M</td><td> 23561.19</td><td>0</td><td>0</td><td>0</td><td>0</td><td>0</td><td>⋯</td><td>1.30000</td><td>1.700000</td><td>14.20000</td><td>27.40000</td><td>162.0000</td><td>7.000000</td><td>3.530000</td><td>142.0000</td><td> 9.70000</td><td>13.00000</td></tr>\n",
              "\t<tr><td>32128</td><td>survived</td><td>stable  </td><td>F</td><td> 27711.44</td><td>0</td><td>0</td><td>0</td><td>0</td><td>0</td><td>⋯</td><td>1.10000</td><td>2.400000</td><td>13.20000</td><td>31.60000</td><td>246.0000</td><td>4.500000</td><td>2.890000</td><td>138.0000</td><td>14.70000</td><td>12.00000</td></tr>\n",
              "\t<tr><td>31971</td><td>survived</td><td>stable  </td><td>F</td><td> 31767.10</td><td>0</td><td>0</td><td>0</td><td>0</td><td>0</td><td>⋯</td><td>1.40000</td><td>2.012763</td><td>16.00000</td><td>53.60000</td><td>183.0000</td><td>4.000000</td><td>4.040000</td><td>133.0000</td><td> 9.60000</td><td>15.00000</td></tr>\n",
              "\t<tr><td>31973</td><td>survived</td><td>stable  </td><td>F</td><td>109575.02</td><td>0</td><td>0</td><td>0</td><td>0</td><td>0</td><td>⋯</td><td>1.40027</td><td>2.000000</td><td>14.75597</td><td>35.50777</td><td>208.4931</td><td>4.500000</td><td>3.535677</td><td>133.0000</td><td>12.65352</td><td>14.00000</td></tr>\n",
              "\t<tr><td>31974</td><td>survived</td><td>stable  </td><td>M</td><td> 23550.38</td><td>0</td><td>0</td><td>0</td><td>0</td><td>0</td><td>⋯</td><td>1.30000</td><td>2.300000</td><td>15.20000</td><td>28.00000</td><td>143.0000</td><td>4.200000</td><td>3.960000</td><td>136.0000</td><td>11.80000</td><td>13.00000</td></tr>\n",
              "\t<tr><td>31981</td><td>survived</td><td>stable  </td><td>F</td><td> 21046.09</td><td>0</td><td>0</td><td>0</td><td>0</td><td>0</td><td>⋯</td><td>1.30000</td><td>2.000000</td><td>14.60000</td><td>29.10000</td><td>256.0000</td><td>4.200000</td><td>3.240000</td><td>137.0000</td><td> 9.50000</td><td>13.00000</td></tr>\n",
              "\t<tr><td>32661</td><td>survived</td><td>oxy_drop</td><td>F</td><td> 26640.02</td><td>0</td><td>0</td><td>0</td><td>0</td><td>0</td><td>⋯</td><td>1.10000</td><td>2.100000</td><td>13.40000</td><td>24.70000</td><td> 49.0000</td><td>4.200000</td><td>3.460000</td><td>136.0000</td><td>12.90000</td><td> 9.00000</td></tr>\n",
              "\t<tr><td>32672</td><td>survived</td><td>stable  </td><td>F</td><td>109573.98</td><td>0</td><td>0</td><td>0</td><td>0</td><td>0</td><td>⋯</td><td>1.20000</td><td>2.100000</td><td>13.50000</td><td>42.70000</td><td>210.0000</td><td>4.300000</td><td>3.570000</td><td>138.0000</td><td> 4.20000</td><td>13.00000</td></tr>\n",
              "\t<tr><td>32394</td><td>survived</td><td>stable  </td><td>M</td><td> 29932.25</td><td>0</td><td>0</td><td>0</td><td>0</td><td>0</td><td>⋯</td><td>1.40027</td><td>2.400000</td><td>14.75597</td><td>35.50777</td><td>250.0000</td><td>3.900000</td><td>4.090000</td><td>142.0000</td><td>18.70000</td><td>14.00000</td></tr>\n",
              "\t<tr><td>32395</td><td>survived</td><td>stable  </td><td>F</td><td> 31344.50</td><td>0</td><td>0</td><td>0</td><td>0</td><td>0</td><td>⋯</td><td>1.10000</td><td>2.100000</td><td>12.70000</td><td>25.60000</td><td>210.0000</td><td>4.500000</td><td>3.870000</td><td>139.0000</td><td>10.30000</td><td>12.00000</td></tr>\n",
              "\t<tr><td>32396</td><td>survived</td><td>oxy_drop</td><td>M</td><td> 29261.54</td><td>0</td><td>0</td><td>0</td><td>0</td><td>0</td><td>⋯</td><td>1.20000</td><td>2.500000</td><td>14.00000</td><td>25.30000</td><td>143.0000</td><td>4.200000</td><td>3.460000</td><td>136.0000</td><td> 4.50000</td><td>15.00000</td></tr>\n",
              "\t<tr><td>32399</td><td>survived</td><td>oxy_drop</td><td>M</td><td> 17680.46</td><td>0</td><td>0</td><td>0</td><td>0</td><td>0</td><td>⋯</td><td>1.20000</td><td>2.800000</td><td>14.20000</td><td>26.80000</td><td>319.0000</td><td>3.800000</td><td>3.510000</td><td>148.0000</td><td>11.30000</td><td>16.00000</td></tr>\n",
              "\t<tr><td>31983</td><td>survived</td><td>oxy_drop</td><td>M</td><td> 30843.50</td><td>0</td><td>0</td><td>0</td><td>0</td><td>0</td><td>⋯</td><td>1.20000</td><td>1.900000</td><td>13.60000</td><td>84.70000</td><td>184.0000</td><td>4.000000</td><td>3.540000</td><td>149.0000</td><td> 6.00000</td><td>16.00000</td></tr>\n",
              "\t<tr><td>32506</td><td>survived</td><td>stable  </td><td>F</td><td> 23776.62</td><td>0</td><td>0</td><td>0</td><td>0</td><td>0</td><td>⋯</td><td>1.00000</td><td>2.500000</td><td>12.30000</td><td>22.30000</td><td>190.0000</td><td>3.700000</td><td>3.530000</td><td>139.0000</td><td>14.80000</td><td>12.00000</td></tr>\n",
              "\t<tr><td>32513</td><td>survived</td><td>stable  </td><td>F</td><td> 28793.46</td><td>0</td><td>0</td><td>0</td><td>0</td><td>0</td><td>⋯</td><td>1.40027</td><td>1.800000</td><td>14.75597</td><td>35.50777</td><td>214.0000</td><td>4.800000</td><td>3.870000</td><td>142.0000</td><td>13.20000</td><td>16.00000</td></tr>\n",
              "\t<tr><td>32408</td><td>survived</td><td>stable  </td><td>M</td><td> 19813.38</td><td>0</td><td>0</td><td>0</td><td>0</td><td>0</td><td>⋯</td><td>1.40027</td><td>2.700000</td><td>14.75597</td><td>35.50777</td><td>163.0000</td><td>3.600000</td><td>4.090000</td><td>138.0000</td><td> 6.30000</td><td>12.00000</td></tr>\n",
              "\t<tr><td>32417</td><td>survived</td><td>stable  </td><td>M</td><td> 20063.10</td><td>0</td><td>0</td><td>0</td><td>0</td><td>0</td><td>⋯</td><td>1.30000</td><td>2.000000</td><td>14.50000</td><td>43.10000</td><td>202.0000</td><td>4.600000</td><td>3.290000</td><td>138.0000</td><td>10.60000</td><td>13.00000</td></tr>\n",
              "</tbody>\n",
              "</table>\n"
            ],
            "text/plain": [
              "     subject_id death_in_stay oxy_drop gender age_in_days\n",
              "1     91        died          stable   F       29809.000 \n",
              "2    106        died          oxy_drop M       10358.333 \n",
              "3    111        survived      oxy_drop F       24388.979 \n",
              "4    117        died          oxy_drop F       18224.075 \n",
              "5      3        survived      oxy_drop M       27951.375 \n",
              "6     31        died          oxy_drop M       26396.000 \n",
              "7     36        survived      oxy_drop M       25474.542 \n",
              "8     38        survived      oxy_drop M       27738.986 \n",
              "9    357        survived      oxy_drop M       22905.917 \n",
              "10   360        survived      stable   F       27900.292 \n",
              "11   137        survived      oxy_drop M       27291.125 \n",
              "12   138        survived      stable   M       18336.042 \n",
              "13   141        died          oxy_drop M       29407.500 \n",
              "14   143        survived      oxy_drop M       18652.375 \n",
              "15   144        survived      stable   M       19820.417 \n",
              "16   146        survived      stable   M       31253.438 \n",
              "17   147        survived      stable   M        9002.333 \n",
              "18    43        survived      stable   M       11971.375 \n",
              "19    45        survived      stable   M       15488.542 \n",
              "20    71        survived      stable   F       13334.500 \n",
              "21   328        survived      oxy_drop M       24075.125 \n",
              "22   340        survived      stable   F       22108.542 \n",
              "23   342        survived      stable   F       26680.181 \n",
              "24   345        survived      stable   F      109574.500 \n",
              "25   346        survived      stable   F       30927.431 \n",
              "26   354        survived      oxy_drop M       21717.083 \n",
              "27   480        survived      stable   M       17887.583 \n",
              "28   371        survived      stable   M       12110.531 \n",
              "29   394        survived      stable   F       28368.042 \n",
              "30   397        survived      stable   M        7289.375 \n",
              "⋮    ⋮          ⋮             ⋮        ⋮      ⋮          \n",
              "3426 32625      died          stable   F       18320.21  \n",
              "3427 32637      died          stable   F       12263.24  \n",
              "3428 32639      survived      stable   F       31540.06  \n",
              "3429 29721      survived      oxy_drop M       24119.88  \n",
              "3430 29730      survived      oxy_drop F       29292.02  \n",
              "3431 29732      died          oxy_drop F       27408.46  \n",
              "3432 32465      survived      stable   F       24532.07  \n",
              "3433 32467      survived      oxy_drop M       19410.61  \n",
              "3434 32476      died          oxy_drop M       20870.42  \n",
              "3435 32381      survived      oxy_drop M      109574.12  \n",
              "3436 32495      survived      oxy_drop F       24256.03  \n",
              "3437 32496      survived      oxy_drop M       17371.46  \n",
              "3438 32500      survived      oxy_drop F       23057.12  \n",
              "3439 32104      survived      stable   M       23561.19  \n",
              "3440 32128      survived      stable   F       27711.44  \n",
              "3441 31971      survived      stable   F       31767.10  \n",
              "3442 31973      survived      stable   F      109575.02  \n",
              "3443 31974      survived      stable   M       23550.38  \n",
              "3444 31981      survived      stable   F       21046.09  \n",
              "3445 32661      survived      oxy_drop F       26640.02  \n",
              "3446 32672      survived      stable   F      109573.98  \n",
              "3447 32394      survived      stable   M       29932.25  \n",
              "3448 32395      survived      stable   F       31344.50  \n",
              "3449 32396      survived      oxy_drop M       29261.54  \n",
              "3450 32399      survived      oxy_drop M       17680.46  \n",
              "3451 31983      survived      oxy_drop M       30843.50  \n",
              "3452 32506      survived      stable   F       23776.62  \n",
              "3453 32513      survived      stable   F       28793.46  \n",
              "3454 32408      survived      stable   M       19813.38  \n",
              "3455 32417      survived      stable   M       20063.10  \n",
              "     icd9_ ADENOID CYSTIC CARCINOMA/SDA icd9_ INTRACTABLE EPILEPSY/SDA\n",
              "1    0                                  0                             \n",
              "2    0                                  0                             \n",
              "3    0                                  0                             \n",
              "4    0                                  0                             \n",
              "5    0                                  0                             \n",
              "6    0                                  0                             \n",
              "7    0                                  0                             \n",
              "8    0                                  0                             \n",
              "9    0                                  0                             \n",
              "10   0                                  0                             \n",
              "11   0                                  0                             \n",
              "12   0                                  0                             \n",
              "13   0                                  0                             \n",
              "14   0                                  0                             \n",
              "15   0                                  0                             \n",
              "16   0                                  0                             \n",
              "17   0                                  0                             \n",
              "18   0                                  0                             \n",
              "19   0                                  0                             \n",
              "20   0                                  0                             \n",
              "21   0                                  0                             \n",
              "22   0                                  0                             \n",
              "23   0                                  0                             \n",
              "24   0                                  0                             \n",
              "25   0                                  0                             \n",
              "26   0                                  0                             \n",
              "27   0                                  0                             \n",
              "28   0                                  0                             \n",
              "29   0                                  0                             \n",
              "30   0                                  0                             \n",
              "⋮    ⋮                                  ⋮                             \n",
              "3426 0                                  0                             \n",
              "3427 0                                  0                             \n",
              "3428 0                                  0                             \n",
              "3429 0                                  0                             \n",
              "3430 0                                  0                             \n",
              "3431 0                                  0                             \n",
              "3432 0                                  0                             \n",
              "3433 0                                  0                             \n",
              "3434 0                                  0                             \n",
              "3435 0                                  0                             \n",
              "3436 0                                  0                             \n",
              "3437 0                                  0                             \n",
              "3438 0                                  0                             \n",
              "3439 0                                  0                             \n",
              "3440 0                                  0                             \n",
              "3441 0                                  0                             \n",
              "3442 0                                  0                             \n",
              "3443 0                                  0                             \n",
              "3444 0                                  0                             \n",
              "3445 0                                  0                             \n",
              "3446 0                                  0                             \n",
              "3447 0                                  0                             \n",
              "3448 0                                  0                             \n",
              "3449 0                                  0                             \n",
              "3450 0                                  0                             \n",
              "3451 0                                  0                             \n",
              "3452 0                                  0                             \n",
              "3453 0                                  0                             \n",
              "3454 0                                  0                             \n",
              "3455 0                                  0                             \n",
              "     icd9_?AORTIC DISSECTION icd9_?TIA;IV HEPARIN icd9_+ETT\\\\CATH ⋯\n",
              "1    0                       0                    0               ⋯\n",
              "2    0                       0                    0               ⋯\n",
              "3    0                       0                    0               ⋯\n",
              "4    0                       0                    0               ⋯\n",
              "5    0                       0                    0               ⋯\n",
              "6    0                       0                    0               ⋯\n",
              "7    0                       0                    0               ⋯\n",
              "8    0                       0                    0               ⋯\n",
              "9    0                       0                    0               ⋯\n",
              "10   0                       0                    0               ⋯\n",
              "11   0                       0                    0               ⋯\n",
              "12   0                       0                    0               ⋯\n",
              "13   0                       0                    0               ⋯\n",
              "14   0                       0                    0               ⋯\n",
              "15   0                       0                    0               ⋯\n",
              "16   0                       0                    0               ⋯\n",
              "17   0                       0                    0               ⋯\n",
              "18   0                       0                    0               ⋯\n",
              "19   0                       0                    0               ⋯\n",
              "20   0                       0                    0               ⋯\n",
              "21   0                       0                    0               ⋯\n",
              "22   0                       0                    0               ⋯\n",
              "23   0                       0                    0               ⋯\n",
              "24   0                       0                    0               ⋯\n",
              "25   0                       0                    0               ⋯\n",
              "26   0                       0                    0               ⋯\n",
              "27   0                       0                    0               ⋯\n",
              "28   0                       0                    0               ⋯\n",
              "29   0                       0                    0               ⋯\n",
              "30   0                       0                    0               ⋯\n",
              "⋮    ⋮                       ⋮                    ⋮               ⋱\n",
              "3426 0                       0                    0               ⋯\n",
              "3427 0                       0                    0               ⋯\n",
              "3428 0                       0                    0               ⋯\n",
              "3429 0                       0                    0               ⋯\n",
              "3430 0                       0                    0               ⋯\n",
              "3431 0                       0                    0               ⋯\n",
              "3432 0                       0                    0               ⋯\n",
              "3433 0                       0                    0               ⋯\n",
              "3434 0                       0                    0               ⋯\n",
              "3435 0                       0                    0               ⋯\n",
              "3436 0                       0                    0               ⋯\n",
              "3437 0                       0                    0               ⋯\n",
              "3438 0                       0                    0               ⋯\n",
              "3439 0                       0                    0               ⋯\n",
              "3440 0                       0                    0               ⋯\n",
              "3441 0                       0                    0               ⋯\n",
              "3442 0                       0                    0               ⋯\n",
              "3443 0                       0                    0               ⋯\n",
              "3444 0                       0                    0               ⋯\n",
              "3445 0                       0                    0               ⋯\n",
              "3446 0                       0                    0               ⋯\n",
              "3447 0                       0                    0               ⋯\n",
              "3448 0                       0                    0               ⋯\n",
              "3449 0                       0                    0               ⋯\n",
              "3450 0                       0                    0               ⋯\n",
              "3451 0                       0                    0               ⋯\n",
              "3452 0                       0                    0               ⋯\n",
              "3453 0                       0                    0               ⋯\n",
              "3454 0                       0                    0               ⋯\n",
              "3455 0                       0                    0               ⋯\n",
              "     chartvalue_815 chartvalue_821 chartvalue_824 chartvalue_825 chartvalue_828\n",
              "1    1.50000        1.700000       14.80000       42.40000        77.0000      \n",
              "2    1.40027        2.600000       14.75597       35.50777       226.0000      \n",
              "3    1.40027        2.012763       12.20000       53.50000       208.4931      \n",
              "4    1.90000        2.300000       17.20000       40.10000        42.0000      \n",
              "5    1.50000        2.300000       14.40000       36.20000       359.0000      \n",
              "6    1.10000        1.700000       13.00000       28.50000       184.0000      \n",
              "7    1.50000        2.000000       16.00000       33.10000       270.0000      \n",
              "8    1.50000        2.000000       14.80000       32.00000        99.0000      \n",
              "9    1.10000        2.300000       13.20000       28.10000       111.0000      \n",
              "10   1.10000        2.700000       12.90000       24.70000       203.0000      \n",
              "11   1.20000        2.012763       13.20000       33.70000       176.0000      \n",
              "12   2.70000        2.600000       20.70000       37.00000       222.0000      \n",
              "13   1.30000        2.500000       14.10000       27.10000        46.0000      \n",
              "14   1.40000        1.600000       15.70000       30.20000       112.0000      \n",
              "15   1.00000        1.700000       12.20000       23.10000       264.0000      \n",
              "16   1.20000        2.000000       13.00000       30.30000       290.0000      \n",
              "17   1.00000        2.100000       12.50000       23.90000       148.0000      \n",
              "18   1.00000        1.700000       12.20000       25.70000       209.0000      \n",
              "19   1.20000        1.300000       13.10000       28.40000       247.0000      \n",
              "20   1.10000        4.200000       13.10000       26.10000       215.0000      \n",
              "21   1.10000        2.000000       12.60000       31.80000       169.0000      \n",
              "22   1.20000        1.500000       13.80000       25.20000       384.0000      \n",
              "23   1.40027        3.300000       14.75597       35.50777       230.0000      \n",
              "24   1.10000        1.300000       13.30000       30.60000       253.0000      \n",
              "25   1.70000        1.800000       15.70000       29.10000       102.0000      \n",
              "26   1.40000        2.100000       14.40000       28.40000       312.0000      \n",
              "27   1.50000        2.200000       15.10000       28.40000       208.4931      \n",
              "28   1.10000        1.800000       12.80000       23.70000       214.0000      \n",
              "29   2.30000        2.400000       19.00000       58.30000       106.0000      \n",
              "30   1.40027        2.000000       14.75597       35.50777       281.0000      \n",
              "⋮    ⋮              ⋮              ⋮              ⋮              ⋮             \n",
              "3426 1.10000        2.200000       12.30000       22.80000       137.0000      \n",
              "3427 1.30000        2.300000       14.70000       26.70000       299.0000      \n",
              "3428 1.40027        2.012763       14.75597       35.50777       208.4931      \n",
              "3429 1.10000        2.300000       12.60000       28.40000       389.0000      \n",
              "3430 1.20000        2.200000       13.50000       29.70000       622.0000      \n",
              "3431 1.50000        3.200000       16.20000       38.30000       224.0000      \n",
              "3432 1.20000        2.012763       13.60000       50.50000        80.0000      \n",
              "3433 1.10000        2.100000       12.70000       29.70000       167.0000      \n",
              "3434 1.60000        1.700000       17.90000       50.70000       165.0000      \n",
              "3435 1.40027        2.012763       14.75597       35.50777       178.0000      \n",
              "3436 1.50000        2.012763       16.60000       55.60000       103.0000      \n",
              "3437 1.50000        2.300000       16.70000       44.80000       143.0000      \n",
              "3438 1.10000        2.000000       13.20000       34.50000        56.0000      \n",
              "3439 1.30000        1.700000       14.20000       27.40000       162.0000      \n",
              "3440 1.10000        2.400000       13.20000       31.60000       246.0000      \n",
              "3441 1.40000        2.012763       16.00000       53.60000       183.0000      \n",
              "3442 1.40027        2.000000       14.75597       35.50777       208.4931      \n",
              "3443 1.30000        2.300000       15.20000       28.00000       143.0000      \n",
              "3444 1.30000        2.000000       14.60000       29.10000       256.0000      \n",
              "3445 1.10000        2.100000       13.40000       24.70000        49.0000      \n",
              "3446 1.20000        2.100000       13.50000       42.70000       210.0000      \n",
              "3447 1.40027        2.400000       14.75597       35.50777       250.0000      \n",
              "3448 1.10000        2.100000       12.70000       25.60000       210.0000      \n",
              "3449 1.20000        2.500000       14.00000       25.30000       143.0000      \n",
              "3450 1.20000        2.800000       14.20000       26.80000       319.0000      \n",
              "3451 1.20000        1.900000       13.60000       84.70000       184.0000      \n",
              "3452 1.00000        2.500000       12.30000       22.30000       190.0000      \n",
              "3453 1.40027        1.800000       14.75597       35.50777       214.0000      \n",
              "3454 1.40027        2.700000       14.75597       35.50777       163.0000      \n",
              "3455 1.30000        2.000000       14.50000       43.10000       202.0000      \n",
              "     chartvalue_829 chartvalue_833 chartvalue_837 chartvalue_861 chartvalue_87\n",
              "1    3.900000       3.040000       144.0000        6.50000       15.00000     \n",
              "2    3.700000       5.600000       136.0000       26.00000       11.00000     \n",
              "3    4.101856       3.535677       139.2208       12.65352       13.00000     \n",
              "4    5.000000       2.310000       136.0000        7.00000       11.00000     \n",
              "5    4.400000       3.300000       138.0000       24.40000       11.00000     \n",
              "6    3.700000       2.940000       133.0000        6.90000       11.00000     \n",
              "7    3.900000       3.810000       129.0000       21.90000       11.00000     \n",
              "8    3.800000       3.200000       138.0000       13.90000       10.00000     \n",
              "9    4.200000       3.910000       140.0000       10.50000       11.00000     \n",
              "10   4.100000       3.160000       142.0000       12.10000       11.00000     \n",
              "11   4.300000       3.290000       133.0000       10.40000       12.83128     \n",
              "12   4.600000       3.660000       135.0000       14.70000       12.00000     \n",
              "13   4.200000       3.020000       139.0000        1.80000       11.00000     \n",
              "14   3.400000       3.570000       142.0000        4.00000       17.00000     \n",
              "15   4.200000       4.330000       139.0000       10.90000       14.00000     \n",
              "16   5.900000       2.960000       127.0000       24.10000       14.00000     \n",
              "17   4.000000       4.090000       139.0000       13.40000       12.83128     \n",
              "18   4.800000       3.980000       134.0000       11.40000       14.00000     \n",
              "19   4.300000       3.600000       140.0000       19.00000       12.83128     \n",
              "20   3.200000       3.600000       143.0000       15.00000       13.00000     \n",
              "21   3.700000       5.380000       141.0000       10.40000       12.83128     \n",
              "22   4.900000       3.310000       143.0000       14.60000       18.00000     \n",
              "23   4.100000       3.520000       137.0000        9.00000       12.00000     \n",
              "24   3.400000       4.140000       139.0000        9.80000       12.00000     \n",
              "25   3.200000       3.220000       141.0000        5.80000       14.00000     \n",
              "26   4.500000       4.340000       137.0000       10.30000       13.00000     \n",
              "27   4.200000       3.080000       135.0000        9.40000       15.00000     \n",
              "28   3.600000       3.960000       140.0000        8.00000       13.00000     \n",
              "29   4.100000       3.110000       136.0000        8.80000       14.00000     \n",
              "30   3.900000       4.590000       141.0000       15.10000       13.00000     \n",
              "⋮    ⋮              ⋮              ⋮              ⋮              ⋮            \n",
              "3426 3.600000       3.240000       143.0000       15.30000       12.00000     \n",
              "3427 4.300000       4.280000       151.0000       17.80000       11.00000     \n",
              "3428 4.101856       3.535677       139.2208       12.65352       13.00000     \n",
              "3429 4.800000       3.080000       140.0000       11.50000       12.00000     \n",
              "3430 3.900000       3.270000       138.0000       19.10000       15.00000     \n",
              "3431 5.100000       3.060000       127.0000       26.30000       15.00000     \n",
              "3432 4.300000       3.310000       139.0000        6.70000       13.00000     \n",
              "3433 3.900000       3.730000       136.0000        9.10000       13.00000     \n",
              "3434 4.500000       3.490000       144.0000        9.80000       13.00000     \n",
              "3435 3.800000       4.010000       144.0000        6.70000       14.00000     \n",
              "3436 3.900000       3.030000       135.0000       24.00000       12.83128     \n",
              "3437 3.900000       3.040000       143.0000       10.60000       12.00000     \n",
              "3438 4.400000       2.970000       139.0000        3.70000       13.00000     \n",
              "3439 7.000000       3.530000       142.0000        9.70000       13.00000     \n",
              "3440 4.500000       2.890000       138.0000       14.70000       12.00000     \n",
              "3441 4.000000       4.040000       133.0000        9.60000       15.00000     \n",
              "3442 4.500000       3.535677       133.0000       12.65352       14.00000     \n",
              "3443 4.200000       3.960000       136.0000       11.80000       13.00000     \n",
              "3444 4.200000       3.240000       137.0000        9.50000       13.00000     \n",
              "3445 4.200000       3.460000       136.0000       12.90000        9.00000     \n",
              "3446 4.300000       3.570000       138.0000        4.20000       13.00000     \n",
              "3447 3.900000       4.090000       142.0000       18.70000       14.00000     \n",
              "3448 4.500000       3.870000       139.0000       10.30000       12.00000     \n",
              "3449 4.200000       3.460000       136.0000        4.50000       15.00000     \n",
              "3450 3.800000       3.510000       148.0000       11.30000       16.00000     \n",
              "3451 4.000000       3.540000       149.0000        6.00000       16.00000     \n",
              "3452 3.700000       3.530000       139.0000       14.80000       12.00000     \n",
              "3453 4.800000       3.870000       142.0000       13.20000       16.00000     \n",
              "3454 3.600000       4.090000       138.0000        6.30000       12.00000     \n",
              "3455 4.600000       3.290000       138.0000       10.60000       13.00000     "
            ]
          },
          "metadata": {}
        }
      ]
    },
    {
      "cell_type": "markdown",
      "metadata": {
        "id": "vK3AMcVnzuU5"
      },
      "source": [
        "### 1.2 (4 pts) Removing Uninformative Features\n",
        "\n",
        "Before we do any modeling, let's cut down on our feature space by removing low-variance features that probably aren't useful enough to measure association with or use in a predictive model. `caret` has a function to do that, so let's use it instead of reinventing the wheel. \n",
        "\n",
        "Find the relevant function in the `caret` documentation and use it to create a new patient-feature matrix with only the useful features. From now on we will use the result of this step instead of the full feature matrix. Report how many of each different kind of feature are left after filtering out the near-zero variance features. As a sanity check, look at the kinds of features that are over-represented or under-represented in this set relative to the full set of features. Explain in a sentence if and why the result makes sense to you.\n",
        "\n",
        "----"
      ]
    },
    {
      "cell_type": "markdown",
      "metadata": {
        "id": "w3DYHqOMzuU6"
      },
      "source": [
        "## 2. (55 pts) Associative Analyses"
      ]
    },
    {
      "cell_type": "markdown",
      "metadata": {
        "id": "NsGPHvJCzuU6"
      },
      "source": [
        "In this part of the assignment, you will use statistical tests to evaluate hypotheses about the relationship between  patient features and the binary outcome of whether a patient died during their ICU stay. You will also do a survival analysis using Kaplan-Meier curves and Cox regression to assess whether survival is significantly different between those who experienced a sudden and sustained drop in oxygenation, and those who did not.\n",
        "\n",
        "-----"
      ]
    },
    {
      "cell_type": "markdown",
      "metadata": {
        "id": "4Qci_vYFzuU7"
      },
      "source": [
        "### 2.1 (12 pts) Hypothesis testing"
      ]
    },
    {
      "cell_type": "markdown",
      "metadata": {
        "id": "5gUjsw2lzuU7"
      },
      "source": [
        "#### 2.1.1 (10 pts) Statistical Tests of Differences Between Two Groups\n",
        "\n",
        "For the features `alarms` (chart indicator), `activity` (chart indicator), `respiratory rate` (chart value), `arterial PaCO2` (chart value), `oxy_drop` (engineered feature) and `snomed ct concept` (note CUI), use a t-test, rank-sum test, Fisher exact test, or a $\\chi^2$ (chi squared) test (whichever is most appropriate) to determine if each of these features is associated with mortality. Write your reasoning for determining which kind of test to use. If multiple tests are applicable to a comparison, use all of the applicable tests and compare the results. \n",
        "\n",
        "-----"
      ]
    },
    {
      "cell_type": "markdown",
      "metadata": {
        "id": "QmVo71vdzuU8"
      },
      "source": [
        "#### 2.1.2 (2 pts) Hypothesis testing with Bonferroni correction\n",
        "\n",
        "Use Bonferroni correction to determine the p-value cutoff if you were to evaluate association of all chart value features with death during ICU stay as an outcome. How many chart value features are significantly associated with death at this cutoff? How many chart value features are significantly associated with death (according to a t-test) at the standard cutoff of 0.05?\n",
        "\n",
        "-----"
      ]
    },
    {
      "cell_type": "markdown",
      "metadata": {
        "id": "zw2weG8AzuU8"
      },
      "source": [
        "### 2.2 (20 pts) Adjusted Analyses\n",
        "\n",
        "In this part of the assignment you will build and compare several  regression models for the binary outcome of death during hospitalization.\n",
        "\n",
        "-----"
      ]
    },
    {
      "cell_type": "markdown",
      "metadata": {
        "id": "z5-u0vG9zuU8"
      },
      "source": [
        "#### 2.2.1 (6 pts) Regression Models for Association\n",
        "\n",
        "Use the `glm` package to build 3 models with the following independent variables. Use the kind of regression (set with the `family` parameter) that is appropriate for the data.\n",
        "\n",
        "1. Age and oxy_drop\n",
        "2. Age, gender and oxy_drop\n",
        "3. Age, gender, oxy_drop and the chart value features that are signficantly associated with death after Bonferroni correction\n",
        "\n",
        "-----"
      ]
    },
    {
      "cell_type": "markdown",
      "metadata": {
        "id": "fNp4IUbxzuU8"
      },
      "source": [
        "#### 2.2.2 (6 pts) Comparing regression models\n",
        "\n",
        "What is the coefficient for `oxy_drop` in each model and what is its confidence interval? Why does the point estimate change as more features are added? Assuming you had a model of $Y$ regressed on $X_1$ and you added the variable $X_2$, under what conditions would the coefficient for $X_1$ not change? If both are positively correlated with the outcome and with each other, what would happen to the coefficient of $X_1$ after adding $X_2$? Why?\n",
        "\n",
        "-----"
      ]
    },
    {
      "cell_type": "markdown",
      "metadata": {
        "id": "X0FiyuENzuU9"
      },
      "source": [
        "#### 2.2.3 (4 pts) Legitimancy of Confidence Intervals\n",
        "\n",
        "Assuming there are no systematic biases in the data and the only errors are from random sampling noise, do you think these confidence intervals are legitimate for all of these models, for none of them, or only for some of them? Explain your answer. If you said any of the confidence intervals are not legitimate, explain what you could change about the modeling procedure to make them so.\n",
        "\n",
        "-----"
      ]
    },
    {
      "cell_type": "markdown",
      "metadata": {
        "id": "YRqK3YvJzuU9"
      },
      "source": [
        "#### 2.2.4 (4 pts) Goodness-of-fit testing\n",
        "\n",
        "One way to compare models that use an increasing number of features is to test whether the residuals (the differences between the true outcome and the predicted outcome) are significantly different from each other. This is conceptually the same as assessing the likelihood of the data under each fitted model. In `R`, you can do that with the `anova` function by passing it a series of (generalized) linear models. Compare the 3 models you built in 2.2.1. Which model has the best fit (smallest deviance)? If we compared these three models using a held-out test set, would the same model necessarily have the lowest error? Why or why not?\n",
        "\n",
        "-----"
      ]
    },
    {
      "cell_type": "markdown",
      "metadata": {
        "id": "fEz9AZw1zuU9"
      },
      "source": [
        "### 2.3 (23 pts) Survival Analysis\n",
        "\n",
        "In this part of the assignment you will use your own code and `coxph` to fit survival (time-to-event) models. \n",
        "\n",
        "-----"
      ]
    },
    {
      "cell_type": "markdown",
      "metadata": {
        "id": "nAocgrSlzuU9"
      },
      "source": [
        "#### 2.3.1 (3 pts) Creating Survival Data\n",
        "\n",
        "Use the `cohort.csv` data to calculate the survival time (until death or censoring) for all patients. Use the `index_time`, `deathtime` and `censor_time` columns, as well as the function `mutate` to accomplish this. The time unit should be in days. Save these data in a new data frame called `patients_survival` that also keeps track of the `oxy_drop` value for each patient.\n",
        "\n",
        "-----"
      ]
    },
    {
      "cell_type": "markdown",
      "metadata": {
        "id": "y_UToUYEzuU9"
      },
      "source": [
        "#### 2.3.2 (13 pts) Kaplan-Meier Curves\n",
        "\n",
        "Use your `patients_survival` data and `dplyr` and `ggplot2` to write your own code to generate Kaplan-Meier curves for patients who suffered a sudden and sustained drop in oxygenation and those who did not. Display both curves on the same plot in different colors. The functions `cumsum()` and `cumprod()` will likely come in handy. There are also some packages available that will calculate survival statistics and Kaplan-Meier plots for you, such as `survival` and `survminer`. Use functions in these packages to generate Kaplan-Meier curves for the survival data you created above. How do they compare to the curves generated with your code? What features do these packages provide that your code does not?\n",
        "\n",
        "-----"
      ]
    },
    {
      "cell_type": "markdown",
      "metadata": {
        "id": "saYT1M0WzuU-"
      },
      "source": [
        "#### 2.3.3 (7 pts) Cox Proportional Hazards Models\n",
        "\n",
        "Use your `patients_survial` data combined with the patient feature matrix to run a univariate cox proportional hazards model of mortality regressed on a drop in oxygenation. Don't worry if you get a warning message about convergence. What is the value of the coefficient and its confidence interval? Also run a model adjusted for all of the non-zero variance features. What is the value of the coefficient for the drop in oxygenation and its confidence interval in that model? What is an explanation for the difference in the results?\n",
        "\n",
        "-----"
      ]
    },
    {
      "cell_type": "markdown",
      "metadata": {
        "collapsed": true,
        "id": "-PVZKX8czuU-"
      },
      "source": [
        "## 3. (40 pts) Causal Analyses"
      ]
    },
    {
      "cell_type": "markdown",
      "metadata": {
        "id": "tUy3ObLEzuU-"
      },
      "source": [
        "In our predictive analyses we saw that we could do a reasonable job of predicting mortality, but there are many cases where simply having a good prediction is not of much value. If clinicians are interested in saving the patient, they need to know what the causal factors are that lead to death so that they can intervene in the right place. Usually this question takes the form of comparing two exposures (drugs or procedures, for example), but we can also ask if the natural occurance of a condition causally leads to a bad outcome. Here we will investigate if having a sudden and sustained drop in oxygenation during ventilation (which we will refer to as the *exposure*) is causally related to death later in the hospitalization (the *outcome*)."
      ]
    },
    {
      "cell_type": "markdown",
      "metadata": {
        "id": "zfWPX5y7zuU_"
      },
      "source": [
        "### 3.1 (10 pts) Analyses without Matching\n",
        "\n",
        "#### 3.1.1 (3 pts) Univariate Analysis\n",
        "\n",
        "Run an appropriate statistical test to see if a drop in oxygenation is related to mortality. Treat both variables as binary.\n",
        "\n",
        "What is the odds ratio? Does a drop in oxygenation appear to significantly decrease or increase the risk of death? Does this establish causality between a drop in oxygenation and mortality? Why or why not? If you think it does not, how else would you explain the result?\n",
        "\n",
        "-----"
      ]
    },
    {
      "cell_type": "markdown",
      "metadata": {
        "id": "H3OjIgAvzuU_"
      },
      "source": [
        "#### 3.1.2 (5 pts) Multivariate Analysis\n",
        "\n",
        "Let's see if we still see an effect after adjusting for other features. Run the appropriate kind of unregularized regression (using `glm`) of mortality on the same set of features as in the predictive modeling section (i.e. exclude near-zero variance features). You can use a formula like `died ~ .` to regress a variable named `died` in a data frame on the rest of the variables in that data frame.\n",
        "\n",
        "Is the coefficient of the feature encoding a drop in oxygenation statistically significant in the model? What is the equivalent odds ratio? Does this establish causality between a drop in oxygenation and mortality? Why or why not? If you think it does not, how else would you explain the result?\n",
        "\n",
        "-----"
      ]
    },
    {
      "cell_type": "markdown",
      "metadata": {
        "id": "QYMGALNtzuU_"
      },
      "source": [
        "#### 3.1.3 (2 pts) Equivalent Experiment\n",
        "\n",
        "Is there an experiment that you could run in theory that would let you determine the causal effect of a sudden oxygenation drop on mortality using only these inferential analyses? What might be some practical or ethical problems with your experiment?\n"
      ]
    },
    {
      "cell_type": "markdown",
      "metadata": {
        "id": "zaFcMqCszuVA"
      },
      "source": [
        "### 3.2 (30 pts) Matching Analysis with Propensity Scores\n",
        "\n",
        "#### 3.2.1 (5 pts) Propensity Modeling \n",
        "\n",
        "To try and more conclusively determine what the causal effect is we'll do a *propensity score* analysis. \n",
        "\n",
        "Estimate the exposure propensities of all the patients in the dataset using logistic regression on all non-zero-variance features, but of course exclude the feature that encodes the exposure (`oxy_drop`). Remember that now we are fitting a model to the *exposure* (`oxy_drop`) and not the *outcome*. \n",
        "\n",
        "-----"
      ]
    },
    {
      "cell_type": "markdown",
      "metadata": {
        "id": "chLQjp4LzuVA"
      },
      "source": [
        "#### 3.2.2 (2 pts) Propensity Estimation \n",
        "\n",
        "Use your model to predict the propensity for each patient in the dataset. Use `qplot` to make a density plot (like a histogram) of the logits of the estimated propensities for all patients who truly did experience a sudden drop in oxygenation and an equivalant density plot for patients that did not. Diplay both curves in the same plot, coloring them differently. The `car` package has a `logit()` function you can use if you don't care to write your own.\n",
        "\n",
        "What does the amount of overlap between these two distributions say about how good your propensity score model is predicting the exposure? Is it bad if your model has poor performance? (*hint: if the exposure happened totally at random, would that help you or hurt you in determining a causal effect?*)\n",
        "\n",
        "-----"
      ]
    },
    {
      "cell_type": "markdown",
      "metadata": {
        "id": "qyb9LWn8zuVA"
      },
      "source": [
        "#### 3.2.3 (3 pts) Caliper Matching\n",
        "\n",
        "The next step of a propensity score analysis is to match patients based on their propensities. Patients who have similar propensities are more \"twin-like\", so if one is exposed and the other isn't and then they have different outcomes, it's easier to say that the difference in exposure is what caused the different outcomes.\n",
        "\n",
        "Use the `Match()` function from the `Matching` package to find a subset of the data where every exposed patient has a matched unexposed counterpart. Do the matching on the logit of the esimated propensity instead of on the propensity itself. Match without replacement and use a caliper (the maximum distance allowed between two matched patients) of 0.25. Your result should be a single vector containing the row numbers of the matched patients.\n",
        "\n",
        "How many patients are in the matched set? How does this number compare to the orignal number of patients in the dataset? "
      ]
    },
    {
      "cell_type": "markdown",
      "metadata": {
        "id": "PQ_dP1DCzuVA"
      },
      "source": [
        "#### 3.2.4 (5 pts) Matched Outcomes Analysis\n",
        "\n",
        "Repeat your statistical test from above (4.1.1) to see if the odds ratio between an drop in oxygenation is related to mortality, but this time use only data from the matched patients.\n",
        "\n",
        "Is the estimated effect different than before? Is it significantly protective or harmful? How do you interpret this result?\n",
        "\n",
        "-----"
      ]
    },
    {
      "cell_type": "markdown",
      "metadata": {
        "id": "qStOqijHzuVB"
      },
      "source": [
        "#### 3.2.5 (5 pts) Effect of Caliper\n",
        "\n",
        "We could have had a stricter caliper and enforced that patients had to be more similar to be matched- what would have been the tradeoff in doing that in terms of the bias and variance of the estimate of the causal effect?\n",
        "\n",
        "-----\n"
      ]
    },
    {
      "cell_type": "markdown",
      "metadata": {
        "id": "c-Yvc4zDzuVB"
      },
      "source": [
        "#### 3.2.6 (5 pts) Including Post-Exposure Data in Propensity Models\n",
        "\n",
        "In our dataset all of the information we have for each patient is from before the index time, which by definition is before the exposure time. What if we had included some data from after the exposure to fit the propensity score model? For instance, what if we included the total cost of the hospitalization as a feature that we used to estimate exposure propensities? Would our inference still be causally valid? Why or why not?\n",
        "\n",
        "-----"
      ]
    },
    {
      "cell_type": "markdown",
      "metadata": {
        "id": "Mrfw9E8rzuVB"
      },
      "source": [
        "#### 3.2.7 (5 pts) Lingering Biases\n",
        "\n",
        "What are some sources of bias that our propensity score analysis cannot correct for? \n",
        "\n",
        "-----"
      ]
    },
    {
      "cell_type": "markdown",
      "metadata": {
        "id": "ql6cpsXCzuVB"
      },
      "source": [
        "## Feedback (0 points)\n",
        "####  How much time did you spend on this assignment?\n",
        "\n",
        "####  How much did you learn? Choose one (type your answer after the table):\n",
        "   A | B | C | D | E |\n",
        "   --|---|---|---|---|\n",
        "   a great deal |  a lot  |  a moderate amount | a little | none at all|\n",
        "   \n",
        "#### Did you do any of the following: go to office hours, post on canvas, e-mail TAs? If so, which?\n",
        "\n"
      ]
    }
  ]
}