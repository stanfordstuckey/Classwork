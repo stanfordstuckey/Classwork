{
  "nbformat": 4,
  "nbformat_minor": 0,
  "metadata": {
    "kernelspec": {
      "display_name": "R",
      "language": "R",
      "name": "ir"
    },
    "language_info": {
      "codemirror_mode": "r",
      "file_extension": ".r",
      "mimetype": "text/x-r-source",
      "name": "R",
      "pygments_lexer": "r",
      "version": "3.6.1"
    },
    "colab": {
      "name": "feature_engineering.ipynb",
      "provenance": [],
      "collapsed_sections": [],
      "include_colab_link": true
    }
  },
  "cells": [
    {
      "cell_type": "markdown",
      "metadata": {
        "id": "view-in-github",
        "colab_type": "text"
      },
      "source": [
        "<a href=\"https://colab.research.google.com/github/stanfordstuckey/VeryFirstRepos/blob/main/feature_engineering.ipynb\" target=\"_parent\"><img src=\"https://colab.research.google.com/assets/colab-badge.svg\" alt=\"Open In Colab\"/></a>"
      ]
    },
    {
      "cell_type": "markdown",
      "metadata": {
        "id": "OTI0cOsJcwnr"
      },
      "source": [
        "## Homework 4: Feature Engineering with Clinical Data [120 points]\n",
        "\n",
        "### BIOMEDIN 215 (Data Driven Medicine), Fall 2021 \n",
        "\n",
        "### Due: Tuesday, October 26th, 2021\n",
        "\n",
        "\n",
        "In this assignment you will gain experience transforming clinical data into sets of features for downstream statistical analysis. You will practice using common time-saving tools in the R programming language that are ideally suited to these tasks.\n",
        "\n",
        "You will primarily be building off of the cohort that you developed in the Cohort Building homework. In particular, you will extract features from vitals, diagnosis codes, and more that can be used to predict the future development of septic shock. \n",
        "\n",
        "You will not be replicating the models presented in [\"A targeted real-time early warning score (TREWScore) for septic shock\" by Henry et al.](http://stm.sciencemag.org/content/7/299/299ra122.full) directly, but we include a link to the paper for your reference.\n",
        "\n",
        "All of the data you need for this assignment is available on Canvas.\n",
        "\n",
        "Please edit this document directly using either Jupyter or R markdown in RStudio and answer each of the questions in-line. Turn in a single .pdf document showing all of your code and output for the entire assignment, with each question clearly demarcated. Submit your completed assignment through Canvas."
      ]
    },
    {
      "cell_type": "markdown",
      "metadata": {
        "id": "K8Mg2vlqcwnu"
      },
      "source": [
        "## 0. Getting Ready"
      ]
    },
    {
      "cell_type": "markdown",
      "metadata": {
        "id": "121EYCAdcwnv"
      },
      "source": [
        "The first thing we need to do is load all of the packages we will use for this assignment. Please load the packages `tidyverse`, `lubridate`, `data.table`, `Matrix`, and `glmnet`. Also, please run the command `Sys.setenv(TZ='UTC')`."
      ]
    },
    {
      "cell_type": "code",
      "metadata": {
        "colab": {
          "base_uri": "https://localhost:8080/"
        },
        "id": "ylDIQNt4cwnv",
        "outputId": "e93ef12e-dfcd-407e-a02c-90912a2f54d7"
      },
      "source": [
        "install.packages(\"tidyverse\")\n",
        "install.packages(\"lubridate\")\n",
        "install.packages(\"data.table\")\n",
        "install.packages(\"Matrix\")\n",
        "install.packages(\"glmnet\")\n",
        "\n",
        "Sys.setenv(TZ='UTC')"
      ],
      "execution_count": null,
      "outputs": [
        {
          "output_type": "stream",
          "name": "stderr",
          "text": [
            "Installing package into ‘/usr/local/lib/R/site-library’\n",
            "(as ‘lib’ is unspecified)\n",
            "\n",
            "Installing package into ‘/usr/local/lib/R/site-library’\n",
            "(as ‘lib’ is unspecified)\n",
            "\n",
            "Installing package into ‘/usr/local/lib/R/site-library’\n",
            "(as ‘lib’ is unspecified)\n",
            "\n",
            "Installing package into ‘/usr/local/lib/R/site-library’\n",
            "(as ‘lib’ is unspecified)\n",
            "\n",
            "Installing package into ‘/usr/local/lib/R/site-library’\n",
            "(as ‘lib’ is unspecified)\n",
            "\n",
            "also installing the dependencies ‘iterators’, ‘foreach’, ‘shape’\n",
            "\n",
            "\n"
          ]
        }
      ]
    },
    {
      "cell_type": "code",
      "metadata": {
        "colab": {
          "base_uri": "https://localhost:8080/",
          "height": 996
        },
        "id": "fZGt-RzAcwny",
        "outputId": "a4cceef0-6f0d-42fc-8b65-a0373d7e9e6d"
      },
      "source": [
        "library(tidyverse)\n",
        "library(lubridate)\n",
        "library(data.table)\n",
        "library(Matrix)\n",
        "library(glmnet)"
      ],
      "execution_count": 1,
      "outputs": [
        {
          "output_type": "stream",
          "name": "stderr",
          "text": [
            "Warning message in system(\"timedatectl\", intern = TRUE):\n",
            "“running command 'timedatectl' had status 1”\n",
            "── \u001b[1mAttaching packages\u001b[22m ─────────────────────────────────────── tidyverse 1.3.1 ──\n",
            "\n",
            "\u001b[32m✔\u001b[39m \u001b[34mggplot2\u001b[39m 3.3.5     \u001b[32m✔\u001b[39m \u001b[34mpurrr  \u001b[39m 0.3.4\n",
            "\u001b[32m✔\u001b[39m \u001b[34mtibble \u001b[39m 3.1.5     \u001b[32m✔\u001b[39m \u001b[34mdplyr  \u001b[39m 1.0.7\n",
            "\u001b[32m✔\u001b[39m \u001b[34mtidyr  \u001b[39m 1.1.4     \u001b[32m✔\u001b[39m \u001b[34mstringr\u001b[39m 1.4.0\n",
            "\u001b[32m✔\u001b[39m \u001b[34mreadr  \u001b[39m 2.0.2     \u001b[32m✔\u001b[39m \u001b[34mforcats\u001b[39m 0.5.1\n",
            "\n",
            "── \u001b[1mConflicts\u001b[22m ────────────────────────────────────────── tidyverse_conflicts() ──\n",
            "\u001b[31m✖\u001b[39m \u001b[34mdplyr\u001b[39m::\u001b[32mfilter()\u001b[39m masks \u001b[34mstats\u001b[39m::filter()\n",
            "\u001b[31m✖\u001b[39m \u001b[34mdplyr\u001b[39m::\u001b[32mlag()\u001b[39m    masks \u001b[34mstats\u001b[39m::lag()\n",
            "\n",
            "\n",
            "Attaching package: ‘lubridate’\n",
            "\n",
            "\n",
            "The following objects are masked from ‘package:base’:\n",
            "\n",
            "    date, intersect, setdiff, union\n",
            "\n",
            "\n",
            "\n",
            "Attaching package: ‘data.table’\n",
            "\n",
            "\n",
            "The following objects are masked from ‘package:lubridate’:\n",
            "\n",
            "    hour, isoweek, mday, minute, month, quarter, second, wday, week,\n",
            "    yday, year\n",
            "\n",
            "\n",
            "The following objects are masked from ‘package:dplyr’:\n",
            "\n",
            "    between, first, last\n",
            "\n",
            "\n",
            "The following object is masked from ‘package:purrr’:\n",
            "\n",
            "    transpose\n",
            "\n",
            "\n",
            "\n",
            "Attaching package: ‘Matrix’\n",
            "\n",
            "\n",
            "The following objects are masked from ‘package:tidyr’:\n",
            "\n",
            "    expand, pack, unpack\n",
            "\n",
            "\n"
          ]
        },
        {
          "output_type": "error",
          "ename": "ERROR",
          "evalue": "ignored",
          "traceback": [
            "Error in library(glmnet): there is no package called ‘glmnet’\nTraceback:\n",
            "1. library(glmnet)"
          ]
        }
      ]
    },
    {
      "cell_type": "code",
      "metadata": {
        "id": "wAlJ2UzDcwny"
      },
      "source": [
        "Sys.setenv(TZ='UTC')"
      ],
      "execution_count": 2,
      "outputs": []
    },
    {
      "cell_type": "markdown",
      "metadata": {
        "id": "ZMUIQyffcwnz"
      },
      "source": [
        "## 1. Defining labels for prediction"
      ]
    },
    {
      "cell_type": "markdown",
      "metadata": {
        "id": "881Rzaxdcwn0"
      },
      "source": [
        "-----\n",
        "##### 1.1 (10 pts)\n",
        "\n",
        "We are going to take the 1000 subject development cohort you worked with on the previous assignment and explore some methods of feature engineering for the task of predicting whether a patient will go on to develop septic shock. You will start with a dataset similar to what you might have generated at the end of the prior assignment. This dataset is available in the file `cohort_labels.csv`.\n",
        "\n",
        "The prediction problem motivating this assignment is to predict, at 12 hours into an admission, whether septic shock will occur during the remainder of the admission, with at least 3 hours of lead time. Your task is to engineer a set of features that may be used as the inputs to a model that makes this prediction.\n",
        "\n",
        "We will derive the **labels** and **index times** in a way that aligns with the task description above. Note that this is not the same procedure as in the TREWscore paper.\n",
        "\n",
        "We will use the following definitions:\n",
        "\n",
        "* We will only assign labels to admissions of at least twelve hours in duration.\n",
        "* An admission is assigned a negative label if septic shock does not occur at any time during the admission.\n",
        "* An admission is assigned a positive label if septic shock occurs fifteen hours after admission or later.\n",
        "* Admissions where the earliest time of septic shock occurs prior to fifteen hours after admission are removed from the study.\n",
        "* For admissions that have valid labels, we assign an index time at twelve hours into the admission. For prediction, we only use information that occurs before the index time.\n",
        "* In the case that a patient has multiple admissions for which a valid index time and label may be assigned, we only use the latest one.\n",
        "\n",
        "To begin, given the above definitions, load `cohort_labels.csv` and `ADMISSIONS.csv` and derive the binary classification labels for septic shock and the corresponding index times for each patient in the dataframe. The result should be a dataframe with one row per patient and additional columns for `index_time` and `label`.\n",
        "\n",
        "How many patients receive a positive or negative label?\n",
        "\n",
        "----"
      ]
    },
    {
      "cell_type": "code",
      "metadata": {
        "tags": [],
        "colab": {
          "base_uri": "https://localhost:8080/"
        },
        "id": "Z9vKVUWIcwn1",
        "outputId": "a5fa8066-c3e5-4c5f-d300-8d85e0c39581"
      },
      "source": [
        "library(readr)\n",
        "ADMISSIONS <- read_csv(\"/content/ADMISSIONS.csv\")"
      ],
      "execution_count": 4,
      "outputs": [
        {
          "output_type": "stream",
          "name": "stderr",
          "text": [
            "\u001b[1m\u001b[1mRows: \u001b[1m\u001b[22m\u001b[34m\u001b[34m58976\u001b[34m\u001b[39m \u001b[1m\u001b[1mColumns: \u001b[1m\u001b[22m\u001b[34m\u001b[34m19\u001b[34m\u001b[39m\n",
            "\n",
            "\u001b[36m──\u001b[39m \u001b[1m\u001b[1mColumn specification\u001b[1m\u001b[22m \u001b[36m────────────────────────────────────────────────────────\u001b[39m\n",
            "\u001b[1mDelimiter:\u001b[22m \",\"\n",
            "\u001b[31mchr\u001b[39m  (9): ADMISSION_TYPE, ADMISSION_LOCATION, DISCHARGE_LOCATION, INSURANCE,...\n",
            "\u001b[32mdbl\u001b[39m  (5): ROW_ID, SUBJECT_ID, HADM_ID, HOSPITAL_EXPIRE_FLAG, HAS_CHARTEVENTS...\n",
            "\u001b[34mdttm\u001b[39m (5): ADMITTIME, DISCHTIME, DEATHTIME, EDREGTIME, EDOUTTIME\n",
            "\n",
            "\n",
            "\u001b[36mℹ\u001b[39m Use \u001b[30m\u001b[47m\u001b[30m\u001b[47m`spec()`\u001b[47m\u001b[30m\u001b[49m\u001b[39m to retrieve the full column specification for this data.\n",
            "\u001b[36mℹ\u001b[39m Specify the column types or set \u001b[30m\u001b[47m\u001b[30m\u001b[47m`show_col_types = FALSE`\u001b[47m\u001b[30m\u001b[49m\u001b[39m to quiet this message.\n",
            "\n"
          ]
        }
      ]
    },
    {
      "cell_type": "code",
      "metadata": {
        "colab": {
          "base_uri": "https://localhost:8080/"
        },
        "id": "KadR9PXQcwn2",
        "outputId": "5ab78a99-e331-4a10-e825-ff12d3a7243d"
      },
      "source": [
        "cohort_labels <- read_csv(\"/content/cohort_labels.csv\")"
      ],
      "execution_count": 5,
      "outputs": [
        {
          "output_type": "stream",
          "name": "stderr",
          "text": [
            "\u001b[1m\u001b[1mRows: \u001b[1m\u001b[22m\u001b[34m\u001b[34m247936\u001b[34m\u001b[39m \u001b[1m\u001b[1mColumns: \u001b[1m\u001b[22m\u001b[34m\u001b[34m7\u001b[34m\u001b[39m\n",
            "\n",
            "\u001b[36m──\u001b[39m \u001b[1m\u001b[1mColumn specification\u001b[1m\u001b[22m \u001b[36m────────────────────────────────────────────────────────\u001b[39m\n",
            "\u001b[1mDelimiter:\u001b[22m \",\"\n",
            "\u001b[32mdbl\u001b[39m  (3): subject_id, hadm_id, icustay_id\n",
            "\u001b[33mlgl\u001b[39m  (3): sepsis, severe_sepsis, septic_shock\n",
            "\u001b[34mdttm\u001b[39m (1): charttime\n",
            "\n",
            "\n",
            "\u001b[36mℹ\u001b[39m Use \u001b[30m\u001b[47m\u001b[30m\u001b[47m`spec()`\u001b[47m\u001b[30m\u001b[49m\u001b[39m to retrieve the full column specification for this data.\n",
            "\u001b[36mℹ\u001b[39m Specify the column types or set \u001b[30m\u001b[47m\u001b[30m\u001b[47m`show_col_types = FALSE`\u001b[47m\u001b[30m\u001b[49m\u001b[39m to quiet this message.\n",
            "\n"
          ]
        }
      ]
    },
    {
      "cell_type": "markdown",
      "metadata": {
        "id": "J4B5peMocwn2"
      },
      "source": [
        "So to begin I created a copy of the `ADMISSIONS` df, which I called `twelvehour_more`. Basically here all I am doing is calculating the time difference between admit and discharge into a new column which will display the total time in hours they were in the hospital. "
      ]
    },
    {
      "cell_type": "code",
      "metadata": {
        "colab": {
          "base_uri": "https://localhost:8080/",
          "height": 524
        },
        "id": "i2bKOB6xcwn2",
        "outputId": "d9354d05-3f23-4794-9327-f8f1986f38f4"
      },
      "source": [
        "hour_in_hosp <- ADMISSIONS\n",
        "hour_in_hosp$time_diff <- difftime(hour_in_hosp$DISCHTIME, hour_in_hosp$ADMITTIME, units = c(\"hours\"))\n",
        "head(hour_in_hosp)"
      ],
      "execution_count": 6,
      "outputs": [
        {
          "output_type": "display_data",
          "data": {
            "text/plain": [
              "  ROW_ID SUBJECT_ID HADM_ID ADMITTIME           DISCHTIME           DEATHTIME\n",
              "1 21     22         165315  2196-04-09 12:26:00 2196-04-10 15:54:00 <NA>     \n",
              "2 22     23         152223  2153-09-03 07:15:00 2153-09-08 19:10:00 <NA>     \n",
              "3 23     23         124321  2157-10-18 19:34:00 2157-10-25 14:00:00 <NA>     \n",
              "4 24     24         161859  2139-06-06 16:14:00 2139-06-09 12:48:00 <NA>     \n",
              "5 25     25         129635  2160-11-02 02:06:00 2160-11-05 14:55:00 <NA>     \n",
              "6 26     26         197661  2126-05-06 15:16:00 2126-05-13 15:00:00 <NA>     \n",
              "  ADMISSION_TYPE ADMISSION_LOCATION        DISCHARGE_LOCATION        INSURANCE\n",
              "1 EMERGENCY      EMERGENCY ROOM ADMIT      DISC-TRAN CANCER/CHLDRN H Private  \n",
              "2 ELECTIVE       PHYS REFERRAL/NORMAL DELI HOME HEALTH CARE          Medicare \n",
              "3 EMERGENCY      TRANSFER FROM HOSP/EXTRAM HOME HEALTH CARE          Medicare \n",
              "4 EMERGENCY      TRANSFER FROM HOSP/EXTRAM HOME                      Private  \n",
              "5 EMERGENCY      EMERGENCY ROOM ADMIT      HOME                      Private  \n",
              "6 EMERGENCY      TRANSFER FROM HOSP/EXTRAM HOME                      Medicare \n",
              "  LANGUAGE RELIGION          MARITAL_STATUS ETHNICITY            \n",
              "1 NA       UNOBTAINABLE      MARRIED        WHITE                \n",
              "2 NA       CATHOLIC          MARRIED        WHITE                \n",
              "3 ENGL     CATHOLIC          MARRIED        WHITE                \n",
              "4 NA       PROTESTANT QUAKER SINGLE         WHITE                \n",
              "5 NA       UNOBTAINABLE      MARRIED        WHITE                \n",
              "6 NA       CATHOLIC          SINGLE         UNKNOWN/NOT SPECIFIED\n",
              "  EDREGTIME           EDOUTTIME          \n",
              "1 2196-04-09 10:06:00 2196-04-09 13:24:00\n",
              "2 <NA>                <NA>               \n",
              "3 <NA>                <NA>               \n",
              "4 <NA>                <NA>               \n",
              "5 2160-11-02 01:01:00 2160-11-02 04:27:00\n",
              "6 <NA>                <NA>               \n",
              "  DIAGNOSIS                                                \n",
              "1 BENZODIAZEPINE OVERDOSE                                  \n",
              "2 CORONARY ARTERY DISEASE\\\\CORONARY ARTERY BYPASS GRAFT/SDA\n",
              "3 BRAIN MASS                                               \n",
              "4 INTERIOR MYOCARDIAL INFARCTION                           \n",
              "5 ACUTE CORONARY SYNDROME                                  \n",
              "6 V-TACH                                                   \n",
              "  HOSPITAL_EXPIRE_FLAG HAS_CHARTEVENTS_DATA time_diff      \n",
              "1 0                    1                     27.46667 hours\n",
              "2 0                    1                    131.91667 hours\n",
              "3 0                    1                    162.43333 hours\n",
              "4 0                    1                     68.56667 hours\n",
              "5 0                    1                     84.81667 hours\n",
              "6 0                    1                    167.73333 hours"
            ],
            "text/latex": "A tibble: 6 × 20\n\\begin{tabular}{llllllllllllllllllll}\n ROW\\_ID & SUBJECT\\_ID & HADM\\_ID & ADMITTIME & DISCHTIME & DEATHTIME & ADMISSION\\_TYPE & ADMISSION\\_LOCATION & DISCHARGE\\_LOCATION & INSURANCE & LANGUAGE & RELIGION & MARITAL\\_STATUS & ETHNICITY & EDREGTIME & EDOUTTIME & DIAGNOSIS & HOSPITAL\\_EXPIRE\\_FLAG & HAS\\_CHARTEVENTS\\_DATA & time\\_diff\\\\\n <dbl> & <dbl> & <dbl> & <dttm> & <dttm> & <dttm> & <chr> & <chr> & <chr> & <chr> & <chr> & <chr> & <chr> & <chr> & <dttm> & <dttm> & <chr> & <dbl> & <dbl> & <drtn>\\\\\n\\hline\n\t 21 & 22 & 165315 & 2196-04-09 12:26:00 & 2196-04-10 15:54:00 & NA & EMERGENCY & EMERGENCY ROOM ADMIT      & DISC-TRAN CANCER/CHLDRN H & Private  & NA   & UNOBTAINABLE      & MARRIED & WHITE                 & 2196-04-09 10:06:00 & 2196-04-09 13:24:00 & BENZODIAZEPINE OVERDOSE                                   & 0 & 1 &  27.46667 hours\\\\\n\t 22 & 23 & 152223 & 2153-09-03 07:15:00 & 2153-09-08 19:10:00 & NA & ELECTIVE  & PHYS REFERRAL/NORMAL DELI & HOME HEALTH CARE          & Medicare & NA   & CATHOLIC          & MARRIED & WHITE                 & NA & NA & CORONARY ARTERY DISEASE\\textbackslash{}CORONARY ARTERY BYPASS GRAFT/SDA & 0 & 1 & 131.91667 hours\\\\\n\t 23 & 23 & 124321 & 2157-10-18 19:34:00 & 2157-10-25 14:00:00 & NA & EMERGENCY & TRANSFER FROM HOSP/EXTRAM & HOME HEALTH CARE          & Medicare & ENGL & CATHOLIC          & MARRIED & WHITE                 & NA & NA & BRAIN MASS                                                & 0 & 1 & 162.43333 hours\\\\\n\t 24 & 24 & 161859 & 2139-06-06 16:14:00 & 2139-06-09 12:48:00 & NA & EMERGENCY & TRANSFER FROM HOSP/EXTRAM & HOME                      & Private  & NA   & PROTESTANT QUAKER & SINGLE  & WHITE                 & NA & NA & INTERIOR MYOCARDIAL INFARCTION                            & 0 & 1 &  68.56667 hours\\\\\n\t 25 & 25 & 129635 & 2160-11-02 02:06:00 & 2160-11-05 14:55:00 & NA & EMERGENCY & EMERGENCY ROOM ADMIT      & HOME                      & Private  & NA   & UNOBTAINABLE      & MARRIED & WHITE                 & 2160-11-02 01:01:00 & 2160-11-02 04:27:00 & ACUTE CORONARY SYNDROME                                   & 0 & 1 &  84.81667 hours\\\\\n\t 26 & 26 & 197661 & 2126-05-06 15:16:00 & 2126-05-13 15:00:00 & NA & EMERGENCY & TRANSFER FROM HOSP/EXTRAM & HOME                      & Medicare & NA   & CATHOLIC          & SINGLE  & UNKNOWN/NOT SPECIFIED & NA & NA & V-TACH                                                    & 0 & 1 & 167.73333 hours\\\\\n\\end{tabular}\n",
            "text/markdown": "\nA tibble: 6 × 20\n\n| ROW_ID &lt;dbl&gt; | SUBJECT_ID &lt;dbl&gt; | HADM_ID &lt;dbl&gt; | ADMITTIME &lt;dttm&gt; | DISCHTIME &lt;dttm&gt; | DEATHTIME &lt;dttm&gt; | ADMISSION_TYPE &lt;chr&gt; | ADMISSION_LOCATION &lt;chr&gt; | DISCHARGE_LOCATION &lt;chr&gt; | INSURANCE &lt;chr&gt; | LANGUAGE &lt;chr&gt; | RELIGION &lt;chr&gt; | MARITAL_STATUS &lt;chr&gt; | ETHNICITY &lt;chr&gt; | EDREGTIME &lt;dttm&gt; | EDOUTTIME &lt;dttm&gt; | DIAGNOSIS &lt;chr&gt; | HOSPITAL_EXPIRE_FLAG &lt;dbl&gt; | HAS_CHARTEVENTS_DATA &lt;dbl&gt; | time_diff &lt;drtn&gt; |\n|---|---|---|---|---|---|---|---|---|---|---|---|---|---|---|---|---|---|---|---|\n| 21 | 22 | 165315 | 2196-04-09 12:26:00 | 2196-04-10 15:54:00 | NA | EMERGENCY | EMERGENCY ROOM ADMIT      | DISC-TRAN CANCER/CHLDRN H | Private  | NA   | UNOBTAINABLE      | MARRIED | WHITE                 | 2196-04-09 10:06:00 | 2196-04-09 13:24:00 | BENZODIAZEPINE OVERDOSE                                   | 0 | 1 |  27.46667 hours |\n| 22 | 23 | 152223 | 2153-09-03 07:15:00 | 2153-09-08 19:10:00 | NA | ELECTIVE  | PHYS REFERRAL/NORMAL DELI | HOME HEALTH CARE          | Medicare | NA   | CATHOLIC          | MARRIED | WHITE                 | NA | NA | CORONARY ARTERY DISEASE\\CORONARY ARTERY BYPASS GRAFT/SDA | 0 | 1 | 131.91667 hours |\n| 23 | 23 | 124321 | 2157-10-18 19:34:00 | 2157-10-25 14:00:00 | NA | EMERGENCY | TRANSFER FROM HOSP/EXTRAM | HOME HEALTH CARE          | Medicare | ENGL | CATHOLIC          | MARRIED | WHITE                 | NA | NA | BRAIN MASS                                                | 0 | 1 | 162.43333 hours |\n| 24 | 24 | 161859 | 2139-06-06 16:14:00 | 2139-06-09 12:48:00 | NA | EMERGENCY | TRANSFER FROM HOSP/EXTRAM | HOME                      | Private  | NA   | PROTESTANT QUAKER | SINGLE  | WHITE                 | NA | NA | INTERIOR MYOCARDIAL INFARCTION                            | 0 | 1 |  68.56667 hours |\n| 25 | 25 | 129635 | 2160-11-02 02:06:00 | 2160-11-05 14:55:00 | NA | EMERGENCY | EMERGENCY ROOM ADMIT      | HOME                      | Private  | NA   | UNOBTAINABLE      | MARRIED | WHITE                 | 2160-11-02 01:01:00 | 2160-11-02 04:27:00 | ACUTE CORONARY SYNDROME                                   | 0 | 1 |  84.81667 hours |\n| 26 | 26 | 197661 | 2126-05-06 15:16:00 | 2126-05-13 15:00:00 | NA | EMERGENCY | TRANSFER FROM HOSP/EXTRAM | HOME                      | Medicare | NA   | CATHOLIC          | SINGLE  | UNKNOWN/NOT SPECIFIED | NA | NA | V-TACH                                                    | 0 | 1 | 167.73333 hours |\n\n",
            "text/html": [
              "<table class=\"dataframe\">\n",
              "<caption>A tibble: 6 × 20</caption>\n",
              "<thead>\n",
              "\t<tr><th scope=col>ROW_ID</th><th scope=col>SUBJECT_ID</th><th scope=col>HADM_ID</th><th scope=col>ADMITTIME</th><th scope=col>DISCHTIME</th><th scope=col>DEATHTIME</th><th scope=col>ADMISSION_TYPE</th><th scope=col>ADMISSION_LOCATION</th><th scope=col>DISCHARGE_LOCATION</th><th scope=col>INSURANCE</th><th scope=col>LANGUAGE</th><th scope=col>RELIGION</th><th scope=col>MARITAL_STATUS</th><th scope=col>ETHNICITY</th><th scope=col>EDREGTIME</th><th scope=col>EDOUTTIME</th><th scope=col>DIAGNOSIS</th><th scope=col>HOSPITAL_EXPIRE_FLAG</th><th scope=col>HAS_CHARTEVENTS_DATA</th><th scope=col>time_diff</th></tr>\n",
              "\t<tr><th scope=col>&lt;dbl&gt;</th><th scope=col>&lt;dbl&gt;</th><th scope=col>&lt;dbl&gt;</th><th scope=col>&lt;dttm&gt;</th><th scope=col>&lt;dttm&gt;</th><th scope=col>&lt;dttm&gt;</th><th scope=col>&lt;chr&gt;</th><th scope=col>&lt;chr&gt;</th><th scope=col>&lt;chr&gt;</th><th scope=col>&lt;chr&gt;</th><th scope=col>&lt;chr&gt;</th><th scope=col>&lt;chr&gt;</th><th scope=col>&lt;chr&gt;</th><th scope=col>&lt;chr&gt;</th><th scope=col>&lt;dttm&gt;</th><th scope=col>&lt;dttm&gt;</th><th scope=col>&lt;chr&gt;</th><th scope=col>&lt;dbl&gt;</th><th scope=col>&lt;dbl&gt;</th><th scope=col>&lt;drtn&gt;</th></tr>\n",
              "</thead>\n",
              "<tbody>\n",
              "\t<tr><td>21</td><td>22</td><td>165315</td><td>2196-04-09 12:26:00</td><td>2196-04-10 15:54:00</td><td>NA</td><td>EMERGENCY</td><td>EMERGENCY ROOM ADMIT     </td><td>DISC-TRAN CANCER/CHLDRN H</td><td>Private </td><td>NA  </td><td>UNOBTAINABLE     </td><td>MARRIED</td><td>WHITE                </td><td>2196-04-09 10:06:00</td><td>2196-04-09 13:24:00</td><td>BENZODIAZEPINE OVERDOSE                                  </td><td>0</td><td>1</td><td> 27.46667 hours</td></tr>\n",
              "\t<tr><td>22</td><td>23</td><td>152223</td><td>2153-09-03 07:15:00</td><td>2153-09-08 19:10:00</td><td>NA</td><td>ELECTIVE </td><td>PHYS REFERRAL/NORMAL DELI</td><td>HOME HEALTH CARE         </td><td>Medicare</td><td>NA  </td><td>CATHOLIC         </td><td>MARRIED</td><td>WHITE                </td><td>NA</td><td>NA</td><td>CORONARY ARTERY DISEASE\\CORONARY ARTERY BYPASS GRAFT/SDA</td><td>0</td><td>1</td><td>131.91667 hours</td></tr>\n",
              "\t<tr><td>23</td><td>23</td><td>124321</td><td>2157-10-18 19:34:00</td><td>2157-10-25 14:00:00</td><td>NA</td><td>EMERGENCY</td><td>TRANSFER FROM HOSP/EXTRAM</td><td>HOME HEALTH CARE         </td><td>Medicare</td><td>ENGL</td><td>CATHOLIC         </td><td>MARRIED</td><td>WHITE                </td><td>NA</td><td>NA</td><td>BRAIN MASS                                               </td><td>0</td><td>1</td><td>162.43333 hours</td></tr>\n",
              "\t<tr><td>24</td><td>24</td><td>161859</td><td>2139-06-06 16:14:00</td><td>2139-06-09 12:48:00</td><td>NA</td><td>EMERGENCY</td><td>TRANSFER FROM HOSP/EXTRAM</td><td>HOME                     </td><td>Private </td><td>NA  </td><td>PROTESTANT QUAKER</td><td>SINGLE </td><td>WHITE                </td><td>NA</td><td>NA</td><td>INTERIOR MYOCARDIAL INFARCTION                           </td><td>0</td><td>1</td><td> 68.56667 hours</td></tr>\n",
              "\t<tr><td>25</td><td>25</td><td>129635</td><td>2160-11-02 02:06:00</td><td>2160-11-05 14:55:00</td><td>NA</td><td>EMERGENCY</td><td>EMERGENCY ROOM ADMIT     </td><td>HOME                     </td><td>Private </td><td>NA  </td><td>UNOBTAINABLE     </td><td>MARRIED</td><td>WHITE                </td><td>2160-11-02 01:01:00</td><td>2160-11-02 04:27:00</td><td>ACUTE CORONARY SYNDROME                                  </td><td>0</td><td>1</td><td> 84.81667 hours</td></tr>\n",
              "\t<tr><td>26</td><td>26</td><td>197661</td><td>2126-05-06 15:16:00</td><td>2126-05-13 15:00:00</td><td>NA</td><td>EMERGENCY</td><td>TRANSFER FROM HOSP/EXTRAM</td><td>HOME                     </td><td>Medicare</td><td>NA  </td><td>CATHOLIC         </td><td>SINGLE </td><td>UNKNOWN/NOT SPECIFIED</td><td>NA</td><td>NA</td><td>V-TACH                                                   </td><td>0</td><td>1</td><td>167.73333 hours</td></tr>\n",
              "</tbody>\n",
              "</table>\n"
            ]
          },
          "metadata": {}
        }
      ]
    },
    {
      "cell_type": "markdown",
      "metadata": {
        "id": "9-sX_WW-cwn4"
      },
      "source": [
        "Now, I am going to look through the `DIAGNOSIS` column and assign a positive label to all cases that have a diagnosis that contains the string 'SEPSIS'. I am also going to be copying my df's into one master dataframe I will us from here on:"
      ]
    },
    {
      "cell_type": "code",
      "metadata": {
        "colab": {
          "base_uri": "https://localhost:8080/",
          "height": 524
        },
        "id": "whNwQ9Xtcwn4",
        "outputId": "e36a3799-5c2c-4433-b3c3-7a3799bf64be"
      },
      "source": [
        "Septic_Pts <- hour_in_hosp\n",
        "Septic_Pts$Sep_diag_TF <- grepl('SEPSIS', Septic_Pts$DIAGNOSIS)\n",
        "Septic_Pts$Sepsis_diag <- ifelse(Septic_Pts$Sep_diag_TF == 'TRUE', 'Positive', 'Negative')\n",
        "head(Septic_Pts)"
      ],
      "execution_count": 7,
      "outputs": [
        {
          "output_type": "display_data",
          "data": {
            "text/plain": [
              "  ROW_ID SUBJECT_ID HADM_ID ADMITTIME           DISCHTIME           DEATHTIME\n",
              "1 21     22         165315  2196-04-09 12:26:00 2196-04-10 15:54:00 <NA>     \n",
              "2 22     23         152223  2153-09-03 07:15:00 2153-09-08 19:10:00 <NA>     \n",
              "3 23     23         124321  2157-10-18 19:34:00 2157-10-25 14:00:00 <NA>     \n",
              "4 24     24         161859  2139-06-06 16:14:00 2139-06-09 12:48:00 <NA>     \n",
              "5 25     25         129635  2160-11-02 02:06:00 2160-11-05 14:55:00 <NA>     \n",
              "6 26     26         197661  2126-05-06 15:16:00 2126-05-13 15:00:00 <NA>     \n",
              "  ADMISSION_TYPE ADMISSION_LOCATION        DISCHARGE_LOCATION        INSURANCE\n",
              "1 EMERGENCY      EMERGENCY ROOM ADMIT      DISC-TRAN CANCER/CHLDRN H Private  \n",
              "2 ELECTIVE       PHYS REFERRAL/NORMAL DELI HOME HEALTH CARE          Medicare \n",
              "3 EMERGENCY      TRANSFER FROM HOSP/EXTRAM HOME HEALTH CARE          Medicare \n",
              "4 EMERGENCY      TRANSFER FROM HOSP/EXTRAM HOME                      Private  \n",
              "5 EMERGENCY      EMERGENCY ROOM ADMIT      HOME                      Private  \n",
              "6 EMERGENCY      TRANSFER FROM HOSP/EXTRAM HOME                      Medicare \n",
              "  ⋯ MARITAL_STATUS ETHNICITY             EDREGTIME          \n",
              "1 ⋯ MARRIED        WHITE                 2196-04-09 10:06:00\n",
              "2 ⋯ MARRIED        WHITE                 <NA>               \n",
              "3 ⋯ MARRIED        WHITE                 <NA>               \n",
              "4 ⋯ SINGLE         WHITE                 <NA>               \n",
              "5 ⋯ MARRIED        WHITE                 2160-11-02 01:01:00\n",
              "6 ⋯ SINGLE         UNKNOWN/NOT SPECIFIED <NA>               \n",
              "  EDOUTTIME           DIAGNOSIS                                                \n",
              "1 2196-04-09 13:24:00 BENZODIAZEPINE OVERDOSE                                  \n",
              "2 <NA>                CORONARY ARTERY DISEASE\\\\CORONARY ARTERY BYPASS GRAFT/SDA\n",
              "3 <NA>                BRAIN MASS                                               \n",
              "4 <NA>                INTERIOR MYOCARDIAL INFARCTION                           \n",
              "5 2160-11-02 04:27:00 ACUTE CORONARY SYNDROME                                  \n",
              "6 <NA>                V-TACH                                                   \n",
              "  HOSPITAL_EXPIRE_FLAG HAS_CHARTEVENTS_DATA time_diff       Sep_diag_TF\n",
              "1 0                    1                     27.46667 hours FALSE      \n",
              "2 0                    1                    131.91667 hours FALSE      \n",
              "3 0                    1                    162.43333 hours FALSE      \n",
              "4 0                    1                     68.56667 hours FALSE      \n",
              "5 0                    1                     84.81667 hours FALSE      \n",
              "6 0                    1                    167.73333 hours FALSE      \n",
              "  Sepsis_diag\n",
              "1 Negative   \n",
              "2 Negative   \n",
              "3 Negative   \n",
              "4 Negative   \n",
              "5 Negative   \n",
              "6 Negative   "
            ],
            "text/latex": "A tibble: 6 × 22\n\\begin{tabular}{lllllllllllllllllllll}\n ROW\\_ID & SUBJECT\\_ID & HADM\\_ID & ADMITTIME & DISCHTIME & DEATHTIME & ADMISSION\\_TYPE & ADMISSION\\_LOCATION & DISCHARGE\\_LOCATION & INSURANCE & ⋯ & MARITAL\\_STATUS & ETHNICITY & EDREGTIME & EDOUTTIME & DIAGNOSIS & HOSPITAL\\_EXPIRE\\_FLAG & HAS\\_CHARTEVENTS\\_DATA & time\\_diff & Sep\\_diag\\_TF & Sepsis\\_diag\\\\\n <dbl> & <dbl> & <dbl> & <dttm> & <dttm> & <dttm> & <chr> & <chr> & <chr> & <chr> & ⋯ & <chr> & <chr> & <dttm> & <dttm> & <chr> & <dbl> & <dbl> & <drtn> & <lgl> & <chr>\\\\\n\\hline\n\t 21 & 22 & 165315 & 2196-04-09 12:26:00 & 2196-04-10 15:54:00 & NA & EMERGENCY & EMERGENCY ROOM ADMIT      & DISC-TRAN CANCER/CHLDRN H & Private  & ⋯ & MARRIED & WHITE                 & 2196-04-09 10:06:00 & 2196-04-09 13:24:00 & BENZODIAZEPINE OVERDOSE                                   & 0 & 1 &  27.46667 hours & FALSE & Negative\\\\\n\t 22 & 23 & 152223 & 2153-09-03 07:15:00 & 2153-09-08 19:10:00 & NA & ELECTIVE  & PHYS REFERRAL/NORMAL DELI & HOME HEALTH CARE          & Medicare & ⋯ & MARRIED & WHITE                 & NA & NA & CORONARY ARTERY DISEASE\\textbackslash{}CORONARY ARTERY BYPASS GRAFT/SDA & 0 & 1 & 131.91667 hours & FALSE & Negative\\\\\n\t 23 & 23 & 124321 & 2157-10-18 19:34:00 & 2157-10-25 14:00:00 & NA & EMERGENCY & TRANSFER FROM HOSP/EXTRAM & HOME HEALTH CARE          & Medicare & ⋯ & MARRIED & WHITE                 & NA & NA & BRAIN MASS                                                & 0 & 1 & 162.43333 hours & FALSE & Negative\\\\\n\t 24 & 24 & 161859 & 2139-06-06 16:14:00 & 2139-06-09 12:48:00 & NA & EMERGENCY & TRANSFER FROM HOSP/EXTRAM & HOME                      & Private  & ⋯ & SINGLE  & WHITE                 & NA & NA & INTERIOR MYOCARDIAL INFARCTION                            & 0 & 1 &  68.56667 hours & FALSE & Negative\\\\\n\t 25 & 25 & 129635 & 2160-11-02 02:06:00 & 2160-11-05 14:55:00 & NA & EMERGENCY & EMERGENCY ROOM ADMIT      & HOME                      & Private  & ⋯ & MARRIED & WHITE                 & 2160-11-02 01:01:00 & 2160-11-02 04:27:00 & ACUTE CORONARY SYNDROME                                   & 0 & 1 &  84.81667 hours & FALSE & Negative\\\\\n\t 26 & 26 & 197661 & 2126-05-06 15:16:00 & 2126-05-13 15:00:00 & NA & EMERGENCY & TRANSFER FROM HOSP/EXTRAM & HOME                      & Medicare & ⋯ & SINGLE  & UNKNOWN/NOT SPECIFIED & NA & NA & V-TACH                                                    & 0 & 1 & 167.73333 hours & FALSE & Negative\\\\\n\\end{tabular}\n",
            "text/markdown": "\nA tibble: 6 × 22\n\n| ROW_ID &lt;dbl&gt; | SUBJECT_ID &lt;dbl&gt; | HADM_ID &lt;dbl&gt; | ADMITTIME &lt;dttm&gt; | DISCHTIME &lt;dttm&gt; | DEATHTIME &lt;dttm&gt; | ADMISSION_TYPE &lt;chr&gt; | ADMISSION_LOCATION &lt;chr&gt; | DISCHARGE_LOCATION &lt;chr&gt; | INSURANCE &lt;chr&gt; | ⋯ ⋯ | MARITAL_STATUS &lt;chr&gt; | ETHNICITY &lt;chr&gt; | EDREGTIME &lt;dttm&gt; | EDOUTTIME &lt;dttm&gt; | DIAGNOSIS &lt;chr&gt; | HOSPITAL_EXPIRE_FLAG &lt;dbl&gt; | HAS_CHARTEVENTS_DATA &lt;dbl&gt; | time_diff &lt;drtn&gt; | Sep_diag_TF &lt;lgl&gt; | Sepsis_diag &lt;chr&gt; |\n|---|---|---|---|---|---|---|---|---|---|---|---|---|---|---|---|---|---|---|---|---|\n| 21 | 22 | 165315 | 2196-04-09 12:26:00 | 2196-04-10 15:54:00 | NA | EMERGENCY | EMERGENCY ROOM ADMIT      | DISC-TRAN CANCER/CHLDRN H | Private  | ⋯ | MARRIED | WHITE                 | 2196-04-09 10:06:00 | 2196-04-09 13:24:00 | BENZODIAZEPINE OVERDOSE                                   | 0 | 1 |  27.46667 hours | FALSE | Negative |\n| 22 | 23 | 152223 | 2153-09-03 07:15:00 | 2153-09-08 19:10:00 | NA | ELECTIVE  | PHYS REFERRAL/NORMAL DELI | HOME HEALTH CARE          | Medicare | ⋯ | MARRIED | WHITE                 | NA | NA | CORONARY ARTERY DISEASE\\CORONARY ARTERY BYPASS GRAFT/SDA | 0 | 1 | 131.91667 hours | FALSE | Negative |\n| 23 | 23 | 124321 | 2157-10-18 19:34:00 | 2157-10-25 14:00:00 | NA | EMERGENCY | TRANSFER FROM HOSP/EXTRAM | HOME HEALTH CARE          | Medicare | ⋯ | MARRIED | WHITE                 | NA | NA | BRAIN MASS                                                | 0 | 1 | 162.43333 hours | FALSE | Negative |\n| 24 | 24 | 161859 | 2139-06-06 16:14:00 | 2139-06-09 12:48:00 | NA | EMERGENCY | TRANSFER FROM HOSP/EXTRAM | HOME                      | Private  | ⋯ | SINGLE  | WHITE                 | NA | NA | INTERIOR MYOCARDIAL INFARCTION                            | 0 | 1 |  68.56667 hours | FALSE | Negative |\n| 25 | 25 | 129635 | 2160-11-02 02:06:00 | 2160-11-05 14:55:00 | NA | EMERGENCY | EMERGENCY ROOM ADMIT      | HOME                      | Private  | ⋯ | MARRIED | WHITE                 | 2160-11-02 01:01:00 | 2160-11-02 04:27:00 | ACUTE CORONARY SYNDROME                                   | 0 | 1 |  84.81667 hours | FALSE | Negative |\n| 26 | 26 | 197661 | 2126-05-06 15:16:00 | 2126-05-13 15:00:00 | NA | EMERGENCY | TRANSFER FROM HOSP/EXTRAM | HOME                      | Medicare | ⋯ | SINGLE  | UNKNOWN/NOT SPECIFIED | NA | NA | V-TACH                                                    | 0 | 1 | 167.73333 hours | FALSE | Negative |\n\n",
            "text/html": [
              "<table class=\"dataframe\">\n",
              "<caption>A tibble: 6 × 22</caption>\n",
              "<thead>\n",
              "\t<tr><th scope=col>ROW_ID</th><th scope=col>SUBJECT_ID</th><th scope=col>HADM_ID</th><th scope=col>ADMITTIME</th><th scope=col>DISCHTIME</th><th scope=col>DEATHTIME</th><th scope=col>ADMISSION_TYPE</th><th scope=col>ADMISSION_LOCATION</th><th scope=col>DISCHARGE_LOCATION</th><th scope=col>INSURANCE</th><th scope=col>⋯</th><th scope=col>MARITAL_STATUS</th><th scope=col>ETHNICITY</th><th scope=col>EDREGTIME</th><th scope=col>EDOUTTIME</th><th scope=col>DIAGNOSIS</th><th scope=col>HOSPITAL_EXPIRE_FLAG</th><th scope=col>HAS_CHARTEVENTS_DATA</th><th scope=col>time_diff</th><th scope=col>Sep_diag_TF</th><th scope=col>Sepsis_diag</th></tr>\n",
              "\t<tr><th scope=col>&lt;dbl&gt;</th><th scope=col>&lt;dbl&gt;</th><th scope=col>&lt;dbl&gt;</th><th scope=col>&lt;dttm&gt;</th><th scope=col>&lt;dttm&gt;</th><th scope=col>&lt;dttm&gt;</th><th scope=col>&lt;chr&gt;</th><th scope=col>&lt;chr&gt;</th><th scope=col>&lt;chr&gt;</th><th scope=col>&lt;chr&gt;</th><th scope=col>⋯</th><th scope=col>&lt;chr&gt;</th><th scope=col>&lt;chr&gt;</th><th scope=col>&lt;dttm&gt;</th><th scope=col>&lt;dttm&gt;</th><th scope=col>&lt;chr&gt;</th><th scope=col>&lt;dbl&gt;</th><th scope=col>&lt;dbl&gt;</th><th scope=col>&lt;drtn&gt;</th><th scope=col>&lt;lgl&gt;</th><th scope=col>&lt;chr&gt;</th></tr>\n",
              "</thead>\n",
              "<tbody>\n",
              "\t<tr><td>21</td><td>22</td><td>165315</td><td>2196-04-09 12:26:00</td><td>2196-04-10 15:54:00</td><td>NA</td><td>EMERGENCY</td><td>EMERGENCY ROOM ADMIT     </td><td>DISC-TRAN CANCER/CHLDRN H</td><td>Private </td><td>⋯</td><td>MARRIED</td><td>WHITE                </td><td>2196-04-09 10:06:00</td><td>2196-04-09 13:24:00</td><td>BENZODIAZEPINE OVERDOSE                                  </td><td>0</td><td>1</td><td> 27.46667 hours</td><td>FALSE</td><td>Negative</td></tr>\n",
              "\t<tr><td>22</td><td>23</td><td>152223</td><td>2153-09-03 07:15:00</td><td>2153-09-08 19:10:00</td><td>NA</td><td>ELECTIVE </td><td>PHYS REFERRAL/NORMAL DELI</td><td>HOME HEALTH CARE         </td><td>Medicare</td><td>⋯</td><td>MARRIED</td><td>WHITE                </td><td>NA</td><td>NA</td><td>CORONARY ARTERY DISEASE\\CORONARY ARTERY BYPASS GRAFT/SDA</td><td>0</td><td>1</td><td>131.91667 hours</td><td>FALSE</td><td>Negative</td></tr>\n",
              "\t<tr><td>23</td><td>23</td><td>124321</td><td>2157-10-18 19:34:00</td><td>2157-10-25 14:00:00</td><td>NA</td><td>EMERGENCY</td><td>TRANSFER FROM HOSP/EXTRAM</td><td>HOME HEALTH CARE         </td><td>Medicare</td><td>⋯</td><td>MARRIED</td><td>WHITE                </td><td>NA</td><td>NA</td><td>BRAIN MASS                                               </td><td>0</td><td>1</td><td>162.43333 hours</td><td>FALSE</td><td>Negative</td></tr>\n",
              "\t<tr><td>24</td><td>24</td><td>161859</td><td>2139-06-06 16:14:00</td><td>2139-06-09 12:48:00</td><td>NA</td><td>EMERGENCY</td><td>TRANSFER FROM HOSP/EXTRAM</td><td>HOME                     </td><td>Private </td><td>⋯</td><td>SINGLE </td><td>WHITE                </td><td>NA</td><td>NA</td><td>INTERIOR MYOCARDIAL INFARCTION                           </td><td>0</td><td>1</td><td> 68.56667 hours</td><td>FALSE</td><td>Negative</td></tr>\n",
              "\t<tr><td>25</td><td>25</td><td>129635</td><td>2160-11-02 02:06:00</td><td>2160-11-05 14:55:00</td><td>NA</td><td>EMERGENCY</td><td>EMERGENCY ROOM ADMIT     </td><td>HOME                     </td><td>Private </td><td>⋯</td><td>MARRIED</td><td>WHITE                </td><td>2160-11-02 01:01:00</td><td>2160-11-02 04:27:00</td><td>ACUTE CORONARY SYNDROME                                  </td><td>0</td><td>1</td><td> 84.81667 hours</td><td>FALSE</td><td>Negative</td></tr>\n",
              "\t<tr><td>26</td><td>26</td><td>197661</td><td>2126-05-06 15:16:00</td><td>2126-05-13 15:00:00</td><td>NA</td><td>EMERGENCY</td><td>TRANSFER FROM HOSP/EXTRAM</td><td>HOME                     </td><td>Medicare</td><td>⋯</td><td>SINGLE </td><td>UNKNOWN/NOT SPECIFIED</td><td>NA</td><td>NA</td><td>V-TACH                                                   </td><td>0</td><td>1</td><td>167.73333 hours</td><td>FALSE</td><td>Negative</td></tr>\n",
              "</tbody>\n",
              "</table>\n"
            ]
          },
          "metadata": {}
        }
      ]
    },
    {
      "cell_type": "markdown",
      "metadata": {
        "id": "QqNeL8Czfn99"
      },
      "source": [
        "Now I will add the index_time column to the dataframe via adding 12 hours to the `ADMISSION` time using lubridate:"
      ]
    },
    {
      "cell_type": "code",
      "metadata": {
        "colab": {
          "base_uri": "https://localhost:8080/",
          "height": 524
        },
        "id": "4dFQcRgCf2_8",
        "outputId": "c7bfd2aa-d4f0-46d6-fd22-d7e31e1dcbe4"
      },
      "source": [
        "Septic_Pts$index_time <- Septic_Pts$ADMITTIME + hours(12)\n",
        "names(Septic_Pts)[22] <- 'label'\n",
        "head(Septic_Pts)"
      ],
      "execution_count": 8,
      "outputs": [
        {
          "output_type": "display_data",
          "data": {
            "text/plain": [
              "  ROW_ID SUBJECT_ID HADM_ID ADMITTIME           DISCHTIME           DEATHTIME\n",
              "1 21     22         165315  2196-04-09 12:26:00 2196-04-10 15:54:00 <NA>     \n",
              "2 22     23         152223  2153-09-03 07:15:00 2153-09-08 19:10:00 <NA>     \n",
              "3 23     23         124321  2157-10-18 19:34:00 2157-10-25 14:00:00 <NA>     \n",
              "4 24     24         161859  2139-06-06 16:14:00 2139-06-09 12:48:00 <NA>     \n",
              "5 25     25         129635  2160-11-02 02:06:00 2160-11-05 14:55:00 <NA>     \n",
              "6 26     26         197661  2126-05-06 15:16:00 2126-05-13 15:00:00 <NA>     \n",
              "  ADMISSION_TYPE ADMISSION_LOCATION        DISCHARGE_LOCATION        INSURANCE\n",
              "1 EMERGENCY      EMERGENCY ROOM ADMIT      DISC-TRAN CANCER/CHLDRN H Private  \n",
              "2 ELECTIVE       PHYS REFERRAL/NORMAL DELI HOME HEALTH CARE          Medicare \n",
              "3 EMERGENCY      TRANSFER FROM HOSP/EXTRAM HOME HEALTH CARE          Medicare \n",
              "4 EMERGENCY      TRANSFER FROM HOSP/EXTRAM HOME                      Private  \n",
              "5 EMERGENCY      EMERGENCY ROOM ADMIT      HOME                      Private  \n",
              "6 EMERGENCY      TRANSFER FROM HOSP/EXTRAM HOME                      Medicare \n",
              "  ⋯ ETHNICITY             EDREGTIME           EDOUTTIME          \n",
              "1 ⋯ WHITE                 2196-04-09 10:06:00 2196-04-09 13:24:00\n",
              "2 ⋯ WHITE                 <NA>                <NA>               \n",
              "3 ⋯ WHITE                 <NA>                <NA>               \n",
              "4 ⋯ WHITE                 <NA>                <NA>               \n",
              "5 ⋯ WHITE                 2160-11-02 01:01:00 2160-11-02 04:27:00\n",
              "6 ⋯ UNKNOWN/NOT SPECIFIED <NA>                <NA>               \n",
              "  DIAGNOSIS                                                \n",
              "1 BENZODIAZEPINE OVERDOSE                                  \n",
              "2 CORONARY ARTERY DISEASE\\\\CORONARY ARTERY BYPASS GRAFT/SDA\n",
              "3 BRAIN MASS                                               \n",
              "4 INTERIOR MYOCARDIAL INFARCTION                           \n",
              "5 ACUTE CORONARY SYNDROME                                  \n",
              "6 V-TACH                                                   \n",
              "  HOSPITAL_EXPIRE_FLAG HAS_CHARTEVENTS_DATA time_diff       Sep_diag_TF\n",
              "1 0                    1                     27.46667 hours FALSE      \n",
              "2 0                    1                    131.91667 hours FALSE      \n",
              "3 0                    1                    162.43333 hours FALSE      \n",
              "4 0                    1                     68.56667 hours FALSE      \n",
              "5 0                    1                     84.81667 hours FALSE      \n",
              "6 0                    1                    167.73333 hours FALSE      \n",
              "  label    index_time         \n",
              "1 Negative 2196-04-10 00:26:00\n",
              "2 Negative 2153-09-03 19:15:00\n",
              "3 Negative 2157-10-19 07:34:00\n",
              "4 Negative 2139-06-07 04:14:00\n",
              "5 Negative 2160-11-02 14:06:00\n",
              "6 Negative 2126-05-07 03:16:00"
            ],
            "text/latex": "A tibble: 6 × 23\n\\begin{tabular}{lllllllllllllllllllll}\n ROW\\_ID & SUBJECT\\_ID & HADM\\_ID & ADMITTIME & DISCHTIME & DEATHTIME & ADMISSION\\_TYPE & ADMISSION\\_LOCATION & DISCHARGE\\_LOCATION & INSURANCE & ⋯ & ETHNICITY & EDREGTIME & EDOUTTIME & DIAGNOSIS & HOSPITAL\\_EXPIRE\\_FLAG & HAS\\_CHARTEVENTS\\_DATA & time\\_diff & Sep\\_diag\\_TF & label & index\\_time\\\\\n <dbl> & <dbl> & <dbl> & <dttm> & <dttm> & <dttm> & <chr> & <chr> & <chr> & <chr> & ⋯ & <chr> & <dttm> & <dttm> & <chr> & <dbl> & <dbl> & <drtn> & <lgl> & <chr> & <dttm>\\\\\n\\hline\n\t 21 & 22 & 165315 & 2196-04-09 12:26:00 & 2196-04-10 15:54:00 & NA & EMERGENCY & EMERGENCY ROOM ADMIT      & DISC-TRAN CANCER/CHLDRN H & Private  & ⋯ & WHITE                 & 2196-04-09 10:06:00 & 2196-04-09 13:24:00 & BENZODIAZEPINE OVERDOSE                                   & 0 & 1 &  27.46667 hours & FALSE & Negative & 2196-04-10 00:26:00\\\\\n\t 22 & 23 & 152223 & 2153-09-03 07:15:00 & 2153-09-08 19:10:00 & NA & ELECTIVE  & PHYS REFERRAL/NORMAL DELI & HOME HEALTH CARE          & Medicare & ⋯ & WHITE                 & NA & NA & CORONARY ARTERY DISEASE\\textbackslash{}CORONARY ARTERY BYPASS GRAFT/SDA & 0 & 1 & 131.91667 hours & FALSE & Negative & 2153-09-03 19:15:00\\\\\n\t 23 & 23 & 124321 & 2157-10-18 19:34:00 & 2157-10-25 14:00:00 & NA & EMERGENCY & TRANSFER FROM HOSP/EXTRAM & HOME HEALTH CARE          & Medicare & ⋯ & WHITE                 & NA & NA & BRAIN MASS                                                & 0 & 1 & 162.43333 hours & FALSE & Negative & 2157-10-19 07:34:00\\\\\n\t 24 & 24 & 161859 & 2139-06-06 16:14:00 & 2139-06-09 12:48:00 & NA & EMERGENCY & TRANSFER FROM HOSP/EXTRAM & HOME                      & Private  & ⋯ & WHITE                 & NA & NA & INTERIOR MYOCARDIAL INFARCTION                            & 0 & 1 &  68.56667 hours & FALSE & Negative & 2139-06-07 04:14:00\\\\\n\t 25 & 25 & 129635 & 2160-11-02 02:06:00 & 2160-11-05 14:55:00 & NA & EMERGENCY & EMERGENCY ROOM ADMIT      & HOME                      & Private  & ⋯ & WHITE                 & 2160-11-02 01:01:00 & 2160-11-02 04:27:00 & ACUTE CORONARY SYNDROME                                   & 0 & 1 &  84.81667 hours & FALSE & Negative & 2160-11-02 14:06:00\\\\\n\t 26 & 26 & 197661 & 2126-05-06 15:16:00 & 2126-05-13 15:00:00 & NA & EMERGENCY & TRANSFER FROM HOSP/EXTRAM & HOME                      & Medicare & ⋯ & UNKNOWN/NOT SPECIFIED & NA & NA & V-TACH                                                    & 0 & 1 & 167.73333 hours & FALSE & Negative & 2126-05-07 03:16:00\\\\\n\\end{tabular}\n",
            "text/markdown": "\nA tibble: 6 × 23\n\n| ROW_ID &lt;dbl&gt; | SUBJECT_ID &lt;dbl&gt; | HADM_ID &lt;dbl&gt; | ADMITTIME &lt;dttm&gt; | DISCHTIME &lt;dttm&gt; | DEATHTIME &lt;dttm&gt; | ADMISSION_TYPE &lt;chr&gt; | ADMISSION_LOCATION &lt;chr&gt; | DISCHARGE_LOCATION &lt;chr&gt; | INSURANCE &lt;chr&gt; | ⋯ ⋯ | ETHNICITY &lt;chr&gt; | EDREGTIME &lt;dttm&gt; | EDOUTTIME &lt;dttm&gt; | DIAGNOSIS &lt;chr&gt; | HOSPITAL_EXPIRE_FLAG &lt;dbl&gt; | HAS_CHARTEVENTS_DATA &lt;dbl&gt; | time_diff &lt;drtn&gt; | Sep_diag_TF &lt;lgl&gt; | label &lt;chr&gt; | index_time &lt;dttm&gt; |\n|---|---|---|---|---|---|---|---|---|---|---|---|---|---|---|---|---|---|---|---|---|\n| 21 | 22 | 165315 | 2196-04-09 12:26:00 | 2196-04-10 15:54:00 | NA | EMERGENCY | EMERGENCY ROOM ADMIT      | DISC-TRAN CANCER/CHLDRN H | Private  | ⋯ | WHITE                 | 2196-04-09 10:06:00 | 2196-04-09 13:24:00 | BENZODIAZEPINE OVERDOSE                                   | 0 | 1 |  27.46667 hours | FALSE | Negative | 2196-04-10 00:26:00 |\n| 22 | 23 | 152223 | 2153-09-03 07:15:00 | 2153-09-08 19:10:00 | NA | ELECTIVE  | PHYS REFERRAL/NORMAL DELI | HOME HEALTH CARE          | Medicare | ⋯ | WHITE                 | NA | NA | CORONARY ARTERY DISEASE\\CORONARY ARTERY BYPASS GRAFT/SDA | 0 | 1 | 131.91667 hours | FALSE | Negative | 2153-09-03 19:15:00 |\n| 23 | 23 | 124321 | 2157-10-18 19:34:00 | 2157-10-25 14:00:00 | NA | EMERGENCY | TRANSFER FROM HOSP/EXTRAM | HOME HEALTH CARE          | Medicare | ⋯ | WHITE                 | NA | NA | BRAIN MASS                                                | 0 | 1 | 162.43333 hours | FALSE | Negative | 2157-10-19 07:34:00 |\n| 24 | 24 | 161859 | 2139-06-06 16:14:00 | 2139-06-09 12:48:00 | NA | EMERGENCY | TRANSFER FROM HOSP/EXTRAM | HOME                      | Private  | ⋯ | WHITE                 | NA | NA | INTERIOR MYOCARDIAL INFARCTION                            | 0 | 1 |  68.56667 hours | FALSE | Negative | 2139-06-07 04:14:00 |\n| 25 | 25 | 129635 | 2160-11-02 02:06:00 | 2160-11-05 14:55:00 | NA | EMERGENCY | EMERGENCY ROOM ADMIT      | HOME                      | Private  | ⋯ | WHITE                 | 2160-11-02 01:01:00 | 2160-11-02 04:27:00 | ACUTE CORONARY SYNDROME                                   | 0 | 1 |  84.81667 hours | FALSE | Negative | 2160-11-02 14:06:00 |\n| 26 | 26 | 197661 | 2126-05-06 15:16:00 | 2126-05-13 15:00:00 | NA | EMERGENCY | TRANSFER FROM HOSP/EXTRAM | HOME                      | Medicare | ⋯ | UNKNOWN/NOT SPECIFIED | NA | NA | V-TACH                                                    | 0 | 1 | 167.73333 hours | FALSE | Negative | 2126-05-07 03:16:00 |\n\n",
            "text/html": [
              "<table class=\"dataframe\">\n",
              "<caption>A tibble: 6 × 23</caption>\n",
              "<thead>\n",
              "\t<tr><th scope=col>ROW_ID</th><th scope=col>SUBJECT_ID</th><th scope=col>HADM_ID</th><th scope=col>ADMITTIME</th><th scope=col>DISCHTIME</th><th scope=col>DEATHTIME</th><th scope=col>ADMISSION_TYPE</th><th scope=col>ADMISSION_LOCATION</th><th scope=col>DISCHARGE_LOCATION</th><th scope=col>INSURANCE</th><th scope=col>⋯</th><th scope=col>ETHNICITY</th><th scope=col>EDREGTIME</th><th scope=col>EDOUTTIME</th><th scope=col>DIAGNOSIS</th><th scope=col>HOSPITAL_EXPIRE_FLAG</th><th scope=col>HAS_CHARTEVENTS_DATA</th><th scope=col>time_diff</th><th scope=col>Sep_diag_TF</th><th scope=col>label</th><th scope=col>index_time</th></tr>\n",
              "\t<tr><th scope=col>&lt;dbl&gt;</th><th scope=col>&lt;dbl&gt;</th><th scope=col>&lt;dbl&gt;</th><th scope=col>&lt;dttm&gt;</th><th scope=col>&lt;dttm&gt;</th><th scope=col>&lt;dttm&gt;</th><th scope=col>&lt;chr&gt;</th><th scope=col>&lt;chr&gt;</th><th scope=col>&lt;chr&gt;</th><th scope=col>&lt;chr&gt;</th><th scope=col>⋯</th><th scope=col>&lt;chr&gt;</th><th scope=col>&lt;dttm&gt;</th><th scope=col>&lt;dttm&gt;</th><th scope=col>&lt;chr&gt;</th><th scope=col>&lt;dbl&gt;</th><th scope=col>&lt;dbl&gt;</th><th scope=col>&lt;drtn&gt;</th><th scope=col>&lt;lgl&gt;</th><th scope=col>&lt;chr&gt;</th><th scope=col>&lt;dttm&gt;</th></tr>\n",
              "</thead>\n",
              "<tbody>\n",
              "\t<tr><td>21</td><td>22</td><td>165315</td><td>2196-04-09 12:26:00</td><td>2196-04-10 15:54:00</td><td>NA</td><td>EMERGENCY</td><td>EMERGENCY ROOM ADMIT     </td><td>DISC-TRAN CANCER/CHLDRN H</td><td>Private </td><td>⋯</td><td>WHITE                </td><td>2196-04-09 10:06:00</td><td>2196-04-09 13:24:00</td><td>BENZODIAZEPINE OVERDOSE                                  </td><td>0</td><td>1</td><td> 27.46667 hours</td><td>FALSE</td><td>Negative</td><td>2196-04-10 00:26:00</td></tr>\n",
              "\t<tr><td>22</td><td>23</td><td>152223</td><td>2153-09-03 07:15:00</td><td>2153-09-08 19:10:00</td><td>NA</td><td>ELECTIVE </td><td>PHYS REFERRAL/NORMAL DELI</td><td>HOME HEALTH CARE         </td><td>Medicare</td><td>⋯</td><td>WHITE                </td><td>NA</td><td>NA</td><td>CORONARY ARTERY DISEASE\\CORONARY ARTERY BYPASS GRAFT/SDA</td><td>0</td><td>1</td><td>131.91667 hours</td><td>FALSE</td><td>Negative</td><td>2153-09-03 19:15:00</td></tr>\n",
              "\t<tr><td>23</td><td>23</td><td>124321</td><td>2157-10-18 19:34:00</td><td>2157-10-25 14:00:00</td><td>NA</td><td>EMERGENCY</td><td>TRANSFER FROM HOSP/EXTRAM</td><td>HOME HEALTH CARE         </td><td>Medicare</td><td>⋯</td><td>WHITE                </td><td>NA</td><td>NA</td><td>BRAIN MASS                                               </td><td>0</td><td>1</td><td>162.43333 hours</td><td>FALSE</td><td>Negative</td><td>2157-10-19 07:34:00</td></tr>\n",
              "\t<tr><td>24</td><td>24</td><td>161859</td><td>2139-06-06 16:14:00</td><td>2139-06-09 12:48:00</td><td>NA</td><td>EMERGENCY</td><td>TRANSFER FROM HOSP/EXTRAM</td><td>HOME                     </td><td>Private </td><td>⋯</td><td>WHITE                </td><td>NA</td><td>NA</td><td>INTERIOR MYOCARDIAL INFARCTION                           </td><td>0</td><td>1</td><td> 68.56667 hours</td><td>FALSE</td><td>Negative</td><td>2139-06-07 04:14:00</td></tr>\n",
              "\t<tr><td>25</td><td>25</td><td>129635</td><td>2160-11-02 02:06:00</td><td>2160-11-05 14:55:00</td><td>NA</td><td>EMERGENCY</td><td>EMERGENCY ROOM ADMIT     </td><td>HOME                     </td><td>Private </td><td>⋯</td><td>WHITE                </td><td>2160-11-02 01:01:00</td><td>2160-11-02 04:27:00</td><td>ACUTE CORONARY SYNDROME                                  </td><td>0</td><td>1</td><td> 84.81667 hours</td><td>FALSE</td><td>Negative</td><td>2160-11-02 14:06:00</td></tr>\n",
              "\t<tr><td>26</td><td>26</td><td>197661</td><td>2126-05-06 15:16:00</td><td>2126-05-13 15:00:00</td><td>NA</td><td>EMERGENCY</td><td>TRANSFER FROM HOSP/EXTRAM</td><td>HOME                     </td><td>Medicare</td><td>⋯</td><td>UNKNOWN/NOT SPECIFIED</td><td>NA</td><td>NA</td><td>V-TACH                                                   </td><td>0</td><td>1</td><td>167.73333 hours</td><td>FALSE</td><td>Negative</td><td>2126-05-07 03:16:00</td></tr>\n",
              "</tbody>\n",
              "</table>\n"
            ]
          },
          "metadata": {}
        }
      ]
    },
    {
      "cell_type": "markdown",
      "metadata": {
        "id": "hyztpM2-lm-5"
      },
      "source": [
        "Next, Let's count the number of positive and negative cases:"
      ]
    },
    {
      "cell_type": "code",
      "metadata": {
        "colab": {
          "base_uri": "https://localhost:8080/",
          "height": 176
        },
        "id": "0F8PoSrvlr6K",
        "outputId": "7d3ce9dd-2179-460a-89ae-560e65b9748f"
      },
      "source": [
        "Septic_Pts %>% count(label)"
      ],
      "execution_count": 9,
      "outputs": [
        {
          "output_type": "display_data",
          "data": {
            "text/plain": [
              "  label    n    \n",
              "1 Negative 57193\n",
              "2 Positive  1783"
            ],
            "text/latex": "A spec\\_tbl\\_df: 2 × 2\n\\begin{tabular}{ll}\n label & n\\\\\n <chr> & <int>\\\\\n\\hline\n\t Negative & 57193\\\\\n\t Positive &  1783\\\\\n\\end{tabular}\n",
            "text/markdown": "\nA spec_tbl_df: 2 × 2\n\n| label &lt;chr&gt; | n &lt;int&gt; |\n|---|---|\n| Negative | 57193 |\n| Positive |  1783 |\n\n",
            "text/html": [
              "<table class=\"dataframe\">\n",
              "<caption>A spec_tbl_df: 2 × 2</caption>\n",
              "<thead>\n",
              "\t<tr><th scope=col>label</th><th scope=col>n</th></tr>\n",
              "\t<tr><th scope=col>&lt;chr&gt;</th><th scope=col>&lt;int&gt;</th></tr>\n",
              "</thead>\n",
              "<tbody>\n",
              "\t<tr><td>Negative</td><td>57193</td></tr>\n",
              "\t<tr><td>Positive</td><td> 1783</td></tr>\n",
              "</tbody>\n",
              "</table>\n"
            ]
          },
          "metadata": {}
        }
      ]
    },
    {
      "cell_type": "markdown",
      "metadata": {
        "id": "T5mKkg4Ml13Z"
      },
      "source": [
        "ANS: There are 1783 positive cases of Sepsis and 57,193 negative cases."
      ]
    },
    {
      "cell_type": "code",
      "metadata": {
        "id": "-1yzBMtSotDf"
      },
      "source": [
        "Septic_Pts_Save_Point <- Septic_Pts #Creating Data Save point"
      ],
      "execution_count": 10,
      "outputs": []
    },
    {
      "cell_type": "code",
      "metadata": {
        "id": "y_L4F5U5-9dN"
      },
      "source": [
        "keep <- c(\"SUBJECT_ID\", \"HADM_ID\", \"ADMITTIME\", \"DISCHTIME\", \"DIAGNOSIS\", \"time_diff\", \"label\", \"index_time\") #Remove unused columns"
      ],
      "execution_count": 110,
      "outputs": []
    },
    {
      "cell_type": "code",
      "metadata": {
        "colab": {
          "base_uri": "https://localhost:8080/",
          "height": 283
        },
        "id": "JQHXi2--A0zj",
        "outputId": "e009a02a-fb83-4fcd-ac2a-48447af21980"
      },
      "source": [
        "Septic_Pts <- Septic_Pts[keep]\n",
        "head(Septic_Pts)"
      ],
      "execution_count": 111,
      "outputs": [
        {
          "output_type": "display_data",
          "data": {
            "text/plain": [
              "  SUBJECT_ID HADM_ID ADMITTIME           DISCHTIME          \n",
              "1 22         165315  2196-04-09 12:26:00 2196-04-10 15:54:00\n",
              "2 23         152223  2153-09-03 07:15:00 2153-09-08 19:10:00\n",
              "3 23         124321  2157-10-18 19:34:00 2157-10-25 14:00:00\n",
              "4 24         161859  2139-06-06 16:14:00 2139-06-09 12:48:00\n",
              "5 25         129635  2160-11-02 02:06:00 2160-11-05 14:55:00\n",
              "6 26         197661  2126-05-06 15:16:00 2126-05-13 15:00:00\n",
              "  DIAGNOSIS                                                 time_diff      \n",
              "1 BENZODIAZEPINE OVERDOSE                                    27.46667 hours\n",
              "2 CORONARY ARTERY DISEASE\\\\CORONARY ARTERY BYPASS GRAFT/SDA 131.91667 hours\n",
              "3 BRAIN MASS                                                162.43333 hours\n",
              "4 INTERIOR MYOCARDIAL INFARCTION                             68.56667 hours\n",
              "5 ACUTE CORONARY SYNDROME                                    84.81667 hours\n",
              "6 V-TACH                                                    167.73333 hours\n",
              "  label    index_time         \n",
              "1 Negative 2196-04-10 00:26:00\n",
              "2 Negative 2153-09-03 19:15:00\n",
              "3 Negative 2157-10-19 07:34:00\n",
              "4 Negative 2139-06-07 04:14:00\n",
              "5 Negative 2160-11-02 14:06:00\n",
              "6 Negative 2126-05-07 03:16:00"
            ],
            "text/latex": "A tibble: 6 × 8\n\\begin{tabular}{llllllll}\n SUBJECT\\_ID & HADM\\_ID & ADMITTIME & DISCHTIME & DIAGNOSIS & time\\_diff & label & index\\_time\\\\\n <dbl> & <dbl> & <dttm> & <dttm> & <chr> & <drtn> & <chr> & <dttm>\\\\\n\\hline\n\t 22 & 165315 & 2196-04-09 12:26:00 & 2196-04-10 15:54:00 & BENZODIAZEPINE OVERDOSE                                   &  27.46667 hours & Negative & 2196-04-10 00:26:00\\\\\n\t 23 & 152223 & 2153-09-03 07:15:00 & 2153-09-08 19:10:00 & CORONARY ARTERY DISEASE\\textbackslash{}CORONARY ARTERY BYPASS GRAFT/SDA & 131.91667 hours & Negative & 2153-09-03 19:15:00\\\\\n\t 23 & 124321 & 2157-10-18 19:34:00 & 2157-10-25 14:00:00 & BRAIN MASS                                                & 162.43333 hours & Negative & 2157-10-19 07:34:00\\\\\n\t 24 & 161859 & 2139-06-06 16:14:00 & 2139-06-09 12:48:00 & INTERIOR MYOCARDIAL INFARCTION                            &  68.56667 hours & Negative & 2139-06-07 04:14:00\\\\\n\t 25 & 129635 & 2160-11-02 02:06:00 & 2160-11-05 14:55:00 & ACUTE CORONARY SYNDROME                                   &  84.81667 hours & Negative & 2160-11-02 14:06:00\\\\\n\t 26 & 197661 & 2126-05-06 15:16:00 & 2126-05-13 15:00:00 & V-TACH                                                    & 167.73333 hours & Negative & 2126-05-07 03:16:00\\\\\n\\end{tabular}\n",
            "text/markdown": "\nA tibble: 6 × 8\n\n| SUBJECT_ID &lt;dbl&gt; | HADM_ID &lt;dbl&gt; | ADMITTIME &lt;dttm&gt; | DISCHTIME &lt;dttm&gt; | DIAGNOSIS &lt;chr&gt; | time_diff &lt;drtn&gt; | label &lt;chr&gt; | index_time &lt;dttm&gt; |\n|---|---|---|---|---|---|---|---|\n| 22 | 165315 | 2196-04-09 12:26:00 | 2196-04-10 15:54:00 | BENZODIAZEPINE OVERDOSE                                   |  27.46667 hours | Negative | 2196-04-10 00:26:00 |\n| 23 | 152223 | 2153-09-03 07:15:00 | 2153-09-08 19:10:00 | CORONARY ARTERY DISEASE\\CORONARY ARTERY BYPASS GRAFT/SDA | 131.91667 hours | Negative | 2153-09-03 19:15:00 |\n| 23 | 124321 | 2157-10-18 19:34:00 | 2157-10-25 14:00:00 | BRAIN MASS                                                | 162.43333 hours | Negative | 2157-10-19 07:34:00 |\n| 24 | 161859 | 2139-06-06 16:14:00 | 2139-06-09 12:48:00 | INTERIOR MYOCARDIAL INFARCTION                            |  68.56667 hours | Negative | 2139-06-07 04:14:00 |\n| 25 | 129635 | 2160-11-02 02:06:00 | 2160-11-05 14:55:00 | ACUTE CORONARY SYNDROME                                   |  84.81667 hours | Negative | 2160-11-02 14:06:00 |\n| 26 | 197661 | 2126-05-06 15:16:00 | 2126-05-13 15:00:00 | V-TACH                                                    | 167.73333 hours | Negative | 2126-05-07 03:16:00 |\n\n",
            "text/html": [
              "<table class=\"dataframe\">\n",
              "<caption>A tibble: 6 × 8</caption>\n",
              "<thead>\n",
              "\t<tr><th scope=col>SUBJECT_ID</th><th scope=col>HADM_ID</th><th scope=col>ADMITTIME</th><th scope=col>DISCHTIME</th><th scope=col>DIAGNOSIS</th><th scope=col>time_diff</th><th scope=col>label</th><th scope=col>index_time</th></tr>\n",
              "\t<tr><th scope=col>&lt;dbl&gt;</th><th scope=col>&lt;dbl&gt;</th><th scope=col>&lt;dttm&gt;</th><th scope=col>&lt;dttm&gt;</th><th scope=col>&lt;chr&gt;</th><th scope=col>&lt;drtn&gt;</th><th scope=col>&lt;chr&gt;</th><th scope=col>&lt;dttm&gt;</th></tr>\n",
              "</thead>\n",
              "<tbody>\n",
              "\t<tr><td>22</td><td>165315</td><td>2196-04-09 12:26:00</td><td>2196-04-10 15:54:00</td><td>BENZODIAZEPINE OVERDOSE                                  </td><td> 27.46667 hours</td><td>Negative</td><td>2196-04-10 00:26:00</td></tr>\n",
              "\t<tr><td>23</td><td>152223</td><td>2153-09-03 07:15:00</td><td>2153-09-08 19:10:00</td><td>CORONARY ARTERY DISEASE\\CORONARY ARTERY BYPASS GRAFT/SDA</td><td>131.91667 hours</td><td>Negative</td><td>2153-09-03 19:15:00</td></tr>\n",
              "\t<tr><td>23</td><td>124321</td><td>2157-10-18 19:34:00</td><td>2157-10-25 14:00:00</td><td>BRAIN MASS                                               </td><td>162.43333 hours</td><td>Negative</td><td>2157-10-19 07:34:00</td></tr>\n",
              "\t<tr><td>24</td><td>161859</td><td>2139-06-06 16:14:00</td><td>2139-06-09 12:48:00</td><td>INTERIOR MYOCARDIAL INFARCTION                           </td><td> 68.56667 hours</td><td>Negative</td><td>2139-06-07 04:14:00</td></tr>\n",
              "\t<tr><td>25</td><td>129635</td><td>2160-11-02 02:06:00</td><td>2160-11-05 14:55:00</td><td>ACUTE CORONARY SYNDROME                                  </td><td> 84.81667 hours</td><td>Negative</td><td>2160-11-02 14:06:00</td></tr>\n",
              "\t<tr><td>26</td><td>197661</td><td>2126-05-06 15:16:00</td><td>2126-05-13 15:00:00</td><td>V-TACH                                                   </td><td>167.73333 hours</td><td>Negative</td><td>2126-05-07 03:16:00</td></tr>\n",
              "</tbody>\n",
              "</table>\n"
            ]
          },
          "metadata": {}
        }
      ]
    },
    {
      "cell_type": "markdown",
      "metadata": {
        "id": "IGcsYNOCcwn5"
      },
      "source": [
        "----\n",
        "## 2. Building a Patient-Feature Matrix for the Septic Shock Cohort"
      ]
    },
    {
      "cell_type": "markdown",
      "metadata": {
        "id": "N3-GkS6hcwn5"
      },
      "source": [
        "Now that we know have derived labels and index times for each patient in our cohort, we can start to engineer some features from the data that occur prior to the index times and will be useful for predicting onset of septic shock."
      ]
    },
    {
      "cell_type": "markdown",
      "metadata": {
        "id": "w7yze0Ercwn5"
      },
      "source": [
        "### Diagnoses\n"
      ]
    },
    {
      "cell_type": "markdown",
      "metadata": {
        "id": "1hJRuKXecwn5"
      },
      "source": [
        "##### 2.1 (2 pts)\n",
        "\n",
        "Let's first deal with diagnoses. Load `DIAGNOSES_ICD.csv`. We would like to find the diagnoses that occurred before the index time for each patient, but it looks like there is no time recorded in the diagnosis table.\n",
        "\n",
        "Which table and columns in MIMIC would you use to find the times of each diagnoses? Justify your response.\n",
        "\n",
        "Use the online documentation to find out.\n",
        "\n",
        "----"
      ]
    },
    {
      "cell_type": "markdown",
      "metadata": {
        "id": "I8qoYNvnmRqd"
      },
      "source": [
        "First let's load the `DIAGNOSES_ICD` data:"
      ]
    },
    {
      "cell_type": "code",
      "metadata": {
        "colab": {
          "base_uri": "https://localhost:8080/",
          "height": 470
        },
        "id": "x0sdpPd5mXYe",
        "outputId": "3326133f-0024-4fe8-a698-b5336ec2b30b"
      },
      "source": [
        "DIAGNOSES_ICD <- read_csv(\"/content/DIAGNOSES_ICD.csv\")\n",
        "head(DIAGNOSES_ICD)"
      ],
      "execution_count": 13,
      "outputs": [
        {
          "output_type": "stream",
          "name": "stderr",
          "text": [
            "\u001b[1m\u001b[1mRows: \u001b[1m\u001b[22m\u001b[34m\u001b[34m651047\u001b[34m\u001b[39m \u001b[1m\u001b[1mColumns: \u001b[1m\u001b[22m\u001b[34m\u001b[34m5\u001b[34m\u001b[39m\n",
            "\n",
            "\u001b[36m──\u001b[39m \u001b[1m\u001b[1mColumn specification\u001b[1m\u001b[22m \u001b[36m────────────────────────────────────────────────────────\u001b[39m\n",
            "\u001b[1mDelimiter:\u001b[22m \",\"\n",
            "\u001b[31mchr\u001b[39m (1): ICD9_CODE\n",
            "\u001b[32mdbl\u001b[39m (4): ROW_ID, SUBJECT_ID, HADM_ID, SEQ_NUM\n",
            "\n",
            "\n",
            "\u001b[36mℹ\u001b[39m Use \u001b[30m\u001b[47m\u001b[30m\u001b[47m`spec()`\u001b[47m\u001b[30m\u001b[49m\u001b[39m to retrieve the full column specification for this data.\n",
            "\u001b[36mℹ\u001b[39m Specify the column types or set \u001b[30m\u001b[47m\u001b[30m\u001b[47m`show_col_types = FALSE`\u001b[47m\u001b[30m\u001b[49m\u001b[39m to quiet this message.\n",
            "\n"
          ]
        },
        {
          "output_type": "display_data",
          "data": {
            "text/plain": [
              "  ROW_ID SUBJECT_ID HADM_ID SEQ_NUM ICD9_CODE\n",
              "1 1297   109        172335  1       40301    \n",
              "2 1298   109        172335  2       486      \n",
              "3 1299   109        172335  3       58281    \n",
              "4 1300   109        172335  4       5855     \n",
              "5 1301   109        172335  5       4254     \n",
              "6 1302   109        172335  6       2762     "
            ],
            "text/latex": "A tibble: 6 × 5\n\\begin{tabular}{lllll}\n ROW\\_ID & SUBJECT\\_ID & HADM\\_ID & SEQ\\_NUM & ICD9\\_CODE\\\\\n <dbl> & <dbl> & <dbl> & <dbl> & <chr>\\\\\n\\hline\n\t 1297 & 109 & 172335 & 1 & 40301\\\\\n\t 1298 & 109 & 172335 & 2 & 486  \\\\\n\t 1299 & 109 & 172335 & 3 & 58281\\\\\n\t 1300 & 109 & 172335 & 4 & 5855 \\\\\n\t 1301 & 109 & 172335 & 5 & 4254 \\\\\n\t 1302 & 109 & 172335 & 6 & 2762 \\\\\n\\end{tabular}\n",
            "text/markdown": "\nA tibble: 6 × 5\n\n| ROW_ID &lt;dbl&gt; | SUBJECT_ID &lt;dbl&gt; | HADM_ID &lt;dbl&gt; | SEQ_NUM &lt;dbl&gt; | ICD9_CODE &lt;chr&gt; |\n|---|---|---|---|---|\n| 1297 | 109 | 172335 | 1 | 40301 |\n| 1298 | 109 | 172335 | 2 | 486   |\n| 1299 | 109 | 172335 | 3 | 58281 |\n| 1300 | 109 | 172335 | 4 | 5855  |\n| 1301 | 109 | 172335 | 5 | 4254  |\n| 1302 | 109 | 172335 | 6 | 2762  |\n\n",
            "text/html": [
              "<table class=\"dataframe\">\n",
              "<caption>A tibble: 6 × 5</caption>\n",
              "<thead>\n",
              "\t<tr><th scope=col>ROW_ID</th><th scope=col>SUBJECT_ID</th><th scope=col>HADM_ID</th><th scope=col>SEQ_NUM</th><th scope=col>ICD9_CODE</th></tr>\n",
              "\t<tr><th scope=col>&lt;dbl&gt;</th><th scope=col>&lt;dbl&gt;</th><th scope=col>&lt;dbl&gt;</th><th scope=col>&lt;dbl&gt;</th><th scope=col>&lt;chr&gt;</th></tr>\n",
              "</thead>\n",
              "<tbody>\n",
              "\t<tr><td>1297</td><td>109</td><td>172335</td><td>1</td><td>40301</td></tr>\n",
              "\t<tr><td>1298</td><td>109</td><td>172335</td><td>2</td><td>486  </td></tr>\n",
              "\t<tr><td>1299</td><td>109</td><td>172335</td><td>3</td><td>58281</td></tr>\n",
              "\t<tr><td>1300</td><td>109</td><td>172335</td><td>4</td><td>5855 </td></tr>\n",
              "\t<tr><td>1301</td><td>109</td><td>172335</td><td>5</td><td>4254 </td></tr>\n",
              "\t<tr><td>1302</td><td>109</td><td>172335</td><td>6</td><td>2762 </td></tr>\n",
              "</tbody>\n",
              "</table>\n"
            ]
          },
          "metadata": {}
        }
      ]
    },
    {
      "cell_type": "markdown",
      "metadata": {
        "id": "Q3jm3zUg1cgL"
      },
      "source": [
        "ANS: Between the two tables the only link we have are `SUBJECT_ID` and `HADM_ID`. From researching through the online MIMIC documents we see that the ICD9 codes are given at time of discharge. This means that we can only make an inference of time recorded for the ICD9 codes for a patient that has said ICD9 code previously assigned to them during a previous submission. "
      ]
    },
    {
      "cell_type": "markdown",
      "metadata": {
        "id": "LoHzBGThcwn5"
      },
      "source": [
        "-----\n",
        "##### 2.2 (3 pts)\n",
        "\n",
        "Use the table you have selected in conjunction with the diagnoses and your cohort table to filter the diagnoses for each patient that were recorded before the index time. The final result should have the columns `subject_id`, `hadm_id`, `diagnosis_time`, `icd9_code`, and `index_time`.\n",
        "\n",
        "How many subjects have diagnoses recorded prior to the index_time? Does the resulting number make sense?\n",
        "\n",
        "----"
      ]
    },
    {
      "cell_type": "code",
      "metadata": {
        "colab": {
          "base_uri": "https://localhost:8080/",
          "height": 283
        },
        "id": "N5Io2-PHh-in",
        "outputId": "c9bbdbc0-03e4-4c53-fea4-8dcb5dafb92b"
      },
      "source": [
        "countdata <- Septic_Pts %>% inner_join(DIAGNOSES_ICD, by = \"SUBJECT_ID\", \"HADM_ID\")\n",
        "keep2 <- c(\"SUBJECT_ID\", \"HADM_ID.x\", \"ADMITTIME\", \"DISCHTIME\", \"time_diff\", \"label\", \"index_time\", \"ICD9_CODE\")\n",
        "countdata <- countdata[keep2]\n",
        "head(countdata)"
      ],
      "execution_count": 153,
      "outputs": [
        {
          "output_type": "display_data",
          "data": {
            "text/plain": [
              "  SUBJECT_ID HADM_ID.x ADMITTIME           DISCHTIME           time_diff     \n",
              "1 22         165315    2196-04-09 12:26:00 2196-04-10 15:54:00 27.46667 hours\n",
              "2 22         165315    2196-04-09 12:26:00 2196-04-10 15:54:00 27.46667 hours\n",
              "3 22         165315    2196-04-09 12:26:00 2196-04-10 15:54:00 27.46667 hours\n",
              "4 22         165315    2196-04-09 12:26:00 2196-04-10 15:54:00 27.46667 hours\n",
              "5 22         165315    2196-04-09 12:26:00 2196-04-10 15:54:00 27.46667 hours\n",
              "6 22         165315    2196-04-09 12:26:00 2196-04-10 15:54:00 27.46667 hours\n",
              "  label    index_time          ICD9_CODE\n",
              "1 Negative 2196-04-10 00:26:00 9678     \n",
              "2 Negative 2196-04-10 00:26:00 9693     \n",
              "3 Negative 2196-04-10 00:26:00 E9502    \n",
              "4 Negative 2196-04-10 00:26:00 E9503    \n",
              "5 Negative 2196-04-10 00:26:00 3488     \n",
              "6 Negative 2196-04-10 00:26:00 29620    "
            ],
            "text/latex": "A tibble: 6 × 8\n\\begin{tabular}{llllllll}\n SUBJECT\\_ID & HADM\\_ID.x & ADMITTIME & DISCHTIME & time\\_diff & label & index\\_time & ICD9\\_CODE\\\\\n <dbl> & <dbl> & <dttm> & <dttm> & <drtn> & <chr> & <dttm> & <chr>\\\\\n\\hline\n\t 22 & 165315 & 2196-04-09 12:26:00 & 2196-04-10 15:54:00 & 27.46667 hours & Negative & 2196-04-10 00:26:00 & 9678 \\\\\n\t 22 & 165315 & 2196-04-09 12:26:00 & 2196-04-10 15:54:00 & 27.46667 hours & Negative & 2196-04-10 00:26:00 & 9693 \\\\\n\t 22 & 165315 & 2196-04-09 12:26:00 & 2196-04-10 15:54:00 & 27.46667 hours & Negative & 2196-04-10 00:26:00 & E9502\\\\\n\t 22 & 165315 & 2196-04-09 12:26:00 & 2196-04-10 15:54:00 & 27.46667 hours & Negative & 2196-04-10 00:26:00 & E9503\\\\\n\t 22 & 165315 & 2196-04-09 12:26:00 & 2196-04-10 15:54:00 & 27.46667 hours & Negative & 2196-04-10 00:26:00 & 3488 \\\\\n\t 22 & 165315 & 2196-04-09 12:26:00 & 2196-04-10 15:54:00 & 27.46667 hours & Negative & 2196-04-10 00:26:00 & 29620\\\\\n\\end{tabular}\n",
            "text/markdown": "\nA tibble: 6 × 8\n\n| SUBJECT_ID &lt;dbl&gt; | HADM_ID.x &lt;dbl&gt; | ADMITTIME &lt;dttm&gt; | DISCHTIME &lt;dttm&gt; | time_diff &lt;drtn&gt; | label &lt;chr&gt; | index_time &lt;dttm&gt; | ICD9_CODE &lt;chr&gt; |\n|---|---|---|---|---|---|---|---|\n| 22 | 165315 | 2196-04-09 12:26:00 | 2196-04-10 15:54:00 | 27.46667 hours | Negative | 2196-04-10 00:26:00 | 9678  |\n| 22 | 165315 | 2196-04-09 12:26:00 | 2196-04-10 15:54:00 | 27.46667 hours | Negative | 2196-04-10 00:26:00 | 9693  |\n| 22 | 165315 | 2196-04-09 12:26:00 | 2196-04-10 15:54:00 | 27.46667 hours | Negative | 2196-04-10 00:26:00 | E9502 |\n| 22 | 165315 | 2196-04-09 12:26:00 | 2196-04-10 15:54:00 | 27.46667 hours | Negative | 2196-04-10 00:26:00 | E9503 |\n| 22 | 165315 | 2196-04-09 12:26:00 | 2196-04-10 15:54:00 | 27.46667 hours | Negative | 2196-04-10 00:26:00 | 3488  |\n| 22 | 165315 | 2196-04-09 12:26:00 | 2196-04-10 15:54:00 | 27.46667 hours | Negative | 2196-04-10 00:26:00 | 29620 |\n\n",
            "text/html": [
              "<table class=\"dataframe\">\n",
              "<caption>A tibble: 6 × 8</caption>\n",
              "<thead>\n",
              "\t<tr><th scope=col>SUBJECT_ID</th><th scope=col>HADM_ID.x</th><th scope=col>ADMITTIME</th><th scope=col>DISCHTIME</th><th scope=col>time_diff</th><th scope=col>label</th><th scope=col>index_time</th><th scope=col>ICD9_CODE</th></tr>\n",
              "\t<tr><th scope=col>&lt;dbl&gt;</th><th scope=col>&lt;dbl&gt;</th><th scope=col>&lt;dttm&gt;</th><th scope=col>&lt;dttm&gt;</th><th scope=col>&lt;drtn&gt;</th><th scope=col>&lt;chr&gt;</th><th scope=col>&lt;dttm&gt;</th><th scope=col>&lt;chr&gt;</th></tr>\n",
              "</thead>\n",
              "<tbody>\n",
              "\t<tr><td>22</td><td>165315</td><td>2196-04-09 12:26:00</td><td>2196-04-10 15:54:00</td><td>27.46667 hours</td><td>Negative</td><td>2196-04-10 00:26:00</td><td>9678 </td></tr>\n",
              "\t<tr><td>22</td><td>165315</td><td>2196-04-09 12:26:00</td><td>2196-04-10 15:54:00</td><td>27.46667 hours</td><td>Negative</td><td>2196-04-10 00:26:00</td><td>9693 </td></tr>\n",
              "\t<tr><td>22</td><td>165315</td><td>2196-04-09 12:26:00</td><td>2196-04-10 15:54:00</td><td>27.46667 hours</td><td>Negative</td><td>2196-04-10 00:26:00</td><td>E9502</td></tr>\n",
              "\t<tr><td>22</td><td>165315</td><td>2196-04-09 12:26:00</td><td>2196-04-10 15:54:00</td><td>27.46667 hours</td><td>Negative</td><td>2196-04-10 00:26:00</td><td>E9503</td></tr>\n",
              "\t<tr><td>22</td><td>165315</td><td>2196-04-09 12:26:00</td><td>2196-04-10 15:54:00</td><td>27.46667 hours</td><td>Negative</td><td>2196-04-10 00:26:00</td><td>3488 </td></tr>\n",
              "\t<tr><td>22</td><td>165315</td><td>2196-04-09 12:26:00</td><td>2196-04-10 15:54:00</td><td>27.46667 hours</td><td>Negative</td><td>2196-04-10 00:26:00</td><td>29620</td></tr>\n",
              "</tbody>\n",
              "</table>\n"
            ]
          },
          "metadata": {}
        }
      ]
    },
    {
      "cell_type": "code",
      "metadata": {
        "id": "LTZTV38PYCI2"
      },
      "source": [
        "countdata$diagnosis_time <- ifelse(countdata$DISCHTIME < countdata$index_time, 1, 0)"
      ],
      "execution_count": 154,
      "outputs": []
    },
    {
      "cell_type": "code",
      "metadata": {
        "colab": {
          "base_uri": "https://localhost:8080/",
          "height": 283
        },
        "id": "Npc71trUYcmI",
        "outputId": "1fd53b1d-0da9-495b-91d9-755e4fce85e8"
      },
      "source": [
        "countdata_filter <- countdata[countdata$diagnosis_time != 0,]\n",
        "head(countdata_filter)"
      ],
      "execution_count": 155,
      "outputs": [
        {
          "output_type": "display_data",
          "data": {
            "text/plain": [
              "  SUBJECT_ID HADM_ID.x ADMITTIME           DISCHTIME           time_diff     \n",
              "1 67         155252    2157-12-02 00:45:00 2157-12-02 03:55:00 3.166667 hours\n",
              "2 67         155252    2157-12-02 00:45:00 2157-12-02 03:55:00 3.166667 hours\n",
              "3 67         155252    2157-12-02 00:45:00 2157-12-02 03:55:00 3.166667 hours\n",
              "4 67         155252    2157-12-02 00:45:00 2157-12-02 03:55:00 3.166667 hours\n",
              "5 67         155252    2157-12-02 00:45:00 2157-12-02 03:55:00 3.166667 hours\n",
              "6 67         155252    2157-12-02 00:45:00 2157-12-02 03:55:00 3.166667 hours\n",
              "  label    index_time          ICD9_CODE diagnosis_time\n",
              "1 Negative 2157-12-02 12:45:00 431       1             \n",
              "2 Negative 2157-12-02 12:45:00 2449      1             \n",
              "3 Negative 2157-12-02 12:45:00 4019      1             \n",
              "4 Negative 2157-12-02 12:45:00 2948      1             \n",
              "5 Negative 2157-12-02 12:45:00 311       1             \n",
              "6 Negative 2157-12-02 12:45:00 9982      1             "
            ],
            "text/latex": "A tibble: 6 × 9\n\\begin{tabular}{lllllllll}\n SUBJECT\\_ID & HADM\\_ID.x & ADMITTIME & DISCHTIME & time\\_diff & label & index\\_time & ICD9\\_CODE & diagnosis\\_time\\\\\n <dbl> & <dbl> & <dttm> & <dttm> & <drtn> & <chr> & <dttm> & <chr> & <dbl>\\\\\n\\hline\n\t 67 & 155252 & 2157-12-02 00:45:00 & 2157-12-02 03:55:00 & 3.166667 hours & Negative & 2157-12-02 12:45:00 & 431  & 1\\\\\n\t 67 & 155252 & 2157-12-02 00:45:00 & 2157-12-02 03:55:00 & 3.166667 hours & Negative & 2157-12-02 12:45:00 & 2449 & 1\\\\\n\t 67 & 155252 & 2157-12-02 00:45:00 & 2157-12-02 03:55:00 & 3.166667 hours & Negative & 2157-12-02 12:45:00 & 4019 & 1\\\\\n\t 67 & 155252 & 2157-12-02 00:45:00 & 2157-12-02 03:55:00 & 3.166667 hours & Negative & 2157-12-02 12:45:00 & 2948 & 1\\\\\n\t 67 & 155252 & 2157-12-02 00:45:00 & 2157-12-02 03:55:00 & 3.166667 hours & Negative & 2157-12-02 12:45:00 & 311  & 1\\\\\n\t 67 & 155252 & 2157-12-02 00:45:00 & 2157-12-02 03:55:00 & 3.166667 hours & Negative & 2157-12-02 12:45:00 & 9982 & 1\\\\\n\\end{tabular}\n",
            "text/markdown": "\nA tibble: 6 × 9\n\n| SUBJECT_ID &lt;dbl&gt; | HADM_ID.x &lt;dbl&gt; | ADMITTIME &lt;dttm&gt; | DISCHTIME &lt;dttm&gt; | time_diff &lt;drtn&gt; | label &lt;chr&gt; | index_time &lt;dttm&gt; | ICD9_CODE &lt;chr&gt; | diagnosis_time &lt;dbl&gt; |\n|---|---|---|---|---|---|---|---|---|\n| 67 | 155252 | 2157-12-02 00:45:00 | 2157-12-02 03:55:00 | 3.166667 hours | Negative | 2157-12-02 12:45:00 | 431  | 1 |\n| 67 | 155252 | 2157-12-02 00:45:00 | 2157-12-02 03:55:00 | 3.166667 hours | Negative | 2157-12-02 12:45:00 | 2449 | 1 |\n| 67 | 155252 | 2157-12-02 00:45:00 | 2157-12-02 03:55:00 | 3.166667 hours | Negative | 2157-12-02 12:45:00 | 4019 | 1 |\n| 67 | 155252 | 2157-12-02 00:45:00 | 2157-12-02 03:55:00 | 3.166667 hours | Negative | 2157-12-02 12:45:00 | 2948 | 1 |\n| 67 | 155252 | 2157-12-02 00:45:00 | 2157-12-02 03:55:00 | 3.166667 hours | Negative | 2157-12-02 12:45:00 | 311  | 1 |\n| 67 | 155252 | 2157-12-02 00:45:00 | 2157-12-02 03:55:00 | 3.166667 hours | Negative | 2157-12-02 12:45:00 | 9982 | 1 |\n\n",
            "text/html": [
              "<table class=\"dataframe\">\n",
              "<caption>A tibble: 6 × 9</caption>\n",
              "<thead>\n",
              "\t<tr><th scope=col>SUBJECT_ID</th><th scope=col>HADM_ID.x</th><th scope=col>ADMITTIME</th><th scope=col>DISCHTIME</th><th scope=col>time_diff</th><th scope=col>label</th><th scope=col>index_time</th><th scope=col>ICD9_CODE</th><th scope=col>diagnosis_time</th></tr>\n",
              "\t<tr><th scope=col>&lt;dbl&gt;</th><th scope=col>&lt;dbl&gt;</th><th scope=col>&lt;dttm&gt;</th><th scope=col>&lt;dttm&gt;</th><th scope=col>&lt;drtn&gt;</th><th scope=col>&lt;chr&gt;</th><th scope=col>&lt;dttm&gt;</th><th scope=col>&lt;chr&gt;</th><th scope=col>&lt;dbl&gt;</th></tr>\n",
              "</thead>\n",
              "<tbody>\n",
              "\t<tr><td>67</td><td>155252</td><td>2157-12-02 00:45:00</td><td>2157-12-02 03:55:00</td><td>3.166667 hours</td><td>Negative</td><td>2157-12-02 12:45:00</td><td>431 </td><td>1</td></tr>\n",
              "\t<tr><td>67</td><td>155252</td><td>2157-12-02 00:45:00</td><td>2157-12-02 03:55:00</td><td>3.166667 hours</td><td>Negative</td><td>2157-12-02 12:45:00</td><td>2449</td><td>1</td></tr>\n",
              "\t<tr><td>67</td><td>155252</td><td>2157-12-02 00:45:00</td><td>2157-12-02 03:55:00</td><td>3.166667 hours</td><td>Negative</td><td>2157-12-02 12:45:00</td><td>4019</td><td>1</td></tr>\n",
              "\t<tr><td>67</td><td>155252</td><td>2157-12-02 00:45:00</td><td>2157-12-02 03:55:00</td><td>3.166667 hours</td><td>Negative</td><td>2157-12-02 12:45:00</td><td>2948</td><td>1</td></tr>\n",
              "\t<tr><td>67</td><td>155252</td><td>2157-12-02 00:45:00</td><td>2157-12-02 03:55:00</td><td>3.166667 hours</td><td>Negative</td><td>2157-12-02 12:45:00</td><td>311 </td><td>1</td></tr>\n",
              "\t<tr><td>67</td><td>155252</td><td>2157-12-02 00:45:00</td><td>2157-12-02 03:55:00</td><td>3.166667 hours</td><td>Negative</td><td>2157-12-02 12:45:00</td><td>9982</td><td>1</td></tr>\n",
              "</tbody>\n",
              "</table>\n"
            ]
          },
          "metadata": {}
        }
      ]
    },
    {
      "cell_type": "markdown",
      "metadata": {
        "id": "V3bF9x8Ocwn6"
      },
      "source": [
        "-----\n",
        "##### 2.3 (4 pts)\n",
        "What are the top 10 most common diagnosis codes (by number of unique patients who had the code in their history) in the data frame resulting from question 2.2? Look up the top 3 codes online and report what they refer to.\n",
        "\n",
        "----"
      ]
    },
    {
      "cell_type": "code",
      "metadata": {
        "id": "NP1NTypdT3JN"
      },
      "source": [
        "datatest <- countdata_filter %>% group_by(HADM_ID.x) %>% summarise(ICD9_CODE = n())"
      ],
      "execution_count": 156,
      "outputs": []
    },
    {
      "cell_type": "code",
      "metadata": {
        "colab": {
          "base_uri": "https://localhost:8080/",
          "height": 283
        },
        "id": "8rMqGqrpUaun",
        "outputId": "b7df28ea-161f-4e90-be0f-5927264fbd15"
      },
      "source": [
        "head(datatest)"
      ],
      "execution_count": 157,
      "outputs": [
        {
          "output_type": "display_data",
          "data": {
            "text/plain": [
              "  HADM_ID.x ICD9_CODE\n",
              "1 100459    12       \n",
              "2 100572    34       \n",
              "3 100580    37       \n",
              "4 100618    15       \n",
              "5 100861     7       \n",
              "6 100888    46       "
            ],
            "text/latex": "A tibble: 6 × 2\n\\begin{tabular}{ll}\n HADM\\_ID.x & ICD9\\_CODE\\\\\n <dbl> & <int>\\\\\n\\hline\n\t 100459 & 12\\\\\n\t 100572 & 34\\\\\n\t 100580 & 37\\\\\n\t 100618 & 15\\\\\n\t 100861 &  7\\\\\n\t 100888 & 46\\\\\n\\end{tabular}\n",
            "text/markdown": "\nA tibble: 6 × 2\n\n| HADM_ID.x &lt;dbl&gt; | ICD9_CODE &lt;int&gt; |\n|---|---|\n| 100459 | 12 |\n| 100572 | 34 |\n| 100580 | 37 |\n| 100618 | 15 |\n| 100861 |  7 |\n| 100888 | 46 |\n\n",
            "text/html": [
              "<table class=\"dataframe\">\n",
              "<caption>A tibble: 6 × 2</caption>\n",
              "<thead>\n",
              "\t<tr><th scope=col>HADM_ID.x</th><th scope=col>ICD9_CODE</th></tr>\n",
              "\t<tr><th scope=col>&lt;dbl&gt;</th><th scope=col>&lt;int&gt;</th></tr>\n",
              "</thead>\n",
              "<tbody>\n",
              "\t<tr><td>100459</td><td>12</td></tr>\n",
              "\t<tr><td>100572</td><td>34</td></tr>\n",
              "\t<tr><td>100580</td><td>37</td></tr>\n",
              "\t<tr><td>100618</td><td>15</td></tr>\n",
              "\t<tr><td>100861</td><td> 7</td></tr>\n",
              "\t<tr><td>100888</td><td>46</td></tr>\n",
              "</tbody>\n",
              "</table>\n"
            ]
          },
          "metadata": {}
        }
      ]
    },
    {
      "cell_type": "code",
      "metadata": {
        "colab": {
          "base_uri": "https://localhost:8080/",
          "height": 283
        },
        "id": "kzJurUgkmB3u",
        "outputId": "5de9301a-c2ec-42ce-ea43-fe116514fe2b"
      },
      "source": [
        "ICDcount <- countdata_filter %>% count(ICD9_CODE, sort = TRUE)\n",
        "head(ICDcount) #I did head to make the results smaller, obtained the top 10 but just doing `ICDcount`"
      ],
      "execution_count": 158,
      "outputs": [
        {
          "output_type": "display_data",
          "data": {
            "text/plain": [
              "  ICD9_CODE n  \n",
              "1 4019      459\n",
              "2 4280      273\n",
              "3 42731     257\n",
              "4 51881     227\n",
              "5 25000     203\n",
              "6 41401     194"
            ],
            "text/latex": "A tibble: 6 × 2\n\\begin{tabular}{ll}\n ICD9\\_CODE & n\\\\\n <chr> & <int>\\\\\n\\hline\n\t 4019  & 459\\\\\n\t 4280  & 273\\\\\n\t 42731 & 257\\\\\n\t 51881 & 227\\\\\n\t 25000 & 203\\\\\n\t 41401 & 194\\\\\n\\end{tabular}\n",
            "text/markdown": "\nA tibble: 6 × 2\n\n| ICD9_CODE &lt;chr&gt; | n &lt;int&gt; |\n|---|---|\n| 4019  | 459 |\n| 4280  | 273 |\n| 42731 | 257 |\n| 51881 | 227 |\n| 25000 | 203 |\n| 41401 | 194 |\n\n",
            "text/html": [
              "<table class=\"dataframe\">\n",
              "<caption>A tibble: 6 × 2</caption>\n",
              "<thead>\n",
              "\t<tr><th scope=col>ICD9_CODE</th><th scope=col>n</th></tr>\n",
              "\t<tr><th scope=col>&lt;chr&gt;</th><th scope=col>&lt;int&gt;</th></tr>\n",
              "</thead>\n",
              "<tbody>\n",
              "\t<tr><td>4019 </td><td>459</td></tr>\n",
              "\t<tr><td>4280 </td><td>273</td></tr>\n",
              "\t<tr><td>42731</td><td>257</td></tr>\n",
              "\t<tr><td>51881</td><td>227</td></tr>\n",
              "\t<tr><td>25000</td><td>203</td></tr>\n",
              "\t<tr><td>41401</td><td>194</td></tr>\n",
              "</tbody>\n",
              "</table>\n"
            ]
          },
          "metadata": {}
        }
      ]
    },
    {
      "cell_type": "markdown",
      "metadata": {
        "id": "aBeHOT_qnmvg"
      },
      "source": [
        "ANS: The top 10 ICD9 codes in descending order is as follows: 4019, 4280, 42731, 51881, 25000, 41401, 5849, 2724, 2762, 0389; The top 3 ICD9 codes are: 4019 which is Unspecified essential hypertension, 4280 is Congestive heart failure, unspecified and the 3rd 42731 is Atrial fibrillation"
      ]
    },
    {
      "cell_type": "markdown",
      "metadata": {
        "id": "_Ky_ZubCcwn6"
      },
      "source": [
        "-----\n",
        "##### 2.4 (4 pts)\n",
        "\n",
        "For the set of codes and patients that remain after the index time filtering step, make a histogram demonstrating the distribution of the number of unique diagnostic histories that the codes belong to. In other words, generate a histogram of the count data you generated in 2.3. The x-axis should represent the total number of unique patient histories in which a code appears. The y-axis should represent the total count of codes within each 'number of patient histories' interval.\n",
        "\n",
        "In 1-2 sentences, interpret the results\n",
        "\n",
        "----"
      ]
    },
    {
      "cell_type": "code",
      "metadata": {
        "colab": {
          "base_uri": "https://localhost:8080/",
          "height": 437
        },
        "id": "kkSmu8dcvdTq",
        "outputId": "39e17e28-04bd-46b8-cec2-13dd1c45972b"
      },
      "source": [
        "datahisto <- ggplot(data.frame(datatest), aes(x = HADM_ID.x))\n",
        "datahisto"
      ],
      "execution_count": 140,
      "outputs": [
        {
          "output_type": "display_data",
          "data": {
            "image/png": "[encoded data removed]",
            "text/plain": [
              "plot without title"
            ]
          },
          "metadata": {
            "image/png": {
              "width": 420,
              "height": 420
            }
          }
        }
      ]
    },
    {
      "cell_type": "markdown",
      "metadata": {
        "id": "apBY332PhIy2"
      },
      "source": [
        "I am very lost at this part. I do not believe I have been doing this completely correctly up till here. Having prior R experience would have been extremely beneficial I think. From here I skipped ahead to do as much as I could."
      ]
    },
    {
      "cell_type": "markdown",
      "metadata": {
        "id": "KBv2wBn1cwn6"
      },
      "source": [
        "-----\n",
        "##### 2.5 (5 pts)\n",
        "As you observed from the plot you created above, there are many rare diagnoses, resulting in a sparse feature space. One way to manage this is to identify rare (and similarly, very common) features using *Information content (IC)*. IC is a measure of specificity based on the frequency of occurrence of features.\n",
        "\n",
        "The IC of a feature that occurs in a set of records is calculated as \n",
        "\n",
        "$-log_2 \\left( \\frac{count(\\text{feature})}{count(\\text{record})} \\right)$\n",
        "\n",
        "Use this equation to calculate the IC of ICD9 codes based on their occurrence in the diagnosis records for the sepsis cohort."
      ]
    },
    {
      "cell_type": "markdown",
      "metadata": {
        "id": "T8GAuunecwn7"
      },
      "source": [
        "-----\n",
        "##### 2.6 (3 pts)\n",
        "\n",
        "What is the range (min and max) of ICs observed in your data? What are the 10 most specific ICD9 codes?\n",
        "\n",
        "---"
      ]
    },
    {
      "cell_type": "markdown",
      "metadata": {
        "id": "WqtnKoRFcwn7"
      },
      "source": [
        "-----\n",
        "##### 2.7 (2 pts)\n",
        "Filter the set of ICD9 codes for the diagnoses associated with the set of admissions to those with an IC between 4 and 9.\n",
        "\n",
        "---"
      ]
    },
    {
      "cell_type": "markdown",
      "metadata": {
        "id": "7BB_FKgocwn7"
      },
      "source": [
        "-----\n",
        "##### 2.8 (12 pts)\n",
        "Now we have our diagnoses features and the times they occured for each patient. All that is left to do is to create a patient-feature matrix that summarizes and organizes the diagnoses features. In this matrix, each row is an patient and each column in a diagnosis code, time binned by whether or not it occured in the preceeding 6 months prior to the index time. In other words, we are going to generate two features for each diagnosis code where one feature represents the count of the number of times the code was observed in the six months prior to the index time and the other features represents the number of times that code was observed in the medical history older than six months. The way to implement this is using a `mutate` to create a time bin indicator and then grouping on that before summarizing and spreading. Use `unite` before spreading to create a unique name for each feature based on its diagnosis code and time bin.\n",
        "\n",
        "Note that the ICU stay is the first time many patients have been seen at this hospital, so most patients may have few or no prior recorded diagnoses.\n",
        "\n",
        "What are the dimensions of your resultant dataframe?\n",
        "\n",
        "----"
      ]
    },
    {
      "cell_type": "markdown",
      "metadata": {
        "id": "W9Lld5Iccwn7"
      },
      "source": [
        "### Notes\n",
        "\n",
        "-----\n",
        "##### 2.9 (4 pts)\n",
        "Now let's add features from notes. To do so, we'll have to process some text.\n",
        "\n",
        "The `noteevents` table in MIMIC is too large and unwieldy to load into R, so we've extracted the rows from that table that you will need. The result is in the file `notes_small_cohort_v2.csv`. Load it into R and examine it with `head()`.\n",
        "\n",
        "Pay attention to the fact that notes are stored in MIMIC with chartdate information, but that charttime is mostly empty. The way that we will account for this in the context of our cutoff times is by filtering the data such that we only consider notes that were recorded prior to the day corresponding to the cutoff time for each patient. Perform the necessary filtering. How many notes are present before and after the filtering step?\n",
        "\n",
        "---"
      ]
    },
    {
      "cell_type": "markdown",
      "metadata": {
        "id": "bSpQRZR7cwn7"
      },
      "source": [
        "----\n",
        "#### 2.10 (2 pts)\n",
        "UMLS terminologies provide concept hierarchies, as well as sets of terms for individual concepts. For example, there are more than 50 terms in UMLS terminologies for the concept 'myocardial infarction'!\n",
        "\n",
        "Soon, you will use the SNOMED CT hierarchy and UMLS term sets to construct a dictionary of terms for inflammatory disorders, and then search for those terms in MIMIC III notes.\n",
        "\n",
        "First, load `snomed_ct_isaclosure.csv` and `snomed_ct_str_cui.csv` in R, and examine them with `head()`. `snomed_ct_isaclosure.csv` contains the child-parent CUI relationships for all of SNOMED CT. `snomed_ct_str_cui.csv` contains the terms (each with a unique term identifier, tid) for each SNOMED CT CUI.\n",
        "\n",
        "Join `snomedct_isa_closure` with `snomedct_cui_string` to find all terms for each CUI (including the terms associated with its children).\n",
        "\n",
        "---"
      ]
    },
    {
      "cell_type": "markdown",
      "metadata": {
        "id": "w2UjI7GMcwn8"
      },
      "source": [
        "-----\n",
        "##### 2.11 (6 pts)\n",
        "\n",
        "One feature that is very likely to impact the likelihood of a patient to develop septic shock is whether they currently have or have a history of inflammatory disorders. Let's extract information from clinical notes to look for the presence of this class of disease.\n",
        "\n",
        "First, use the CUI for inflammatory disorders in SNOMED CT (\"C1290884\"), and construct a dictionary of all terms (a set of terms) corresponding to inflammatory disorders that have 20 characters or fewer. How many terms are in the dictionary?\n",
        "\n",
        "---"
      ]
    },
    {
      "cell_type": "markdown",
      "metadata": {
        "id": "ZPbttwfccwn8"
      },
      "source": [
        "-----\n",
        "##### 2.12 (7 pts)\n",
        "\n",
        "Using any method you like, use your dictionary to determine if the note text contains each of the first fifty terms in your dictionary (limited for computational purposes). Your answer should have the columns `note_id` (the same as `row_id` in `notes.csv`), `subject_id`, `chartdate`, and as many more columns as there are terms in the dictionary (50).\n",
        "\n",
        "What are the dimensions of the resulting dataframe?\n",
        "\n",
        "---"
      ]
    },
    {
      "cell_type": "markdown",
      "metadata": {
        "id": "60mZdUVMcwn8"
      },
      "source": [
        "-----\n",
        "##### 2.13 (6 pts)\n",
        "\n",
        "Now use your result from question 2.10 to normalize terms back to their concepts and construct a dataframe of `subject_id`, `chartdate` and `concept`.\n",
        "\n",
        "---"
      ]
    },
    {
      "cell_type": "markdown",
      "metadata": {
        "id": "Xv7_Qpuvcwn8"
      },
      "source": [
        "-----\n",
        "##### 2.14 (7 pts)\n",
        "\n",
        "As with the diagnoses, we must transform this data into a patient-feature matrix. Use `dplyr` and `tidyr` to transform this table of concept mentions into a patient-feature matrix where each row is a patient and each column is the presence or absence of a concept. Do not do any time-binning. Each concept should have only one column. Instead of counts, use a binary indicator to indicate that the concept was present in the patient's notes prior to the cutoff time.\n",
        "\n",
        "What are the dimensions of the resulting table?\n",
        "\n",
        "----"
      ]
    },
    {
      "cell_type": "markdown",
      "metadata": {
        "id": "BeGH5EtOcwn8"
      },
      "source": [
        "### Vitals"
      ]
    },
    {
      "cell_type": "markdown",
      "metadata": {
        "id": "JpXcbLHFcwn8"
      },
      "source": [
        "-----\n",
        "##### 2.15 (2 pts)\n",
        "\n",
        "Now let's engineer some features from vital sign measurements also relevant to predicting septic shock.\n",
        "\n",
        "Here we will work with the patient's heart rates. Load the file `vitals_small_cohort.csv` (this file will be familiar to you at this point). Once you have done so, filter measurements so that you are only looking at Heart Rate  measurements that occured prior to the cutoff time for the set of patients in our cohort.\n",
        "\n",
        "How many patients are left in the dataframe after performing this filtering step?\n",
        "\n",
        "----"
      ]
    },
    {
      "cell_type": "code",
      "metadata": {
        "colab": {
          "base_uri": "https://localhost:8080/"
        },
        "id": "_gNzzQZbi7yR",
        "outputId": "cb4ada03-0e7f-4838-b4c3-19cf712e0f85"
      },
      "source": [
        "vitals_small_cohort <- read_csv(\"/content/vitals_small_cohort.csv\")"
      ],
      "execution_count": 168,
      "outputs": [
        {
          "output_type": "stream",
          "name": "stderr",
          "text": [
            "\u001b[1m\u001b[1mRows: \u001b[1m\u001b[22m\u001b[34m\u001b[34m599024\u001b[34m\u001b[39m \u001b[1m\u001b[1mColumns: \u001b[1m\u001b[22m\u001b[34m\u001b[34m6\u001b[34m\u001b[39m\n",
            "\n",
            "\u001b[36m──\u001b[39m \u001b[1m\u001b[1mColumn specification\u001b[1m\u001b[22m \u001b[36m────────────────────────────────────────────────────────\u001b[39m\n",
            "\u001b[1mDelimiter:\u001b[22m \",\"\n",
            "\u001b[31mchr\u001b[39m  (1): vital_id\n",
            "\u001b[32mdbl\u001b[39m  (4): subject_id, hadm_id, icustay_id, valuenum\n",
            "\u001b[34mdttm\u001b[39m (1): charttime\n",
            "\n",
            "\n",
            "\u001b[36mℹ\u001b[39m Use \u001b[30m\u001b[47m\u001b[30m\u001b[47m`spec()`\u001b[47m\u001b[30m\u001b[49m\u001b[39m to retrieve the full column specification for this data.\n",
            "\u001b[36mℹ\u001b[39m Specify the column types or set \u001b[30m\u001b[47m\u001b[30m\u001b[47m`show_col_types = FALSE`\u001b[47m\u001b[30m\u001b[49m\u001b[39m to quiet this message.\n",
            "\n"
          ]
        }
      ]
    },
    {
      "cell_type": "code",
      "metadata": {
        "id": "fzQ-4pZXkABA"
      },
      "source": [
        "countdata_filter <- rename(countdata_filter, \"hadm_id\" = \"HADM_ID.x\")"
      ],
      "execution_count": 172,
      "outputs": []
    },
    {
      "cell_type": "code",
      "metadata": {
        "id": "5E-z488TjbYx"
      },
      "source": [
        "vitals_filter <- countdata_filter %>% inner_join(vitals_small_cohort, by = \"hadm_id\")"
      ],
      "execution_count": 173,
      "outputs": []
    },
    {
      "cell_type": "code",
      "metadata": {
        "colab": {
          "base_uri": "https://localhost:8080/",
          "height": 385
        },
        "id": "V8w74JjLnRXg",
        "outputId": "3fb480af-fe9d-4adc-9080-1c7784e21347"
      },
      "source": [
        "head(vitals_filter)"
      ],
      "execution_count": 174,
      "outputs": [
        {
          "output_type": "display_data",
          "data": {
            "text/plain": [
              "  SUBJECT_ID hadm_id ADMITTIME           DISCHTIME           time_diff     \n",
              "1 67         155252  2157-12-02 00:45:00 2157-12-02 03:55:00 3.166667 hours\n",
              "2 67         155252  2157-12-02 00:45:00 2157-12-02 03:55:00 3.166667 hours\n",
              "3 67         155252  2157-12-02 00:45:00 2157-12-02 03:55:00 3.166667 hours\n",
              "4 67         155252  2157-12-02 00:45:00 2157-12-02 03:55:00 3.166667 hours\n",
              "5 67         155252  2157-12-02 00:45:00 2157-12-02 03:55:00 3.166667 hours\n",
              "6 67         155252  2157-12-02 00:45:00 2157-12-02 03:55:00 3.166667 hours\n",
              "  label    index_time          ICD9_CODE diagnosis_time subject_id icustay_id\n",
              "1 Negative 2157-12-02 12:45:00 431       1              67         226216    \n",
              "2 Negative 2157-12-02 12:45:00 431       1              67         226216    \n",
              "3 Negative 2157-12-02 12:45:00 431       1              67         226216    \n",
              "4 Negative 2157-12-02 12:45:00 431       1              67         226216    \n",
              "5 Negative 2157-12-02 12:45:00 431       1              67         226216    \n",
              "6 Negative 2157-12-02 12:45:00 431       1              67         226216    \n",
              "  charttime           valuenum  vital_id \n",
              "1 2157-12-02 01:00:00  86.00000 HeartRate\n",
              "2 2157-12-02 01:00:00  27.00000 RespRate \n",
              "3 2157-12-02 01:00:00 189.00000 SysBP    \n",
              "4 2157-12-02 01:00:00  35.83333 TempC    \n",
              "5 2157-12-02 01:15:00  87.00000 HeartRate\n",
              "6 2157-12-02 01:15:00  28.00000 RespRate "
            ],
            "text/latex": "A tibble: 6 × 14\n\\begin{tabular}{llllllllllllll}\n SUBJECT\\_ID & hadm\\_id & ADMITTIME & DISCHTIME & time\\_diff & label & index\\_time & ICD9\\_CODE & diagnosis\\_time & subject\\_id & icustay\\_id & charttime & valuenum & vital\\_id\\\\\n <dbl> & <dbl> & <dttm> & <dttm> & <drtn> & <chr> & <dttm> & <chr> & <dbl> & <dbl> & <dbl> & <dttm> & <dbl> & <chr>\\\\\n\\hline\n\t 67 & 155252 & 2157-12-02 00:45:00 & 2157-12-02 03:55:00 & 3.166667 hours & Negative & 2157-12-02 12:45:00 & 431 & 1 & 67 & 226216 & 2157-12-02 01:00:00 &  86.00000 & HeartRate\\\\\n\t 67 & 155252 & 2157-12-02 00:45:00 & 2157-12-02 03:55:00 & 3.166667 hours & Negative & 2157-12-02 12:45:00 & 431 & 1 & 67 & 226216 & 2157-12-02 01:00:00 &  27.00000 & RespRate \\\\\n\t 67 & 155252 & 2157-12-02 00:45:00 & 2157-12-02 03:55:00 & 3.166667 hours & Negative & 2157-12-02 12:45:00 & 431 & 1 & 67 & 226216 & 2157-12-02 01:00:00 & 189.00000 & SysBP    \\\\\n\t 67 & 155252 & 2157-12-02 00:45:00 & 2157-12-02 03:55:00 & 3.166667 hours & Negative & 2157-12-02 12:45:00 & 431 & 1 & 67 & 226216 & 2157-12-02 01:00:00 &  35.83333 & TempC    \\\\\n\t 67 & 155252 & 2157-12-02 00:45:00 & 2157-12-02 03:55:00 & 3.166667 hours & Negative & 2157-12-02 12:45:00 & 431 & 1 & 67 & 226216 & 2157-12-02 01:15:00 &  87.00000 & HeartRate\\\\\n\t 67 & 155252 & 2157-12-02 00:45:00 & 2157-12-02 03:55:00 & 3.166667 hours & Negative & 2157-12-02 12:45:00 & 431 & 1 & 67 & 226216 & 2157-12-02 01:15:00 &  28.00000 & RespRate \\\\\n\\end{tabular}\n",
            "text/markdown": "\nA tibble: 6 × 14\n\n| SUBJECT_ID &lt;dbl&gt; | hadm_id &lt;dbl&gt; | ADMITTIME &lt;dttm&gt; | DISCHTIME &lt;dttm&gt; | time_diff &lt;drtn&gt; | label &lt;chr&gt; | index_time &lt;dttm&gt; | ICD9_CODE &lt;chr&gt; | diagnosis_time &lt;dbl&gt; | subject_id &lt;dbl&gt; | icustay_id &lt;dbl&gt; | charttime &lt;dttm&gt; | valuenum &lt;dbl&gt; | vital_id &lt;chr&gt; |\n|---|---|---|---|---|---|---|---|---|---|---|---|---|---|\n| 67 | 155252 | 2157-12-02 00:45:00 | 2157-12-02 03:55:00 | 3.166667 hours | Negative | 2157-12-02 12:45:00 | 431 | 1 | 67 | 226216 | 2157-12-02 01:00:00 |  86.00000 | HeartRate |\n| 67 | 155252 | 2157-12-02 00:45:00 | 2157-12-02 03:55:00 | 3.166667 hours | Negative | 2157-12-02 12:45:00 | 431 | 1 | 67 | 226216 | 2157-12-02 01:00:00 |  27.00000 | RespRate  |\n| 67 | 155252 | 2157-12-02 00:45:00 | 2157-12-02 03:55:00 | 3.166667 hours | Negative | 2157-12-02 12:45:00 | 431 | 1 | 67 | 226216 | 2157-12-02 01:00:00 | 189.00000 | SysBP     |\n| 67 | 155252 | 2157-12-02 00:45:00 | 2157-12-02 03:55:00 | 3.166667 hours | Negative | 2157-12-02 12:45:00 | 431 | 1 | 67 | 226216 | 2157-12-02 01:00:00 |  35.83333 | TempC     |\n| 67 | 155252 | 2157-12-02 00:45:00 | 2157-12-02 03:55:00 | 3.166667 hours | Negative | 2157-12-02 12:45:00 | 431 | 1 | 67 | 226216 | 2157-12-02 01:15:00 |  87.00000 | HeartRate |\n| 67 | 155252 | 2157-12-02 00:45:00 | 2157-12-02 03:55:00 | 3.166667 hours | Negative | 2157-12-02 12:45:00 | 431 | 1 | 67 | 226216 | 2157-12-02 01:15:00 |  28.00000 | RespRate  |\n\n",
            "text/html": [
              "<table class=\"dataframe\">\n",
              "<caption>A tibble: 6 × 14</caption>\n",
              "<thead>\n",
              "\t<tr><th scope=col>SUBJECT_ID</th><th scope=col>hadm_id</th><th scope=col>ADMITTIME</th><th scope=col>DISCHTIME</th><th scope=col>time_diff</th><th scope=col>label</th><th scope=col>index_time</th><th scope=col>ICD9_CODE</th><th scope=col>diagnosis_time</th><th scope=col>subject_id</th><th scope=col>icustay_id</th><th scope=col>charttime</th><th scope=col>valuenum</th><th scope=col>vital_id</th></tr>\n",
              "\t<tr><th scope=col>&lt;dbl&gt;</th><th scope=col>&lt;dbl&gt;</th><th scope=col>&lt;dttm&gt;</th><th scope=col>&lt;dttm&gt;</th><th scope=col>&lt;drtn&gt;</th><th scope=col>&lt;chr&gt;</th><th scope=col>&lt;dttm&gt;</th><th scope=col>&lt;chr&gt;</th><th scope=col>&lt;dbl&gt;</th><th scope=col>&lt;dbl&gt;</th><th scope=col>&lt;dbl&gt;</th><th scope=col>&lt;dttm&gt;</th><th scope=col>&lt;dbl&gt;</th><th scope=col>&lt;chr&gt;</th></tr>\n",
              "</thead>\n",
              "<tbody>\n",
              "\t<tr><td>67</td><td>155252</td><td>2157-12-02 00:45:00</td><td>2157-12-02 03:55:00</td><td>3.166667 hours</td><td>Negative</td><td>2157-12-02 12:45:00</td><td>431</td><td>1</td><td>67</td><td>226216</td><td>2157-12-02 01:00:00</td><td> 86.00000</td><td>HeartRate</td></tr>\n",
              "\t<tr><td>67</td><td>155252</td><td>2157-12-02 00:45:00</td><td>2157-12-02 03:55:00</td><td>3.166667 hours</td><td>Negative</td><td>2157-12-02 12:45:00</td><td>431</td><td>1</td><td>67</td><td>226216</td><td>2157-12-02 01:00:00</td><td> 27.00000</td><td>RespRate </td></tr>\n",
              "\t<tr><td>67</td><td>155252</td><td>2157-12-02 00:45:00</td><td>2157-12-02 03:55:00</td><td>3.166667 hours</td><td>Negative</td><td>2157-12-02 12:45:00</td><td>431</td><td>1</td><td>67</td><td>226216</td><td>2157-12-02 01:00:00</td><td>189.00000</td><td>SysBP    </td></tr>\n",
              "\t<tr><td>67</td><td>155252</td><td>2157-12-02 00:45:00</td><td>2157-12-02 03:55:00</td><td>3.166667 hours</td><td>Negative</td><td>2157-12-02 12:45:00</td><td>431</td><td>1</td><td>67</td><td>226216</td><td>2157-12-02 01:00:00</td><td> 35.83333</td><td>TempC    </td></tr>\n",
              "\t<tr><td>67</td><td>155252</td><td>2157-12-02 00:45:00</td><td>2157-12-02 03:55:00</td><td>3.166667 hours</td><td>Negative</td><td>2157-12-02 12:45:00</td><td>431</td><td>1</td><td>67</td><td>226216</td><td>2157-12-02 01:15:00</td><td> 87.00000</td><td>HeartRate</td></tr>\n",
              "\t<tr><td>67</td><td>155252</td><td>2157-12-02 00:45:00</td><td>2157-12-02 03:55:00</td><td>3.166667 hours</td><td>Negative</td><td>2157-12-02 12:45:00</td><td>431</td><td>1</td><td>67</td><td>226216</td><td>2157-12-02 01:15:00</td><td> 28.00000</td><td>RespRate </td></tr>\n",
              "</tbody>\n",
              "</table>\n"
            ]
          },
          "metadata": {}
        }
      ]
    },
    {
      "cell_type": "code",
      "metadata": {
        "colab": {
          "base_uri": "https://localhost:8080/",
          "height": 283
        },
        "id": "5tzTcDd4neXs",
        "outputId": "3bd9a140-63f4-4f7c-cd11-2cee746bcfb4"
      },
      "source": [
        "keep3 <- c(\"SUBJECT_ID\", \"hadm_id\", \"ADMITTIME\", \"index_time\", \"ICD9_CODE\", \"charttime\", \"vital_id\")\n",
        "vitals_filter <- vitals_filter[keep3]\n",
        "head(vitals_filter)"
      ],
      "execution_count": 177,
      "outputs": [
        {
          "output_type": "display_data",
          "data": {
            "text/plain": [
              "  SUBJECT_ID hadm_id ADMITTIME           index_time          ICD9_CODE\n",
              "1 67         155252  2157-12-02 00:45:00 2157-12-02 12:45:00 431      \n",
              "2 67         155252  2157-12-02 00:45:00 2157-12-02 12:45:00 431      \n",
              "3 67         155252  2157-12-02 00:45:00 2157-12-02 12:45:00 431      \n",
              "4 67         155252  2157-12-02 00:45:00 2157-12-02 12:45:00 431      \n",
              "5 67         155252  2157-12-02 00:45:00 2157-12-02 12:45:00 431      \n",
              "6 67         155252  2157-12-02 00:45:00 2157-12-02 12:45:00 431      \n",
              "  charttime           vital_id \n",
              "1 2157-12-02 01:00:00 HeartRate\n",
              "2 2157-12-02 01:00:00 RespRate \n",
              "3 2157-12-02 01:00:00 SysBP    \n",
              "4 2157-12-02 01:00:00 TempC    \n",
              "5 2157-12-02 01:15:00 HeartRate\n",
              "6 2157-12-02 01:15:00 RespRate "
            ],
            "text/latex": "A tibble: 6 × 7\n\\begin{tabular}{lllllll}\n SUBJECT\\_ID & hadm\\_id & ADMITTIME & index\\_time & ICD9\\_CODE & charttime & vital\\_id\\\\\n <dbl> & <dbl> & <dttm> & <dttm> & <chr> & <dttm> & <chr>\\\\\n\\hline\n\t 67 & 155252 & 2157-12-02 00:45:00 & 2157-12-02 12:45:00 & 431 & 2157-12-02 01:00:00 & HeartRate\\\\\n\t 67 & 155252 & 2157-12-02 00:45:00 & 2157-12-02 12:45:00 & 431 & 2157-12-02 01:00:00 & RespRate \\\\\n\t 67 & 155252 & 2157-12-02 00:45:00 & 2157-12-02 12:45:00 & 431 & 2157-12-02 01:00:00 & SysBP    \\\\\n\t 67 & 155252 & 2157-12-02 00:45:00 & 2157-12-02 12:45:00 & 431 & 2157-12-02 01:00:00 & TempC    \\\\\n\t 67 & 155252 & 2157-12-02 00:45:00 & 2157-12-02 12:45:00 & 431 & 2157-12-02 01:15:00 & HeartRate\\\\\n\t 67 & 155252 & 2157-12-02 00:45:00 & 2157-12-02 12:45:00 & 431 & 2157-12-02 01:15:00 & RespRate \\\\\n\\end{tabular}\n",
            "text/markdown": "\nA tibble: 6 × 7\n\n| SUBJECT_ID &lt;dbl&gt; | hadm_id &lt;dbl&gt; | ADMITTIME &lt;dttm&gt; | index_time &lt;dttm&gt; | ICD9_CODE &lt;chr&gt; | charttime &lt;dttm&gt; | vital_id &lt;chr&gt; |\n|---|---|---|---|---|---|---|\n| 67 | 155252 | 2157-12-02 00:45:00 | 2157-12-02 12:45:00 | 431 | 2157-12-02 01:00:00 | HeartRate |\n| 67 | 155252 | 2157-12-02 00:45:00 | 2157-12-02 12:45:00 | 431 | 2157-12-02 01:00:00 | RespRate  |\n| 67 | 155252 | 2157-12-02 00:45:00 | 2157-12-02 12:45:00 | 431 | 2157-12-02 01:00:00 | SysBP     |\n| 67 | 155252 | 2157-12-02 00:45:00 | 2157-12-02 12:45:00 | 431 | 2157-12-02 01:00:00 | TempC     |\n| 67 | 155252 | 2157-12-02 00:45:00 | 2157-12-02 12:45:00 | 431 | 2157-12-02 01:15:00 | HeartRate |\n| 67 | 155252 | 2157-12-02 00:45:00 | 2157-12-02 12:45:00 | 431 | 2157-12-02 01:15:00 | RespRate  |\n\n",
            "text/html": [
              "<table class=\"dataframe\">\n",
              "<caption>A tibble: 6 × 7</caption>\n",
              "<thead>\n",
              "\t<tr><th scope=col>SUBJECT_ID</th><th scope=col>hadm_id</th><th scope=col>ADMITTIME</th><th scope=col>index_time</th><th scope=col>ICD9_CODE</th><th scope=col>charttime</th><th scope=col>vital_id</th></tr>\n",
              "\t<tr><th scope=col>&lt;dbl&gt;</th><th scope=col>&lt;dbl&gt;</th><th scope=col>&lt;dttm&gt;</th><th scope=col>&lt;dttm&gt;</th><th scope=col>&lt;chr&gt;</th><th scope=col>&lt;dttm&gt;</th><th scope=col>&lt;chr&gt;</th></tr>\n",
              "</thead>\n",
              "<tbody>\n",
              "\t<tr><td>67</td><td>155252</td><td>2157-12-02 00:45:00</td><td>2157-12-02 12:45:00</td><td>431</td><td>2157-12-02 01:00:00</td><td>HeartRate</td></tr>\n",
              "\t<tr><td>67</td><td>155252</td><td>2157-12-02 00:45:00</td><td>2157-12-02 12:45:00</td><td>431</td><td>2157-12-02 01:00:00</td><td>RespRate </td></tr>\n",
              "\t<tr><td>67</td><td>155252</td><td>2157-12-02 00:45:00</td><td>2157-12-02 12:45:00</td><td>431</td><td>2157-12-02 01:00:00</td><td>SysBP    </td></tr>\n",
              "\t<tr><td>67</td><td>155252</td><td>2157-12-02 00:45:00</td><td>2157-12-02 12:45:00</td><td>431</td><td>2157-12-02 01:00:00</td><td>TempC    </td></tr>\n",
              "\t<tr><td>67</td><td>155252</td><td>2157-12-02 00:45:00</td><td>2157-12-02 12:45:00</td><td>431</td><td>2157-12-02 01:15:00</td><td>HeartRate</td></tr>\n",
              "\t<tr><td>67</td><td>155252</td><td>2157-12-02 00:45:00</td><td>2157-12-02 12:45:00</td><td>431</td><td>2157-12-02 01:15:00</td><td>RespRate </td></tr>\n",
              "</tbody>\n",
              "</table>\n"
            ]
          },
          "metadata": {}
        }
      ]
    },
    {
      "cell_type": "code",
      "metadata": {
        "id": "2-X21r5XoNCH"
      },
      "source": [
        "vitals_filter$hrc <- ifelse(vitals_filter$vital_id==\"HeartRate\", 1, 0)"
      ],
      "execution_count": 179,
      "outputs": []
    },
    {
      "cell_type": "code",
      "metadata": {
        "colab": {
          "base_uri": "https://localhost:8080/",
          "height": 283
        },
        "id": "pWumhyLDoYGu",
        "outputId": "9c5b4c82-3ad9-45ab-e6e1-371a7fdc178b"
      },
      "source": [
        "vitals_filter_hr_only <- vitals_filter[vitals_filter$hrc != 0,]\n",
        "head(vitals_filter_hr_only)"
      ],
      "execution_count": 181,
      "outputs": [
        {
          "output_type": "display_data",
          "data": {
            "text/plain": [
              "  SUBJECT_ID hadm_id ADMITTIME           index_time          ICD9_CODE\n",
              "1 67         155252  2157-12-02 00:45:00 2157-12-02 12:45:00 431      \n",
              "2 67         155252  2157-12-02 00:45:00 2157-12-02 12:45:00 431      \n",
              "3 67         155252  2157-12-02 00:45:00 2157-12-02 12:45:00 431      \n",
              "4 67         155252  2157-12-02 00:45:00 2157-12-02 12:45:00 431      \n",
              "5 67         155252  2157-12-02 00:45:00 2157-12-02 12:45:00 431      \n",
              "6 67         155252  2157-12-02 00:45:00 2157-12-02 12:45:00 431      \n",
              "  charttime           vital_id  hrc\n",
              "1 2157-12-02 01:00:00 HeartRate 1  \n",
              "2 2157-12-02 01:15:00 HeartRate 1  \n",
              "3 2157-12-02 01:30:00 HeartRate 1  \n",
              "4 2157-12-02 01:40:00 HeartRate 1  \n",
              "5 2157-12-02 01:45:00 HeartRate 1  \n",
              "6 2157-12-02 02:00:00 HeartRate 1  "
            ],
            "text/latex": "A tibble: 6 × 8\n\\begin{tabular}{llllllll}\n SUBJECT\\_ID & hadm\\_id & ADMITTIME & index\\_time & ICD9\\_CODE & charttime & vital\\_id & hrc\\\\\n <dbl> & <dbl> & <dttm> & <dttm> & <chr> & <dttm> & <chr> & <dbl>\\\\\n\\hline\n\t 67 & 155252 & 2157-12-02 00:45:00 & 2157-12-02 12:45:00 & 431 & 2157-12-02 01:00:00 & HeartRate & 1\\\\\n\t 67 & 155252 & 2157-12-02 00:45:00 & 2157-12-02 12:45:00 & 431 & 2157-12-02 01:15:00 & HeartRate & 1\\\\\n\t 67 & 155252 & 2157-12-02 00:45:00 & 2157-12-02 12:45:00 & 431 & 2157-12-02 01:30:00 & HeartRate & 1\\\\\n\t 67 & 155252 & 2157-12-02 00:45:00 & 2157-12-02 12:45:00 & 431 & 2157-12-02 01:40:00 & HeartRate & 1\\\\\n\t 67 & 155252 & 2157-12-02 00:45:00 & 2157-12-02 12:45:00 & 431 & 2157-12-02 01:45:00 & HeartRate & 1\\\\\n\t 67 & 155252 & 2157-12-02 00:45:00 & 2157-12-02 12:45:00 & 431 & 2157-12-02 02:00:00 & HeartRate & 1\\\\\n\\end{tabular}\n",
            "text/markdown": "\nA tibble: 6 × 8\n\n| SUBJECT_ID &lt;dbl&gt; | hadm_id &lt;dbl&gt; | ADMITTIME &lt;dttm&gt; | index_time &lt;dttm&gt; | ICD9_CODE &lt;chr&gt; | charttime &lt;dttm&gt; | vital_id &lt;chr&gt; | hrc &lt;dbl&gt; |\n|---|---|---|---|---|---|---|---|\n| 67 | 155252 | 2157-12-02 00:45:00 | 2157-12-02 12:45:00 | 431 | 2157-12-02 01:00:00 | HeartRate | 1 |\n| 67 | 155252 | 2157-12-02 00:45:00 | 2157-12-02 12:45:00 | 431 | 2157-12-02 01:15:00 | HeartRate | 1 |\n| 67 | 155252 | 2157-12-02 00:45:00 | 2157-12-02 12:45:00 | 431 | 2157-12-02 01:30:00 | HeartRate | 1 |\n| 67 | 155252 | 2157-12-02 00:45:00 | 2157-12-02 12:45:00 | 431 | 2157-12-02 01:40:00 | HeartRate | 1 |\n| 67 | 155252 | 2157-12-02 00:45:00 | 2157-12-02 12:45:00 | 431 | 2157-12-02 01:45:00 | HeartRate | 1 |\n| 67 | 155252 | 2157-12-02 00:45:00 | 2157-12-02 12:45:00 | 431 | 2157-12-02 02:00:00 | HeartRate | 1 |\n\n",
            "text/html": [
              "<table class=\"dataframe\">\n",
              "<caption>A tibble: 6 × 8</caption>\n",
              "<thead>\n",
              "\t<tr><th scope=col>SUBJECT_ID</th><th scope=col>hadm_id</th><th scope=col>ADMITTIME</th><th scope=col>index_time</th><th scope=col>ICD9_CODE</th><th scope=col>charttime</th><th scope=col>vital_id</th><th scope=col>hrc</th></tr>\n",
              "\t<tr><th scope=col>&lt;dbl&gt;</th><th scope=col>&lt;dbl&gt;</th><th scope=col>&lt;dttm&gt;</th><th scope=col>&lt;dttm&gt;</th><th scope=col>&lt;chr&gt;</th><th scope=col>&lt;dttm&gt;</th><th scope=col>&lt;chr&gt;</th><th scope=col>&lt;dbl&gt;</th></tr>\n",
              "</thead>\n",
              "<tbody>\n",
              "\t<tr><td>67</td><td>155252</td><td>2157-12-02 00:45:00</td><td>2157-12-02 12:45:00</td><td>431</td><td>2157-12-02 01:00:00</td><td>HeartRate</td><td>1</td></tr>\n",
              "\t<tr><td>67</td><td>155252</td><td>2157-12-02 00:45:00</td><td>2157-12-02 12:45:00</td><td>431</td><td>2157-12-02 01:15:00</td><td>HeartRate</td><td>1</td></tr>\n",
              "\t<tr><td>67</td><td>155252</td><td>2157-12-02 00:45:00</td><td>2157-12-02 12:45:00</td><td>431</td><td>2157-12-02 01:30:00</td><td>HeartRate</td><td>1</td></tr>\n",
              "\t<tr><td>67</td><td>155252</td><td>2157-12-02 00:45:00</td><td>2157-12-02 12:45:00</td><td>431</td><td>2157-12-02 01:40:00</td><td>HeartRate</td><td>1</td></tr>\n",
              "\t<tr><td>67</td><td>155252</td><td>2157-12-02 00:45:00</td><td>2157-12-02 12:45:00</td><td>431</td><td>2157-12-02 01:45:00</td><td>HeartRate</td><td>1</td></tr>\n",
              "\t<tr><td>67</td><td>155252</td><td>2157-12-02 00:45:00</td><td>2157-12-02 12:45:00</td><td>431</td><td>2157-12-02 02:00:00</td><td>HeartRate</td><td>1</td></tr>\n",
              "</tbody>\n",
              "</table>\n"
            ]
          },
          "metadata": {}
        }
      ]
    },
    {
      "cell_type": "code",
      "metadata": {
        "colab": {
          "base_uri": "https://localhost:8080/",
          "height": 128
        },
        "id": "g12RolEko3jI",
        "outputId": "3422343e-d6c1-493f-a724-2713c1b28abc"
      },
      "source": [
        "vitals_filter_hr_only %>% count(vital_id)"
      ],
      "execution_count": 182,
      "outputs": [
        {
          "output_type": "display_data",
          "data": {
            "text/plain": [
              "  vital_id  n   \n",
              "1 HeartRate 2892"
            ],
            "text/latex": "A tibble: 1 × 2\n\\begin{tabular}{ll}\n vital\\_id & n\\\\\n <chr> & <int>\\\\\n\\hline\n\t HeartRate & 2892\\\\\n\\end{tabular}\n",
            "text/markdown": "\nA tibble: 1 × 2\n\n| vital_id &lt;chr&gt; | n &lt;int&gt; |\n|---|---|\n| HeartRate | 2892 |\n\n",
            "text/html": [
              "<table class=\"dataframe\">\n",
              "<caption>A tibble: 1 × 2</caption>\n",
              "<thead>\n",
              "\t<tr><th scope=col>vital_id</th><th scope=col>n</th></tr>\n",
              "\t<tr><th scope=col>&lt;chr&gt;</th><th scope=col>&lt;int&gt;</th></tr>\n",
              "</thead>\n",
              "<tbody>\n",
              "\t<tr><td>HeartRate</td><td>2892</td></tr>\n",
              "</tbody>\n",
              "</table>\n"
            ]
          },
          "metadata": {}
        }
      ]
    },
    {
      "cell_type": "markdown",
      "metadata": {
        "id": "OM5u-ZkWpBhW"
      },
      "source": [
        "ANS: After the filtering step there are 2892 patients left in the dataframe."
      ]
    },
    {
      "cell_type": "markdown",
      "metadata": {
        "id": "4BW4L-WKcwn9"
      },
      "source": [
        "-----\n",
        "##### 2.16 (4pts)\n",
        "\n",
        "One feature of interest might be the latest value of the heart rate before the cutoff time. Use `dplyr` to make a dataframe with three columns: `subject_id`, `latest_heart_rate`, and `charttime`. \n",
        "\n",
        "What is the average value of the latest recorded heart rate in this cohort? Additionally, make a histogram or density plot of the latest heart rate colored by whether a patient develops septic shock.\n",
        "\n",
        "----"
      ]
    },
    {
      "cell_type": "code",
      "metadata": {
        "id": "tgoSKxa1pIxq"
      },
      "source": [
        "vitals_filter_hr_only$latest_heart_rate <- vitals_filter_hr_only$charttime - vitals_filter_hr_only$ADMITTIME"
      ],
      "execution_count": 183,
      "outputs": []
    },
    {
      "cell_type": "code",
      "metadata": {
        "colab": {
          "base_uri": "https://localhost:8080/",
          "height": 283
        },
        "id": "AWLDg2icp5ue",
        "outputId": "6a66cb52-73b2-4c67-9aec-8afdf3afe51c"
      },
      "source": [
        "head(vitals_filter_hr_only)"
      ],
      "execution_count": 184,
      "outputs": [
        {
          "output_type": "display_data",
          "data": {
            "text/plain": [
              "  SUBJECT_ID hadm_id ADMITTIME           index_time          ICD9_CODE\n",
              "1 67         155252  2157-12-02 00:45:00 2157-12-02 12:45:00 431      \n",
              "2 67         155252  2157-12-02 00:45:00 2157-12-02 12:45:00 431      \n",
              "3 67         155252  2157-12-02 00:45:00 2157-12-02 12:45:00 431      \n",
              "4 67         155252  2157-12-02 00:45:00 2157-12-02 12:45:00 431      \n",
              "5 67         155252  2157-12-02 00:45:00 2157-12-02 12:45:00 431      \n",
              "6 67         155252  2157-12-02 00:45:00 2157-12-02 12:45:00 431      \n",
              "  charttime           vital_id  hrc latest_heart_rate\n",
              "1 2157-12-02 01:00:00 HeartRate 1   15 mins          \n",
              "2 2157-12-02 01:15:00 HeartRate 1   30 mins          \n",
              "3 2157-12-02 01:30:00 HeartRate 1   45 mins          \n",
              "4 2157-12-02 01:40:00 HeartRate 1   55 mins          \n",
              "5 2157-12-02 01:45:00 HeartRate 1   60 mins          \n",
              "6 2157-12-02 02:00:00 HeartRate 1   75 mins          "
            ],
            "text/latex": "A tibble: 6 × 9\n\\begin{tabular}{lllllllll}\n SUBJECT\\_ID & hadm\\_id & ADMITTIME & index\\_time & ICD9\\_CODE & charttime & vital\\_id & hrc & latest\\_heart\\_rate\\\\\n <dbl> & <dbl> & <dttm> & <dttm> & <chr> & <dttm> & <chr> & <dbl> & <drtn>\\\\\n\\hline\n\t 67 & 155252 & 2157-12-02 00:45:00 & 2157-12-02 12:45:00 & 431 & 2157-12-02 01:00:00 & HeartRate & 1 & 15 mins\\\\\n\t 67 & 155252 & 2157-12-02 00:45:00 & 2157-12-02 12:45:00 & 431 & 2157-12-02 01:15:00 & HeartRate & 1 & 30 mins\\\\\n\t 67 & 155252 & 2157-12-02 00:45:00 & 2157-12-02 12:45:00 & 431 & 2157-12-02 01:30:00 & HeartRate & 1 & 45 mins\\\\\n\t 67 & 155252 & 2157-12-02 00:45:00 & 2157-12-02 12:45:00 & 431 & 2157-12-02 01:40:00 & HeartRate & 1 & 55 mins\\\\\n\t 67 & 155252 & 2157-12-02 00:45:00 & 2157-12-02 12:45:00 & 431 & 2157-12-02 01:45:00 & HeartRate & 1 & 60 mins\\\\\n\t 67 & 155252 & 2157-12-02 00:45:00 & 2157-12-02 12:45:00 & 431 & 2157-12-02 02:00:00 & HeartRate & 1 & 75 mins\\\\\n\\end{tabular}\n",
            "text/markdown": "\nA tibble: 6 × 9\n\n| SUBJECT_ID &lt;dbl&gt; | hadm_id &lt;dbl&gt; | ADMITTIME &lt;dttm&gt; | index_time &lt;dttm&gt; | ICD9_CODE &lt;chr&gt; | charttime &lt;dttm&gt; | vital_id &lt;chr&gt; | hrc &lt;dbl&gt; | latest_heart_rate &lt;drtn&gt; |\n|---|---|---|---|---|---|---|---|---|\n| 67 | 155252 | 2157-12-02 00:45:00 | 2157-12-02 12:45:00 | 431 | 2157-12-02 01:00:00 | HeartRate | 1 | 15 mins |\n| 67 | 155252 | 2157-12-02 00:45:00 | 2157-12-02 12:45:00 | 431 | 2157-12-02 01:15:00 | HeartRate | 1 | 30 mins |\n| 67 | 155252 | 2157-12-02 00:45:00 | 2157-12-02 12:45:00 | 431 | 2157-12-02 01:30:00 | HeartRate | 1 | 45 mins |\n| 67 | 155252 | 2157-12-02 00:45:00 | 2157-12-02 12:45:00 | 431 | 2157-12-02 01:40:00 | HeartRate | 1 | 55 mins |\n| 67 | 155252 | 2157-12-02 00:45:00 | 2157-12-02 12:45:00 | 431 | 2157-12-02 01:45:00 | HeartRate | 1 | 60 mins |\n| 67 | 155252 | 2157-12-02 00:45:00 | 2157-12-02 12:45:00 | 431 | 2157-12-02 02:00:00 | HeartRate | 1 | 75 mins |\n\n",
            "text/html": [
              "<table class=\"dataframe\">\n",
              "<caption>A tibble: 6 × 9</caption>\n",
              "<thead>\n",
              "\t<tr><th scope=col>SUBJECT_ID</th><th scope=col>hadm_id</th><th scope=col>ADMITTIME</th><th scope=col>index_time</th><th scope=col>ICD9_CODE</th><th scope=col>charttime</th><th scope=col>vital_id</th><th scope=col>hrc</th><th scope=col>latest_heart_rate</th></tr>\n",
              "\t<tr><th scope=col>&lt;dbl&gt;</th><th scope=col>&lt;dbl&gt;</th><th scope=col>&lt;dttm&gt;</th><th scope=col>&lt;dttm&gt;</th><th scope=col>&lt;chr&gt;</th><th scope=col>&lt;dttm&gt;</th><th scope=col>&lt;chr&gt;</th><th scope=col>&lt;dbl&gt;</th><th scope=col>&lt;drtn&gt;</th></tr>\n",
              "</thead>\n",
              "<tbody>\n",
              "\t<tr><td>67</td><td>155252</td><td>2157-12-02 00:45:00</td><td>2157-12-02 12:45:00</td><td>431</td><td>2157-12-02 01:00:00</td><td>HeartRate</td><td>1</td><td>15 mins</td></tr>\n",
              "\t<tr><td>67</td><td>155252</td><td>2157-12-02 00:45:00</td><td>2157-12-02 12:45:00</td><td>431</td><td>2157-12-02 01:15:00</td><td>HeartRate</td><td>1</td><td>30 mins</td></tr>\n",
              "\t<tr><td>67</td><td>155252</td><td>2157-12-02 00:45:00</td><td>2157-12-02 12:45:00</td><td>431</td><td>2157-12-02 01:30:00</td><td>HeartRate</td><td>1</td><td>45 mins</td></tr>\n",
              "\t<tr><td>67</td><td>155252</td><td>2157-12-02 00:45:00</td><td>2157-12-02 12:45:00</td><td>431</td><td>2157-12-02 01:40:00</td><td>HeartRate</td><td>1</td><td>55 mins</td></tr>\n",
              "\t<tr><td>67</td><td>155252</td><td>2157-12-02 00:45:00</td><td>2157-12-02 12:45:00</td><td>431</td><td>2157-12-02 01:45:00</td><td>HeartRate</td><td>1</td><td>60 mins</td></tr>\n",
              "\t<tr><td>67</td><td>155252</td><td>2157-12-02 00:45:00</td><td>2157-12-02 12:45:00</td><td>431</td><td>2157-12-02 02:00:00</td><td>HeartRate</td><td>1</td><td>75 mins</td></tr>\n",
              "</tbody>\n",
              "</table>\n"
            ]
          },
          "metadata": {}
        }
      ]
    },
    {
      "cell_type": "code",
      "metadata": {
        "id": "0zr3Ie-cqEf-"
      },
      "source": [
        "average_last_hr <- vitals_filter_hr_only %>% group_by(latest_heart_rate) %>% summarize(avg_1 = mean(latest_heart_rate))"
      ],
      "execution_count": 186,
      "outputs": []
    },
    {
      "cell_type": "code",
      "metadata": {
        "colab": {
          "base_uri": "https://localhost:8080/",
          "height": 283
        },
        "id": "jxl44AVeq7R6",
        "outputId": "da922fd9-fc53-4769-80ef-f1d12eb1b08d"
      },
      "source": [
        "head(average_last_hr)"
      ],
      "execution_count": 188,
      "outputs": [
        {
          "output_type": "display_data",
          "data": {
            "text/plain": [
              "  latest_heart_rate avg_1  \n",
              "1  2 mins            2 mins\n",
              "2  7 mins            7 mins\n",
              "3  9 mins            9 mins\n",
              "4 11 mins           11 mins\n",
              "5 15 mins           15 mins\n",
              "6 30 mins           30 mins"
            ],
            "text/latex": "A tibble: 6 × 2\n\\begin{tabular}{ll}\n latest\\_heart\\_rate & avg\\_1\\\\\n <drtn> & <drtn>\\\\\n\\hline\n\t  2 mins &  2 mins\\\\\n\t  7 mins &  7 mins\\\\\n\t  9 mins &  9 mins\\\\\n\t 11 mins & 11 mins\\\\\n\t 15 mins & 15 mins\\\\\n\t 30 mins & 30 mins\\\\\n\\end{tabular}\n",
            "text/markdown": "\nA tibble: 6 × 2\n\n| latest_heart_rate &lt;drtn&gt; | avg_1 &lt;drtn&gt; |\n|---|---|\n|  2 mins |  2 mins |\n|  7 mins |  7 mins |\n|  9 mins |  9 mins |\n| 11 mins | 11 mins |\n| 15 mins | 15 mins |\n| 30 mins | 30 mins |\n\n",
            "text/html": [
              "<table class=\"dataframe\">\n",
              "<caption>A tibble: 6 × 2</caption>\n",
              "<thead>\n",
              "\t<tr><th scope=col>latest_heart_rate</th><th scope=col>avg_1</th></tr>\n",
              "\t<tr><th scope=col>&lt;drtn&gt;</th><th scope=col>&lt;drtn&gt;</th></tr>\n",
              "</thead>\n",
              "<tbody>\n",
              "\t<tr><td> 2 mins</td><td> 2 mins</td></tr>\n",
              "\t<tr><td> 7 mins</td><td> 7 mins</td></tr>\n",
              "\t<tr><td> 9 mins</td><td> 9 mins</td></tr>\n",
              "\t<tr><td>11 mins</td><td>11 mins</td></tr>\n",
              "\t<tr><td>15 mins</td><td>15 mins</td></tr>\n",
              "\t<tr><td>30 mins</td><td>30 mins</td></tr>\n",
              "</tbody>\n",
              "</table>\n"
            ]
          },
          "metadata": {}
        }
      ]
    },
    {
      "cell_type": "code",
      "metadata": {
        "colab": {
          "base_uri": "https://localhost:8080/",
          "height": 34
        },
        "id": "gqTZZGTNrO52",
        "outputId": "d9c317ca-18a7-4ce2-cb7c-c60d6b0e72be"
      },
      "source": [
        "mean(vitals_filter_hr_only$latest_heart_rate)"
      ],
      "execution_count": 189,
      "outputs": [
        {
          "output_type": "display_data",
          "data": {
            "text/plain": [
              "Time difference of 427.934 mins"
            ]
          },
          "metadata": {}
        }
      ]
    },
    {
      "cell_type": "markdown",
      "metadata": {
        "id": "SgcB-cwtqQLi"
      },
      "source": [
        "I am not sure that I did this right as it says Time difference of."
      ]
    },
    {
      "cell_type": "markdown",
      "metadata": {
        "id": "6s5wR0Xrcwn9"
      },
      "source": [
        "-----\n",
        "##### 2.17 (4 pts)\n",
        "\n",
        "The latest recorded heart rate might not be a useful feature to use if the latest recording is not near the index time. Make a density plot of the time difference between the latest heart rate recording and the cutoff time colored by whether a patient develops septic shock. Feel free to modify the axes limits if that helps you interpret the plot.\n",
        "\n",
        "----"
      ]
    },
    {
      "cell_type": "markdown",
      "metadata": {
        "id": "zBz_KRlIcwn9"
      },
      "source": [
        "-----\n",
        "##### 2.18 (5 pts)\n",
        "Some patients might have many heart rate recordings, and only using the last one might not be the best idea- it's possible the latest measurement is an outlier. Let's try to leverage all the heart rate measurements we have by creating a time-weighted average heart rate. Use the formula $w = e^{(-|\\Delta t| - 1)}$ to calculate the weights of each measurement, where $\\Delta t$ is the time difference between the measurement time and the cutoff time in hours. Calculate the weighted average with the formula $\\bar{x}_w = \\sum(x_i w_i)/\\sum(w_i)$. The result should be a dataframe with two columns: `subject_id` and `time_wt_avg`.\n",
        "\n",
        "What is the average time-weighted average heart rate across all patients? \n",
        "\n",
        "----"
      ]
    },
    {
      "cell_type": "markdown",
      "metadata": {
        "id": "7RchFnHRcwn9"
      },
      "source": [
        "-----\n",
        "##### 2.19 (4 pts)\n",
        "Let's do a sanity check to see if what we've done makes sense. We expect that the time-weighted average heart rate and the latest recorded heart rate should be similar.\n",
        "\n",
        "Make a scatterplot of the latest recorded heart rate (x-axis) and the time-weighted average heart rate (y-axis) of each patient.\n",
        "\n",
        "----"
      ]
    },
    {
      "cell_type": "markdown",
      "metadata": {
        "id": "f1tsMN8ncwn9"
      },
      "source": [
        "### Stitching together Disease, Text and Vitals Features"
      ]
    },
    {
      "cell_type": "markdown",
      "metadata": {
        "id": "kHZsSV70cwn9"
      },
      "source": [
        "-----\n",
        "##### 2.20 (4 pts)\n",
        "Our final patient-feature matrix will simply be the amalgamation of the different feature matrices we've created. Use an outer join to combine the columns of the feature matrices from diagnoses, notes, and heart rate measurements. Not all patients have diagnoses or note features, so fill in any NA values with 0 to indicate that there were no diagnoses or notes counted. Similarily, not all subjects have heart rate measurements.  Fill null values for these features with a simple column mean imputation. Use `names` to look at all the features and make sure everything seems ok.\n",
        "\n",
        "\n",
        "How many total features are there?\n",
        "\n",
        "----"
      ]
    },
    {
      "cell_type": "markdown",
      "metadata": {
        "id": "BTfRNEJxcwn9"
      },
      "source": [
        "## 3. Open ended feature engineering - Do something cool! (20 points)"
      ]
    },
    {
      "cell_type": "markdown",
      "metadata": {
        "id": "rq4zOk3wcwn9"
      },
      "source": [
        "Having made it this far, you have picked up a few generalizable techniques that can now be used to extract features from various modalities of clinical data. To test the skills you've learned thus far, you now have free reign to get creative and derive whatever additional features you would like and use them alongside the disease, text and vitals features as input to a simple classifier. To help you with your task, we provide you with CSV files for ALL of the tables in MIMIC III where each table has been filtered to contain only the records for the patients in our small cohort. These are stored in the folder `additional_data`. To start, we provide you with some baseline code below that runs a logistic regression classifier with a Lasso L1 penalty and reports a cross-validation AUC-ROC.\n",
        "\n",
        "More concretely, do the following:\n",
        "* Outside of the features we engineered previously in the assignment, derive additional features that utilize at least five of the additional data tables. You may use tables that we have previously worked with as a part of the assignment, but we encourage you to explore these new data sources. Caveats: definition tables (e.g. d_items) do not count towards the five and using any combination of chartevents tables counts as a single table.\n",
        "* Combine your derived features into a patient-feature matrix\n",
        "* Adapt the model-fitting code provided below to your new dataset\n",
        "* Write 1-2 paragraphs discussing what and how many features you derived. Additionally, discuss the effects of those features on the performance of the classifier.\n",
        "\n",
        "Feel free to modify anything you would like in the code below to fufill your purposes. That said, you are not being evaluating the performance of your classifier and are instead being evaluated on your feature engineering procedure and discussion, so do not expend too much effort in getting a good AUC-ROC."
      ]
    },
    {
      "cell_type": "code",
      "metadata": {
        "id": "8evwZOPocwn-"
      },
      "source": [
        "# Baseline implementation - provided\n",
        "\n",
        "library(caret)\n",
        "\n",
        "# Requires caret package\n",
        "# Assumes that feature matrix from 2.22 is stored in X\n",
        "# Constructs a label vector from label_df - a dataframe containing the septic_shock labels\n",
        "\n",
        "# Pipeline automatically performs median imputation, centering, scaling, and near-zero-variance feature filtering\n",
        "\n",
        "# Runs the data through a logistic regression with a lasso penalty\n",
        "# Reports area under the receiver operating curve as performance metric\n",
        "\n",
        "baseline_df <- X %>% left_join(select(label_df, subject_id, label)) #%>% mutate()\n",
        "baseline_features <- baseline_df %>% select(-label, -subject_id) %>% as.data.frame()\n",
        "labels <- baseline_df %>% select(label) %$% relevel(factor(as.numeric(label), \n",
        "                                                                 labels = c('normal', \n",
        "                                                                            'septic_shock')), 'septic_shock')\n",
        "config <- trainControl(method=\"cv\", \n",
        "                       number=5, \n",
        "                       returnResamp=\"all\",\n",
        "                       classProbs=TRUE, \n",
        "                       summaryFunction=twoClassSummary,\n",
        "                       verboseIter = TRUE)\n",
        "\n",
        "baseline_model <- train(baseline_features, \n",
        "                             labels, \n",
        "                             preProcess = c('medianImpute', 'center', 'scale', 'nzv'),\n",
        "                             method = \"glmnet\", \n",
        "                             trControl = config,\n",
        "                             metric = \"ROC\",\n",
        "                             tuneGrid = expand.grid(alpha = 1,\n",
        "                                                    lambda = seq(0.001, 0.1, by = 0.001))\n",
        "                       )\n",
        "\n",
        "print(baseline_model$results)"
      ],
      "execution_count": null,
      "outputs": []
    },
    {
      "cell_type": "markdown",
      "metadata": {
        "id": "W7YMmHQtcwn-"
      },
      "source": [
        "----\n",
        "\n",
        "### Done!\n",
        "\n",
        "That's it! You've gone through the major steps of transforming different kinds of data stored in a longitudinal database into a patient-feature matrix that we can use for association tests and prediction tasks. Along the way we hope you have gained practice in how to effectively use the `dplyr` and `tidyr` packages to manipulate data and the `ggplot2` package to make visual diagnostics. You are well on your way to being able to perform a clinical informatics study."
      ]
    },
    {
      "cell_type": "markdown",
      "metadata": {
        "id": "e1Lbx-yrcwn-"
      },
      "source": [
        "## Feedback (0 points)\n",
        "####  How much time did you spend on this assignment?\n",
        "\n",
        "####  How much did you learn? Choose one (type your answer after the table):\n",
        "   A | B | C | D | E |\n",
        "   --|---|---|---|---|\n",
        "   a great deal |  a lot  |  a moderate amount | a little | none at all|\n",
        "\n",
        "#### Did you do any of the following: go to office hours, post on canvas, e-mail TAs? If so, which?\n",
        "\n"
      ]
    }
  ]
}